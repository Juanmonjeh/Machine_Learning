{
 "cells": [
  {
   "cell_type": "code",
   "execution_count": 1,
   "metadata": {
    "id": "IqkZM97vp-it"
   },
   "outputs": [],
   "source": [
    "import pandas as pd\n",
    "import numpy as np"
   ]
  },
  {
   "cell_type": "markdown",
   "metadata": {
    "id": "AgLcV7Toslr3"
   },
   "source": [
    "## Series\n",
    "\n",
    "Una serie es un arreglo unidimensional indexado que puede soportar diferentes tipos de datos (`int`,`float`,`string`,`objects`, etc.). \n",
    "\n",
    "Para crear una serie\n",
    "\n",
    "```s = pd.Series(data, index=index)```\n",
    "\n",
    "En este caso, data puede ser:\n",
    "- un diccionario\n",
    "- un ndarray\n",
    "- un escalar"
   ]
  },
  {
   "cell_type": "code",
   "execution_count": 2,
   "metadata": {
    "id": "Z6A2Z0B4sqGN"
   },
   "outputs": [],
   "source": [
    "s = pd.Series(np.random.randn(5), index= ['a','b','c','d','e'])"
   ]
  },
  {
   "cell_type": "code",
   "execution_count": 3,
   "metadata": {
    "colab": {
     "base_uri": "https://localhost:8080/"
    },
    "id": "8SaAYvT6sqAV",
    "outputId": "2ecba471-5f8b-4f50-a3af-4a2f036cb48a"
   },
   "outputs": [
    {
     "data": {
      "text/plain": [
       "a    0.675521\n",
       "b    0.588226\n",
       "c   -0.609911\n",
       "d   -1.539766\n",
       "e    0.380584\n",
       "dtype: float64"
      ]
     },
     "execution_count": 3,
     "metadata": {},
     "output_type": "execute_result"
    }
   ],
   "source": [
    "s"
   ]
  },
  {
   "cell_type": "code",
   "execution_count": 4,
   "metadata": {
    "colab": {
     "base_uri": "https://localhost:8080/"
    },
    "id": "eGOZB2IIXTJd",
    "outputId": "cbd430ac-c78f-4f71-98f3-449014d12c36"
   },
   "outputs": [
    {
     "data": {
      "text/plain": [
       "pandas.core.series.Series"
      ]
     },
     "execution_count": 4,
     "metadata": {},
     "output_type": "execute_result"
    }
   ],
   "source": [
    "type(s)"
   ]
  },
  {
   "cell_type": "code",
   "execution_count": 7,
   "metadata": {
    "colab": {
     "base_uri": "https://localhost:8080/"
    },
    "id": "tJiCLxFjsp7k",
    "outputId": "b8169f9b-a960-4226-b8a9-a8b75597d416"
   },
   "outputs": [
    {
     "data": {
      "text/plain": [
       "Index(['a', 'b', 'c', 'd', 'e'], dtype='object')"
      ]
     },
     "execution_count": 7,
     "metadata": {},
     "output_type": "execute_result"
    }
   ],
   "source": [
    "s.index"
   ]
  },
  {
   "cell_type": "code",
   "execution_count": 8,
   "metadata": {
    "colab": {
     "base_uri": "https://localhost:8080/"
    },
    "id": "VY3YZk4Csp1X",
    "outputId": "6c862072-d923-48b5-dd1a-48ff482e00b3"
   },
   "outputs": [
    {
     "data": {
      "text/plain": [
       "0    0.519943\n",
       "1    2.480828\n",
       "2   -0.604857\n",
       "3    1.036046\n",
       "4    1.137022\n",
       "dtype: float64"
      ]
     },
     "execution_count": 8,
     "metadata": {},
     "output_type": "execute_result"
    }
   ],
   "source": [
    "pd.Series(np.random.randn(5))"
   ]
  },
  {
   "cell_type": "code",
   "execution_count": 9,
   "metadata": {
    "id": "aZAWkNYuspq7"
   },
   "outputs": [],
   "source": [
    "d = {'b':1, 'a':0, 'c':2}"
   ]
  },
  {
   "cell_type": "code",
   "execution_count": 10,
   "metadata": {
    "colab": {
     "base_uri": "https://localhost:8080/"
    },
    "id": "o_-7vpbBwfYV",
    "outputId": "6a91634b-988a-4f1d-9661-afa4e1b10ade"
   },
   "outputs": [
    {
     "data": {
      "text/plain": [
       "b    1\n",
       "a    0\n",
       "c    2\n",
       "dtype: int64"
      ]
     },
     "execution_count": 10,
     "metadata": {},
     "output_type": "execute_result"
    }
   ],
   "source": [
    "pd.Series(d)"
   ]
  },
  {
   "cell_type": "code",
   "execution_count": 11,
   "metadata": {
    "colab": {
     "base_uri": "https://localhost:8080/"
    },
    "id": "N7EbmikqwfSG",
    "outputId": "1e878f44-06a6-4fb9-c959-39a4b915d43f"
   },
   "outputs": [
    {
     "data": {
      "text/plain": [
       "a    0\n",
       "b    1\n",
       "c    2\n",
       "dtype: int64"
      ]
     },
     "execution_count": 11,
     "metadata": {},
     "output_type": "execute_result"
    }
   ],
   "source": [
    "pd.Series(d, index=['a','b','c'])"
   ]
  },
  {
   "cell_type": "code",
   "execution_count": 12,
   "metadata": {
    "colab": {
     "base_uri": "https://localhost:8080/"
    },
    "id": "O3VY36wdwfM1",
    "outputId": "343cfd75-3f77-42c5-e146-30240335ba3e"
   },
   "outputs": [
    {
     "data": {
      "text/plain": [
       "a    0.0\n",
       "b    1.0\n",
       "c    2.0\n",
       "d    NaN\n",
       "dtype: float64"
      ]
     },
     "execution_count": 12,
     "metadata": {},
     "output_type": "execute_result"
    }
   ],
   "source": [
    "pd.Series(d, index=['a','b','c','d'])"
   ]
  },
  {
   "cell_type": "markdown",
   "metadata": {
    "id": "auKdPIZqw820"
   },
   "source": [
    "Aquí aparece por primera vez `NaN` que significa not a number."
   ]
  },
  {
   "cell_type": "code",
   "execution_count": 13,
   "metadata": {
    "colab": {
     "base_uri": "https://localhost:8080/"
    },
    "id": "DiEbatd5wfJ8",
    "outputId": "f07f73aa-73b9-4ed3-b992-110d8d7cc120"
   },
   "outputs": [
    {
     "data": {
      "text/plain": [
       "0    5\n",
       "1    5\n",
       "2    5\n",
       "3    5\n",
       "4    5\n",
       "dtype: int64"
      ]
     },
     "execution_count": 13,
     "metadata": {},
     "output_type": "execute_result"
    }
   ],
   "source": [
    "pd.Series(5, index=range(5))"
   ]
  },
  {
   "cell_type": "code",
   "execution_count": 16,
   "metadata": {
    "colab": {
     "base_uri": "https://localhost:8080/"
    },
    "id": "bSMtl9-TwfE0",
    "outputId": "ef39054e-b89e-4e19-d01a-f77b430a10fe"
   },
   "outputs": [
    {
     "data": {
      "text/plain": [
       "0    5\n",
       "dtype: int64"
      ]
     },
     "execution_count": 16,
     "metadata": {},
     "output_type": "execute_result"
    }
   ],
   "source": [
    "pd.Series(5)"
   ]
  },
  {
   "cell_type": "markdown",
   "metadata": {
    "id": "HPzTW5Aqxew2"
   },
   "source": [
    "Si queremos acceder a los elementos de la serie, se pueden utilizar los mismos métodos de los `ndarray`."
   ]
  },
  {
   "cell_type": "code",
   "execution_count": 17,
   "metadata": {
    "colab": {
     "base_uri": "https://localhost:8080/"
    },
    "id": "6WGCum-GxeM5",
    "outputId": "219f862c-032b-438f-a3e9-60a47316467f"
   },
   "outputs": [
    {
     "data": {
      "text/plain": [
       "a    0.675521\n",
       "b    0.588226\n",
       "c   -0.609911\n",
       "d   -1.539766\n",
       "e    0.380584\n",
       "dtype: float64"
      ]
     },
     "execution_count": 17,
     "metadata": {},
     "output_type": "execute_result"
    }
   ],
   "source": [
    "s"
   ]
  },
  {
   "cell_type": "code",
   "execution_count": 18,
   "metadata": {
    "colab": {
     "base_uri": "https://localhost:8080/"
    },
    "id": "UwM63D4mwe_d",
    "outputId": "eac6ee7e-371c-4492-c8d1-c6cf686c3005"
   },
   "outputs": [
    {
     "data": {
      "text/plain": [
       "0.6755213469290614"
      ]
     },
     "execution_count": 18,
     "metadata": {},
     "output_type": "execute_result"
    }
   ],
   "source": [
    "s[0]"
   ]
  },
  {
   "cell_type": "code",
   "execution_count": 19,
   "metadata": {
    "colab": {
     "base_uri": "https://localhost:8080/"
    },
    "id": "D5HLud2Rwe6N",
    "outputId": "dccf4e7e-70cb-4377-d71d-7d1fe6d02d26"
   },
   "outputs": [
    {
     "data": {
      "text/plain": [
       "a    0.675521\n",
       "b    0.588226\n",
       "c   -0.609911\n",
       "dtype: float64"
      ]
     },
     "execution_count": 19,
     "metadata": {},
     "output_type": "execute_result"
    }
   ],
   "source": [
    "s[:3]"
   ]
  },
  {
   "cell_type": "code",
   "execution_count": 20,
   "metadata": {
    "colab": {
     "base_uri": "https://localhost:8080/"
    },
    "id": "0Q6vVQ6qweuD",
    "outputId": "e7bb8ee3-cfb7-4c5b-f2b2-56739c67d688"
   },
   "outputs": [
    {
     "data": {
      "text/plain": [
       "0.6755213469290614"
      ]
     },
     "execution_count": 20,
     "metadata": {},
     "output_type": "execute_result"
    }
   ],
   "source": [
    "s['a']"
   ]
  },
  {
   "cell_type": "code",
   "execution_count": 21,
   "metadata": {
    "colab": {
     "base_uri": "https://localhost:8080/"
    },
    "id": "s6QUxiIeweqy",
    "outputId": "71347b21-ee03-48b1-9380-2bb43bfb5491"
   },
   "outputs": [
    {
     "data": {
      "text/plain": [
       "0.5882263671867354"
      ]
     },
     "execution_count": 21,
     "metadata": {},
     "output_type": "execute_result"
    }
   ],
   "source": [
    "s['b']"
   ]
  },
  {
   "cell_type": "code",
   "execution_count": null,
   "metadata": {
    "id": "8BVoyZwxZTJI"
   },
   "outputs": [],
   "source": [
    "s['f']"
   ]
  },
  {
   "cell_type": "markdown",
   "metadata": {
    "id": "G61nKnyDx3Hi"
   },
   "source": [
    "La serie soporta operaciones como los `ndarray`."
   ]
  },
  {
   "cell_type": "code",
   "execution_count": 23,
   "metadata": {
    "colab": {
     "base_uri": "https://localhost:8080/"
    },
    "id": "DhhW5BtGwekh",
    "outputId": "bd1d68ff-3c71-4335-9ec0-05563609526f"
   },
   "outputs": [
    {
     "data": {
      "text/plain": [
       "a    1.351043\n",
       "b    1.176453\n",
       "c   -1.219822\n",
       "d   -3.079532\n",
       "e    0.761168\n",
       "dtype: float64"
      ]
     },
     "execution_count": 23,
     "metadata": {},
     "output_type": "execute_result"
    }
   ],
   "source": [
    "s + s"
   ]
  },
  {
   "cell_type": "code",
   "execution_count": 24,
   "metadata": {
    "colab": {
     "base_uri": "https://localhost:8080/"
    },
    "id": "NPOZqucMwegT",
    "outputId": "fc605b44-e4c6-420b-9a8c-c5521659e95d"
   },
   "outputs": [
    {
     "data": {
      "text/plain": [
       "a    1.351043\n",
       "b    1.176453\n",
       "c   -1.219822\n",
       "d   -3.079532\n",
       "e    0.761168\n",
       "dtype: float64"
      ]
     },
     "execution_count": 24,
     "metadata": {},
     "output_type": "execute_result"
    }
   ],
   "source": [
    "s * 2"
   ]
  },
  {
   "cell_type": "code",
   "execution_count": 25,
   "metadata": {
    "colab": {
     "base_uri": "https://localhost:8080/"
    },
    "id": "Xx67Em3UwedD",
    "outputId": "2c0d2b13-c504-4102-c4a6-71de16ab1d52"
   },
   "outputs": [
    {
     "data": {
      "text/plain": [
       "a    1.965057\n",
       "b    1.800792\n",
       "c    0.543399\n",
       "d    0.214431\n",
       "e    1.463139\n",
       "dtype: float64"
      ]
     },
     "execution_count": 25,
     "metadata": {},
     "output_type": "execute_result"
    }
   ],
   "source": [
    "np.exp(s)"
   ]
  },
  {
   "cell_type": "markdown",
   "metadata": {
    "id": "BZPmoBPvyIwt"
   },
   "source": [
    "Algunos atributos de las series"
   ]
  },
  {
   "cell_type": "code",
   "execution_count": 26,
   "metadata": {
    "colab": {
     "base_uri": "https://localhost:8080/"
    },
    "id": "GAxYCJyTyIWN",
    "outputId": "1a6384f9-f06a-475d-f95c-c330133c3593"
   },
   "outputs": [
    {
     "data": {
      "text/plain": [
       "<PandasArray>\n",
       "[ 0.6755213469290614,  0.5882263671867354, -0.6099109574907965,\n",
       " -1.5397657573636154,  0.3805839451901605]\n",
       "Length: 5, dtype: float64"
      ]
     },
     "execution_count": 26,
     "metadata": {},
     "output_type": "execute_result"
    }
   ],
   "source": [
    "s.array"
   ]
  },
  {
   "cell_type": "code",
   "execution_count": 27,
   "metadata": {
    "colab": {
     "base_uri": "https://localhost:8080/"
    },
    "id": "8VhuCu4ryBGV",
    "outputId": "ef332962-a4d8-4a9b-c9ba-673f10ec4df8"
   },
   "outputs": [
    {
     "data": {
      "text/plain": [
       "dtype('float64')"
      ]
     },
     "execution_count": 27,
     "metadata": {},
     "output_type": "execute_result"
    }
   ],
   "source": [
    "s.dtypes"
   ]
  },
  {
   "cell_type": "code",
   "execution_count": 28,
   "metadata": {
    "colab": {
     "base_uri": "https://localhost:8080/"
    },
    "id": "aBC3Dp4IyA9z",
    "outputId": "6d510057-a0bf-43d1-f47f-faf69bd3691f"
   },
   "outputs": [
    {
     "data": {
      "text/plain": [
       "-0.10106901110969095"
      ]
     },
     "execution_count": 28,
     "metadata": {},
     "output_type": "execute_result"
    }
   ],
   "source": [
    "s.mean()"
   ]
  },
  {
   "cell_type": "code",
   "execution_count": 29,
   "metadata": {
    "colab": {
     "base_uri": "https://localhost:8080/"
    },
    "id": "-PtTEFEFyA1Q",
    "outputId": "f3664734-aa58-462f-dc98-57df24aa4d0c"
   },
   "outputs": [
    {
     "data": {
      "text/plain": [
       "0.3805839451901605"
      ]
     },
     "execution_count": 29,
     "metadata": {},
     "output_type": "execute_result"
    }
   ],
   "source": [
    "s.median()"
   ]
  },
  {
   "cell_type": "code",
   "execution_count": 30,
   "metadata": {
    "colab": {
     "base_uri": "https://localhost:8080/"
    },
    "id": "uMjghlu6yAsU",
    "outputId": "ff4eb5da-f277-453e-8ffa-4519e9218c22"
   },
   "outputs": [
    {
     "data": {
      "text/plain": [
       "0.6755213469290614"
      ]
     },
     "execution_count": 30,
     "metadata": {},
     "output_type": "execute_result"
    }
   ],
   "source": [
    "s.max()"
   ]
  },
  {
   "cell_type": "code",
   "execution_count": 31,
   "metadata": {
    "colab": {
     "base_uri": "https://localhost:8080/"
    },
    "id": "GqEFExemyAhh",
    "outputId": "9561b65f-2353-42b6-d4be-ed9fdfd34cc4"
   },
   "outputs": [
    {
     "data": {
      "text/plain": [
       "-1.5397657573636154"
      ]
     },
     "execution_count": 31,
     "metadata": {},
     "output_type": "execute_result"
    }
   ],
   "source": [
    "s.min()"
   ]
  },
  {
   "cell_type": "markdown",
   "metadata": {
    "id": "slOX70F0snd2"
   },
   "source": [
    "## DataFrames\n",
    "\n",
    "Un DataFrame es una estructura de datos bidimensional etiquetada con columnas de diferentes tipos. Se puede pensar como una spreadsheet o una tabla de SQL.\n",
    "\n",
    "- Diccionarios con arreglos de una dimensión `ndarray`, listas, diccionarios o series.\n",
    "\n",
    "- `numpy.ndarray` de dos dimensiones\n",
    "\n",
    "- Series\n",
    "\n",
    "- Otro DataFrame\n",
    "\n",
    "Junto con los datos se pueden incluir los argumentos **index** (etiquetas de las filas) y **columns** (etiquetas de las columnas)."
   ]
  },
  {
   "cell_type": "code",
   "execution_count": 32,
   "metadata": {
    "id": "-f3V6lv4sq0Q"
   },
   "outputs": [],
   "source": [
    "d = {'foo': pd.Series([1,2,3], index=['a','b','c']),\n",
    "     'bar': pd.Series([1,2,3,4], index=['a','b','c','d'])}"
   ]
  },
  {
   "cell_type": "code",
   "execution_count": 33,
   "metadata": {
    "id": "opZdO78-sqv6"
   },
   "outputs": [],
   "source": [
    "df = pd.DataFrame(d)"
   ]
  },
  {
   "cell_type": "code",
   "execution_count": 34,
   "metadata": {
    "colab": {
     "base_uri": "https://localhost:8080/",
     "height": 173
    },
    "id": "zxz6j8mosqqJ",
    "outputId": "dfdfc8ee-0e0b-48ba-fe8f-bcc5353d94a4"
   },
   "outputs": [
    {
     "data": {
      "text/html": [
       "<div>\n",
       "<style scoped>\n",
       "    .dataframe tbody tr th:only-of-type {\n",
       "        vertical-align: middle;\n",
       "    }\n",
       "\n",
       "    .dataframe tbody tr th {\n",
       "        vertical-align: top;\n",
       "    }\n",
       "\n",
       "    .dataframe thead th {\n",
       "        text-align: right;\n",
       "    }\n",
       "</style>\n",
       "<table border=\"1\" class=\"dataframe\">\n",
       "  <thead>\n",
       "    <tr style=\"text-align: right;\">\n",
       "      <th></th>\n",
       "      <th>foo</th>\n",
       "      <th>bar</th>\n",
       "    </tr>\n",
       "  </thead>\n",
       "  <tbody>\n",
       "    <tr>\n",
       "      <th>a</th>\n",
       "      <td>1.0</td>\n",
       "      <td>1</td>\n",
       "    </tr>\n",
       "    <tr>\n",
       "      <th>b</th>\n",
       "      <td>2.0</td>\n",
       "      <td>2</td>\n",
       "    </tr>\n",
       "    <tr>\n",
       "      <th>c</th>\n",
       "      <td>3.0</td>\n",
       "      <td>3</td>\n",
       "    </tr>\n",
       "    <tr>\n",
       "      <th>d</th>\n",
       "      <td>NaN</td>\n",
       "      <td>4</td>\n",
       "    </tr>\n",
       "  </tbody>\n",
       "</table>\n",
       "</div>"
      ],
      "text/plain": [
       "   foo  bar\n",
       "a  1.0    1\n",
       "b  2.0    2\n",
       "c  3.0    3\n",
       "d  NaN    4"
      ]
     },
     "execution_count": 34,
     "metadata": {},
     "output_type": "execute_result"
    }
   ],
   "source": [
    "df"
   ]
  },
  {
   "cell_type": "code",
   "execution_count": 35,
   "metadata": {
    "colab": {
     "base_uri": "https://localhost:8080/",
     "height": 142
    },
    "id": "hCCAQHL4sqja",
    "outputId": "070fa19e-ecb8-4144-82dc-0a09f0e648a4"
   },
   "outputs": [
    {
     "data": {
      "text/html": [
       "<div>\n",
       "<style scoped>\n",
       "    .dataframe tbody tr th:only-of-type {\n",
       "        vertical-align: middle;\n",
       "    }\n",
       "\n",
       "    .dataframe tbody tr th {\n",
       "        vertical-align: top;\n",
       "    }\n",
       "\n",
       "    .dataframe thead th {\n",
       "        text-align: right;\n",
       "    }\n",
       "</style>\n",
       "<table border=\"1\" class=\"dataframe\">\n",
       "  <thead>\n",
       "    <tr style=\"text-align: right;\">\n",
       "      <th></th>\n",
       "      <th>foo</th>\n",
       "      <th>bar</th>\n",
       "    </tr>\n",
       "  </thead>\n",
       "  <tbody>\n",
       "    <tr>\n",
       "      <th>d</th>\n",
       "      <td>NaN</td>\n",
       "      <td>4</td>\n",
       "    </tr>\n",
       "    <tr>\n",
       "      <th>b</th>\n",
       "      <td>2.0</td>\n",
       "      <td>2</td>\n",
       "    </tr>\n",
       "    <tr>\n",
       "      <th>a</th>\n",
       "      <td>1.0</td>\n",
       "      <td>1</td>\n",
       "    </tr>\n",
       "  </tbody>\n",
       "</table>\n",
       "</div>"
      ],
      "text/plain": [
       "   foo  bar\n",
       "d  NaN    4\n",
       "b  2.0    2\n",
       "a  1.0    1"
      ]
     },
     "execution_count": 35,
     "metadata": {},
     "output_type": "execute_result"
    }
   ],
   "source": [
    "pd.DataFrame(d, index=['d','b','a'])"
   ]
  },
  {
   "cell_type": "code",
   "execution_count": 36,
   "metadata": {
    "colab": {
     "base_uri": "https://localhost:8080/",
     "height": 173
    },
    "id": "vivg0JZoz_FH",
    "outputId": "6ea9aa5a-aa52-4e3e-a341-b1c53509d0a5"
   },
   "outputs": [
    {
     "data": {
      "text/html": [
       "<div>\n",
       "<style scoped>\n",
       "    .dataframe tbody tr th:only-of-type {\n",
       "        vertical-align: middle;\n",
       "    }\n",
       "\n",
       "    .dataframe tbody tr th {\n",
       "        vertical-align: top;\n",
       "    }\n",
       "\n",
       "    .dataframe thead th {\n",
       "        text-align: right;\n",
       "    }\n",
       "</style>\n",
       "<table border=\"1\" class=\"dataframe\">\n",
       "  <thead>\n",
       "    <tr style=\"text-align: right;\">\n",
       "      <th></th>\n",
       "      <th>foo</th>\n",
       "      <th>bar</th>\n",
       "    </tr>\n",
       "  </thead>\n",
       "  <tbody>\n",
       "    <tr>\n",
       "      <th>d</th>\n",
       "      <td>NaN</td>\n",
       "      <td>4.0</td>\n",
       "    </tr>\n",
       "    <tr>\n",
       "      <th>b</th>\n",
       "      <td>2.0</td>\n",
       "      <td>2.0</td>\n",
       "    </tr>\n",
       "    <tr>\n",
       "      <th>a</th>\n",
       "      <td>1.0</td>\n",
       "      <td>1.0</td>\n",
       "    </tr>\n",
       "    <tr>\n",
       "      <th>m</th>\n",
       "      <td>NaN</td>\n",
       "      <td>NaN</td>\n",
       "    </tr>\n",
       "  </tbody>\n",
       "</table>\n",
       "</div>"
      ],
      "text/plain": [
       "   foo  bar\n",
       "d  NaN  4.0\n",
       "b  2.0  2.0\n",
       "a  1.0  1.0\n",
       "m  NaN  NaN"
      ]
     },
     "execution_count": 36,
     "metadata": {},
     "output_type": "execute_result"
    }
   ],
   "source": [
    "pd.DataFrame(d, index=['d','b','a','m'])"
   ]
  },
  {
   "cell_type": "code",
   "execution_count": 37,
   "metadata": {
    "colab": {
     "base_uri": "https://localhost:8080/"
    },
    "id": "uvl_Qh9qslEC",
    "outputId": "95fb7992-0904-4ae2-b982-18704d7cfbe9"
   },
   "outputs": [
    {
     "data": {
      "text/plain": [
       "Index(['a', 'b', 'c', 'd'], dtype='object')"
      ]
     },
     "execution_count": 37,
     "metadata": {},
     "output_type": "execute_result"
    }
   ],
   "source": [
    "df.index"
   ]
  },
  {
   "cell_type": "code",
   "execution_count": 38,
   "metadata": {
    "colab": {
     "base_uri": "https://localhost:8080/"
    },
    "id": "v0bvtJRLqB9E",
    "outputId": "d1ad8167-0628-48e7-e2cf-9266e6158b63"
   },
   "outputs": [
    {
     "data": {
      "text/plain": [
       "Index(['foo', 'bar'], dtype='object')"
      ]
     },
     "execution_count": 38,
     "metadata": {},
     "output_type": "execute_result"
    }
   ],
   "source": [
    "df.columns"
   ]
  },
  {
   "cell_type": "code",
   "execution_count": 43,
   "metadata": {
    "id": "LKhh6gld0Xpw"
   },
   "outputs": [],
   "source": [
    "d = {'foo':[1,2,3,4],\n",
    "     'bar':[4,3,2,1]}"
   ]
  },
  {
   "cell_type": "code",
   "execution_count": 44,
   "metadata": {
    "colab": {
     "base_uri": "https://localhost:8080/",
     "height": 173
    },
    "id": "Q8kHFHx10dwx",
    "outputId": "15c0bbb4-871f-4c7a-ae91-e214c6361cfd"
   },
   "outputs": [
    {
     "data": {
      "text/html": [
       "<div>\n",
       "<style scoped>\n",
       "    .dataframe tbody tr th:only-of-type {\n",
       "        vertical-align: middle;\n",
       "    }\n",
       "\n",
       "    .dataframe tbody tr th {\n",
       "        vertical-align: top;\n",
       "    }\n",
       "\n",
       "    .dataframe thead th {\n",
       "        text-align: right;\n",
       "    }\n",
       "</style>\n",
       "<table border=\"1\" class=\"dataframe\">\n",
       "  <thead>\n",
       "    <tr style=\"text-align: right;\">\n",
       "      <th></th>\n",
       "      <th>foo</th>\n",
       "      <th>bar</th>\n",
       "    </tr>\n",
       "  </thead>\n",
       "  <tbody>\n",
       "    <tr>\n",
       "      <th>0</th>\n",
       "      <td>1</td>\n",
       "      <td>4</td>\n",
       "    </tr>\n",
       "    <tr>\n",
       "      <th>1</th>\n",
       "      <td>2</td>\n",
       "      <td>3</td>\n",
       "    </tr>\n",
       "    <tr>\n",
       "      <th>2</th>\n",
       "      <td>3</td>\n",
       "      <td>2</td>\n",
       "    </tr>\n",
       "    <tr>\n",
       "      <th>3</th>\n",
       "      <td>4</td>\n",
       "      <td>1</td>\n",
       "    </tr>\n",
       "  </tbody>\n",
       "</table>\n",
       "</div>"
      ],
      "text/plain": [
       "   foo  bar\n",
       "0    1    4\n",
       "1    2    3\n",
       "2    3    2\n",
       "3    4    1"
      ]
     },
     "execution_count": 44,
     "metadata": {},
     "output_type": "execute_result"
    }
   ],
   "source": [
    "pd.DataFrame(d)"
   ]
  },
  {
   "cell_type": "code",
   "execution_count": 45,
   "metadata": {
    "colab": {
     "base_uri": "https://localhost:8080/",
     "height": 173
    },
    "id": "XBlPgLwZ0evF",
    "outputId": "46a42c44-72b9-447a-db99-887e5b546194"
   },
   "outputs": [
    {
     "data": {
      "text/html": [
       "<div>\n",
       "<style scoped>\n",
       "    .dataframe tbody tr th:only-of-type {\n",
       "        vertical-align: middle;\n",
       "    }\n",
       "\n",
       "    .dataframe tbody tr th {\n",
       "        vertical-align: top;\n",
       "    }\n",
       "\n",
       "    .dataframe thead th {\n",
       "        text-align: right;\n",
       "    }\n",
       "</style>\n",
       "<table border=\"1\" class=\"dataframe\">\n",
       "  <thead>\n",
       "    <tr style=\"text-align: right;\">\n",
       "      <th></th>\n",
       "      <th>foo</th>\n",
       "      <th>bar</th>\n",
       "    </tr>\n",
       "  </thead>\n",
       "  <tbody>\n",
       "    <tr>\n",
       "      <th>a</th>\n",
       "      <td>1</td>\n",
       "      <td>4</td>\n",
       "    </tr>\n",
       "    <tr>\n",
       "      <th>b</th>\n",
       "      <td>2</td>\n",
       "      <td>3</td>\n",
       "    </tr>\n",
       "    <tr>\n",
       "      <th>c</th>\n",
       "      <td>3</td>\n",
       "      <td>2</td>\n",
       "    </tr>\n",
       "    <tr>\n",
       "      <th>d</th>\n",
       "      <td>4</td>\n",
       "      <td>1</td>\n",
       "    </tr>\n",
       "  </tbody>\n",
       "</table>\n",
       "</div>"
      ],
      "text/plain": [
       "   foo  bar\n",
       "a    1    4\n",
       "b    2    3\n",
       "c    3    2\n",
       "d    4    1"
      ]
     },
     "execution_count": 45,
     "metadata": {},
     "output_type": "execute_result"
    }
   ],
   "source": [
    "pd.DataFrame(d, index=['a','b','c','d'])"
   ]
  },
  {
   "cell_type": "markdown",
   "metadata": {
    "id": "42aJ4Uru0_4_"
   },
   "source": [
    "### Seleccionar, agregar, eliminar"
   ]
  },
  {
   "cell_type": "code",
   "execution_count": 46,
   "metadata": {
    "id": "NkgZ0LYt0q6z"
   },
   "outputs": [],
   "source": [
    "df = pd.DataFrame(np.random.randint(0,100,10000).reshape(2000,5),\n",
    "                  columns=['A','B','C','D','E'])"
   ]
  },
  {
   "cell_type": "code",
   "execution_count": 50,
   "metadata": {
    "colab": {
     "base_uri": "https://localhost:8080/",
     "height": 204
    },
    "id": "1Ws3b0jc1M_5",
    "outputId": "f9109e35-8bdf-4807-b243-7259d1f8f2a8"
   },
   "outputs": [
    {
     "data": {
      "text/html": [
       "<div>\n",
       "<style scoped>\n",
       "    .dataframe tbody tr th:only-of-type {\n",
       "        vertical-align: middle;\n",
       "    }\n",
       "\n",
       "    .dataframe tbody tr th {\n",
       "        vertical-align: top;\n",
       "    }\n",
       "\n",
       "    .dataframe thead th {\n",
       "        text-align: right;\n",
       "    }\n",
       "</style>\n",
       "<table border=\"1\" class=\"dataframe\">\n",
       "  <thead>\n",
       "    <tr style=\"text-align: right;\">\n",
       "      <th></th>\n",
       "      <th>A</th>\n",
       "      <th>B</th>\n",
       "      <th>C</th>\n",
       "      <th>D</th>\n",
       "      <th>E</th>\n",
       "    </tr>\n",
       "  </thead>\n",
       "  <tbody>\n",
       "    <tr>\n",
       "      <th>0</th>\n",
       "      <td>13</td>\n",
       "      <td>85</td>\n",
       "      <td>41</td>\n",
       "      <td>32</td>\n",
       "      <td>63</td>\n",
       "    </tr>\n",
       "    <tr>\n",
       "      <th>1</th>\n",
       "      <td>91</td>\n",
       "      <td>59</td>\n",
       "      <td>94</td>\n",
       "      <td>44</td>\n",
       "      <td>46</td>\n",
       "    </tr>\n",
       "    <tr>\n",
       "      <th>2</th>\n",
       "      <td>55</td>\n",
       "      <td>6</td>\n",
       "      <td>63</td>\n",
       "      <td>25</td>\n",
       "      <td>36</td>\n",
       "    </tr>\n",
       "    <tr>\n",
       "      <th>3</th>\n",
       "      <td>43</td>\n",
       "      <td>62</td>\n",
       "      <td>79</td>\n",
       "      <td>95</td>\n",
       "      <td>14</td>\n",
       "    </tr>\n",
       "    <tr>\n",
       "      <th>4</th>\n",
       "      <td>66</td>\n",
       "      <td>47</td>\n",
       "      <td>34</td>\n",
       "      <td>48</td>\n",
       "      <td>82</td>\n",
       "    </tr>\n",
       "  </tbody>\n",
       "</table>\n",
       "</div>"
      ],
      "text/plain": [
       "    A   B   C   D   E\n",
       "0  13  85  41  32  63\n",
       "1  91  59  94  44  46\n",
       "2  55   6  63  25  36\n",
       "3  43  62  79  95  14\n",
       "4  66  47  34  48  82"
      ]
     },
     "execution_count": 50,
     "metadata": {},
     "output_type": "execute_result"
    }
   ],
   "source": [
    "df.head()"
   ]
  },
  {
   "cell_type": "code",
   "execution_count": 51,
   "metadata": {
    "colab": {
     "base_uri": "https://localhost:8080/",
     "height": 204
    },
    "id": "FEmVJZkG1NT2",
    "outputId": "ff061e60-78c1-40a0-fab7-1cb120cd45cb"
   },
   "outputs": [
    {
     "data": {
      "text/html": [
       "<div>\n",
       "<style scoped>\n",
       "    .dataframe tbody tr th:only-of-type {\n",
       "        vertical-align: middle;\n",
       "    }\n",
       "\n",
       "    .dataframe tbody tr th {\n",
       "        vertical-align: top;\n",
       "    }\n",
       "\n",
       "    .dataframe thead th {\n",
       "        text-align: right;\n",
       "    }\n",
       "</style>\n",
       "<table border=\"1\" class=\"dataframe\">\n",
       "  <thead>\n",
       "    <tr style=\"text-align: right;\">\n",
       "      <th></th>\n",
       "      <th>A</th>\n",
       "      <th>B</th>\n",
       "      <th>C</th>\n",
       "      <th>D</th>\n",
       "      <th>E</th>\n",
       "    </tr>\n",
       "  </thead>\n",
       "  <tbody>\n",
       "    <tr>\n",
       "      <th>1995</th>\n",
       "      <td>79</td>\n",
       "      <td>8</td>\n",
       "      <td>1</td>\n",
       "      <td>69</td>\n",
       "      <td>70</td>\n",
       "    </tr>\n",
       "    <tr>\n",
       "      <th>1996</th>\n",
       "      <td>70</td>\n",
       "      <td>3</td>\n",
       "      <td>29</td>\n",
       "      <td>12</td>\n",
       "      <td>37</td>\n",
       "    </tr>\n",
       "    <tr>\n",
       "      <th>1997</th>\n",
       "      <td>24</td>\n",
       "      <td>86</td>\n",
       "      <td>63</td>\n",
       "      <td>39</td>\n",
       "      <td>59</td>\n",
       "    </tr>\n",
       "    <tr>\n",
       "      <th>1998</th>\n",
       "      <td>69</td>\n",
       "      <td>27</td>\n",
       "      <td>61</td>\n",
       "      <td>46</td>\n",
       "      <td>20</td>\n",
       "    </tr>\n",
       "    <tr>\n",
       "      <th>1999</th>\n",
       "      <td>83</td>\n",
       "      <td>68</td>\n",
       "      <td>68</td>\n",
       "      <td>49</td>\n",
       "      <td>46</td>\n",
       "    </tr>\n",
       "  </tbody>\n",
       "</table>\n",
       "</div>"
      ],
      "text/plain": [
       "       A   B   C   D   E\n",
       "1995  79   8   1  69  70\n",
       "1996  70   3  29  12  37\n",
       "1997  24  86  63  39  59\n",
       "1998  69  27  61  46  20\n",
       "1999  83  68  68  49  46"
      ]
     },
     "execution_count": 51,
     "metadata": {},
     "output_type": "execute_result"
    }
   ],
   "source": [
    "df.tail()"
   ]
  },
  {
   "cell_type": "code",
   "execution_count": 53,
   "metadata": {
    "colab": {
     "base_uri": "https://localhost:8080/"
    },
    "id": "98uCAQZIdA3Y",
    "outputId": "844bdb24-6f2a-4c91-e799-069768e86190"
   },
   "outputs": [
    {
     "data": {
      "text/plain": [
       "Index(['A', 'B', 'C', 'D', 'E'], dtype='object')"
      ]
     },
     "execution_count": 53,
     "metadata": {},
     "output_type": "execute_result"
    }
   ],
   "source": [
    "df.columns"
   ]
  },
  {
   "cell_type": "code",
   "execution_count": 55,
   "metadata": {
    "colab": {
     "base_uri": "https://localhost:8080/"
    },
    "id": "SVGNflKx1P-x",
    "outputId": "a3cfc58e-9ade-4870-aa50-326053b191dc"
   },
   "outputs": [
    {
     "data": {
      "text/plain": [
       "0       13\n",
       "1       91\n",
       "2       55\n",
       "3       43\n",
       "4       66\n",
       "        ..\n",
       "1995    79\n",
       "1996    70\n",
       "1997    24\n",
       "1998    69\n",
       "1999    83\n",
       "Name: A, Length: 2000, dtype: int64"
      ]
     },
     "execution_count": 55,
     "metadata": {},
     "output_type": "execute_result"
    }
   ],
   "source": [
    "df['A']"
   ]
  },
  {
   "cell_type": "code",
   "execution_count": 56,
   "metadata": {
    "id": "1-YfvJ8L1XR5"
   },
   "outputs": [],
   "source": [
    "df['F'] = df['E']+df['D']"
   ]
  },
  {
   "cell_type": "code",
   "execution_count": 57,
   "metadata": {
    "colab": {
     "base_uri": "https://localhost:8080/",
     "height": 204
    },
    "id": "My7X9Vp11rd4",
    "outputId": "44cf591c-0ae3-4863-9972-368a3c5bc853"
   },
   "outputs": [
    {
     "data": {
      "text/html": [
       "<div>\n",
       "<style scoped>\n",
       "    .dataframe tbody tr th:only-of-type {\n",
       "        vertical-align: middle;\n",
       "    }\n",
       "\n",
       "    .dataframe tbody tr th {\n",
       "        vertical-align: top;\n",
       "    }\n",
       "\n",
       "    .dataframe thead th {\n",
       "        text-align: right;\n",
       "    }\n",
       "</style>\n",
       "<table border=\"1\" class=\"dataframe\">\n",
       "  <thead>\n",
       "    <tr style=\"text-align: right;\">\n",
       "      <th></th>\n",
       "      <th>A</th>\n",
       "      <th>B</th>\n",
       "      <th>C</th>\n",
       "      <th>D</th>\n",
       "      <th>E</th>\n",
       "      <th>F</th>\n",
       "    </tr>\n",
       "  </thead>\n",
       "  <tbody>\n",
       "    <tr>\n",
       "      <th>0</th>\n",
       "      <td>13</td>\n",
       "      <td>85</td>\n",
       "      <td>41</td>\n",
       "      <td>32</td>\n",
       "      <td>63</td>\n",
       "      <td>95</td>\n",
       "    </tr>\n",
       "    <tr>\n",
       "      <th>1</th>\n",
       "      <td>91</td>\n",
       "      <td>59</td>\n",
       "      <td>94</td>\n",
       "      <td>44</td>\n",
       "      <td>46</td>\n",
       "      <td>90</td>\n",
       "    </tr>\n",
       "    <tr>\n",
       "      <th>2</th>\n",
       "      <td>55</td>\n",
       "      <td>6</td>\n",
       "      <td>63</td>\n",
       "      <td>25</td>\n",
       "      <td>36</td>\n",
       "      <td>61</td>\n",
       "    </tr>\n",
       "    <tr>\n",
       "      <th>3</th>\n",
       "      <td>43</td>\n",
       "      <td>62</td>\n",
       "      <td>79</td>\n",
       "      <td>95</td>\n",
       "      <td>14</td>\n",
       "      <td>109</td>\n",
       "    </tr>\n",
       "    <tr>\n",
       "      <th>4</th>\n",
       "      <td>66</td>\n",
       "      <td>47</td>\n",
       "      <td>34</td>\n",
       "      <td>48</td>\n",
       "      <td>82</td>\n",
       "      <td>130</td>\n",
       "    </tr>\n",
       "  </tbody>\n",
       "</table>\n",
       "</div>"
      ],
      "text/plain": [
       "    A   B   C   D   E    F\n",
       "0  13  85  41  32  63   95\n",
       "1  91  59  94  44  46   90\n",
       "2  55   6  63  25  36   61\n",
       "3  43  62  79  95  14  109\n",
       "4  66  47  34  48  82  130"
      ]
     },
     "execution_count": 57,
     "metadata": {},
     "output_type": "execute_result"
    }
   ],
   "source": [
    "df.head(10)"
   ]
  },
  {
   "cell_type": "code",
   "execution_count": 61,
   "metadata": {
    "id": "vr_5m1Ps1scy"
   },
   "outputs": [],
   "source": [
    "del df['A']"
   ]
  },
  {
   "cell_type": "code",
   "execution_count": 62,
   "metadata": {
    "colab": {
     "base_uri": "https://localhost:8080/",
     "height": 204
    },
    "id": "4hYozgUxeH39",
    "outputId": "37d8c4de-18c1-4476-f53c-5a4ca7fdb5c6"
   },
   "outputs": [
    {
     "data": {
      "text/html": [
       "<div>\n",
       "<style scoped>\n",
       "    .dataframe tbody tr th:only-of-type {\n",
       "        vertical-align: middle;\n",
       "    }\n",
       "\n",
       "    .dataframe tbody tr th {\n",
       "        vertical-align: top;\n",
       "    }\n",
       "\n",
       "    .dataframe thead th {\n",
       "        text-align: right;\n",
       "    }\n",
       "</style>\n",
       "<table border=\"1\" class=\"dataframe\">\n",
       "  <thead>\n",
       "    <tr style=\"text-align: right;\">\n",
       "      <th></th>\n",
       "      <th>B</th>\n",
       "      <th>C</th>\n",
       "      <th>D</th>\n",
       "      <th>E</th>\n",
       "      <th>F</th>\n",
       "    </tr>\n",
       "  </thead>\n",
       "  <tbody>\n",
       "    <tr>\n",
       "      <th>0</th>\n",
       "      <td>85</td>\n",
       "      <td>41</td>\n",
       "      <td>32</td>\n",
       "      <td>63</td>\n",
       "      <td>95</td>\n",
       "    </tr>\n",
       "    <tr>\n",
       "      <th>1</th>\n",
       "      <td>59</td>\n",
       "      <td>94</td>\n",
       "      <td>44</td>\n",
       "      <td>46</td>\n",
       "      <td>90</td>\n",
       "    </tr>\n",
       "    <tr>\n",
       "      <th>2</th>\n",
       "      <td>6</td>\n",
       "      <td>63</td>\n",
       "      <td>25</td>\n",
       "      <td>36</td>\n",
       "      <td>61</td>\n",
       "    </tr>\n",
       "    <tr>\n",
       "      <th>3</th>\n",
       "      <td>62</td>\n",
       "      <td>79</td>\n",
       "      <td>95</td>\n",
       "      <td>14</td>\n",
       "      <td>109</td>\n",
       "    </tr>\n",
       "    <tr>\n",
       "      <th>4</th>\n",
       "      <td>47</td>\n",
       "      <td>34</td>\n",
       "      <td>48</td>\n",
       "      <td>82</td>\n",
       "      <td>130</td>\n",
       "    </tr>\n",
       "  </tbody>\n",
       "</table>\n",
       "</div>"
      ],
      "text/plain": [
       "    B   C   D   E    F\n",
       "0  85  41  32  63   95\n",
       "1  59  94  44  46   90\n",
       "2   6  63  25  36   61\n",
       "3  62  79  95  14  109\n",
       "4  47  34  48  82  130"
      ]
     },
     "execution_count": 62,
     "metadata": {},
     "output_type": "execute_result"
    }
   ],
   "source": [
    "df.head()"
   ]
  },
  {
   "cell_type": "code",
   "execution_count": null,
   "metadata": {
    "id": "2lLf2A5Y1wri"
   },
   "outputs": [],
   "source": [
    "df.pop('B')"
   ]
  },
  {
   "cell_type": "code",
   "execution_count": 64,
   "metadata": {
    "colab": {
     "base_uri": "https://localhost:8080/",
     "height": 204
    },
    "id": "232gCwHv2URS",
    "outputId": "fd594c7c-11fc-46ae-9586-21ed055a46e2"
   },
   "outputs": [
    {
     "data": {
      "text/html": [
       "<div>\n",
       "<style scoped>\n",
       "    .dataframe tbody tr th:only-of-type {\n",
       "        vertical-align: middle;\n",
       "    }\n",
       "\n",
       "    .dataframe tbody tr th {\n",
       "        vertical-align: top;\n",
       "    }\n",
       "\n",
       "    .dataframe thead th {\n",
       "        text-align: right;\n",
       "    }\n",
       "</style>\n",
       "<table border=\"1\" class=\"dataframe\">\n",
       "  <thead>\n",
       "    <tr style=\"text-align: right;\">\n",
       "      <th></th>\n",
       "      <th>C</th>\n",
       "      <th>D</th>\n",
       "      <th>E</th>\n",
       "      <th>F</th>\n",
       "    </tr>\n",
       "  </thead>\n",
       "  <tbody>\n",
       "    <tr>\n",
       "      <th>0</th>\n",
       "      <td>41</td>\n",
       "      <td>32</td>\n",
       "      <td>63</td>\n",
       "      <td>95</td>\n",
       "    </tr>\n",
       "    <tr>\n",
       "      <th>1</th>\n",
       "      <td>94</td>\n",
       "      <td>44</td>\n",
       "      <td>46</td>\n",
       "      <td>90</td>\n",
       "    </tr>\n",
       "    <tr>\n",
       "      <th>2</th>\n",
       "      <td>63</td>\n",
       "      <td>25</td>\n",
       "      <td>36</td>\n",
       "      <td>61</td>\n",
       "    </tr>\n",
       "    <tr>\n",
       "      <th>3</th>\n",
       "      <td>79</td>\n",
       "      <td>95</td>\n",
       "      <td>14</td>\n",
       "      <td>109</td>\n",
       "    </tr>\n",
       "    <tr>\n",
       "      <th>4</th>\n",
       "      <td>34</td>\n",
       "      <td>48</td>\n",
       "      <td>82</td>\n",
       "      <td>130</td>\n",
       "    </tr>\n",
       "  </tbody>\n",
       "</table>\n",
       "</div>"
      ],
      "text/plain": [
       "    C   D   E    F\n",
       "0  41  32  63   95\n",
       "1  94  44  46   90\n",
       "2  63  25  36   61\n",
       "3  79  95  14  109\n",
       "4  34  48  82  130"
      ]
     },
     "execution_count": 64,
     "metadata": {},
     "output_type": "execute_result"
    }
   ],
   "source": [
    "df.head()"
   ]
  },
  {
   "cell_type": "code",
   "execution_count": 65,
   "metadata": {
    "id": "tXYtJ1Cx2Vjt"
   },
   "outputs": [],
   "source": [
    "df.insert(2,'nueva',4)"
   ]
  },
  {
   "cell_type": "code",
   "execution_count": 66,
   "metadata": {
    "colab": {
     "base_uri": "https://localhost:8080/",
     "height": 204
    },
    "id": "pEqXBUHB2jRn",
    "outputId": "23447592-65c0-420b-a41f-2d62053d9f06"
   },
   "outputs": [
    {
     "data": {
      "text/html": [
       "<div>\n",
       "<style scoped>\n",
       "    .dataframe tbody tr th:only-of-type {\n",
       "        vertical-align: middle;\n",
       "    }\n",
       "\n",
       "    .dataframe tbody tr th {\n",
       "        vertical-align: top;\n",
       "    }\n",
       "\n",
       "    .dataframe thead th {\n",
       "        text-align: right;\n",
       "    }\n",
       "</style>\n",
       "<table border=\"1\" class=\"dataframe\">\n",
       "  <thead>\n",
       "    <tr style=\"text-align: right;\">\n",
       "      <th></th>\n",
       "      <th>C</th>\n",
       "      <th>D</th>\n",
       "      <th>nueva</th>\n",
       "      <th>E</th>\n",
       "      <th>F</th>\n",
       "    </tr>\n",
       "  </thead>\n",
       "  <tbody>\n",
       "    <tr>\n",
       "      <th>0</th>\n",
       "      <td>41</td>\n",
       "      <td>32</td>\n",
       "      <td>4</td>\n",
       "      <td>63</td>\n",
       "      <td>95</td>\n",
       "    </tr>\n",
       "    <tr>\n",
       "      <th>1</th>\n",
       "      <td>94</td>\n",
       "      <td>44</td>\n",
       "      <td>4</td>\n",
       "      <td>46</td>\n",
       "      <td>90</td>\n",
       "    </tr>\n",
       "    <tr>\n",
       "      <th>2</th>\n",
       "      <td>63</td>\n",
       "      <td>25</td>\n",
       "      <td>4</td>\n",
       "      <td>36</td>\n",
       "      <td>61</td>\n",
       "    </tr>\n",
       "    <tr>\n",
       "      <th>3</th>\n",
       "      <td>79</td>\n",
       "      <td>95</td>\n",
       "      <td>4</td>\n",
       "      <td>14</td>\n",
       "      <td>109</td>\n",
       "    </tr>\n",
       "    <tr>\n",
       "      <th>4</th>\n",
       "      <td>34</td>\n",
       "      <td>48</td>\n",
       "      <td>4</td>\n",
       "      <td>82</td>\n",
       "      <td>130</td>\n",
       "    </tr>\n",
       "  </tbody>\n",
       "</table>\n",
       "</div>"
      ],
      "text/plain": [
       "    C   D  nueva   E    F\n",
       "0  41  32      4  63   95\n",
       "1  94  44      4  46   90\n",
       "2  63  25      4  36   61\n",
       "3  79  95      4  14  109\n",
       "4  34  48      4  82  130"
      ]
     },
     "execution_count": 66,
     "metadata": {},
     "output_type": "execute_result"
    }
   ],
   "source": [
    "df.head()"
   ]
  },
  {
   "cell_type": "markdown",
   "metadata": {
    "id": "M4eyMs2j3ELc"
   },
   "source": [
    "Parecido al método `mutate` de `dplyr`, los DataFrames cuentan con el método `assign`. Esta operación no se hace en el lugar, sino que crea una copia del DataFrame para mantener el original intacto."
   ]
  },
  {
   "cell_type": "code",
   "execution_count": 67,
   "metadata": {
    "colab": {
     "base_uri": "https://localhost:8080/",
     "height": 419
    },
    "id": "UXR4Ilby2j07",
    "outputId": "31c40f8c-9432-4100-fb42-0d54715b60f3"
   },
   "outputs": [
    {
     "data": {
      "text/html": [
       "<div>\n",
       "<style scoped>\n",
       "    .dataframe tbody tr th:only-of-type {\n",
       "        vertical-align: middle;\n",
       "    }\n",
       "\n",
       "    .dataframe tbody tr th {\n",
       "        vertical-align: top;\n",
       "    }\n",
       "\n",
       "    .dataframe thead th {\n",
       "        text-align: right;\n",
       "    }\n",
       "</style>\n",
       "<table border=\"1\" class=\"dataframe\">\n",
       "  <thead>\n",
       "    <tr style=\"text-align: right;\">\n",
       "      <th></th>\n",
       "      <th>C</th>\n",
       "      <th>D</th>\n",
       "      <th>nueva</th>\n",
       "      <th>E</th>\n",
       "      <th>F</th>\n",
       "      <th>nuevo_nombre</th>\n",
       "    </tr>\n",
       "  </thead>\n",
       "  <tbody>\n",
       "    <tr>\n",
       "      <th>0</th>\n",
       "      <td>41</td>\n",
       "      <td>32</td>\n",
       "      <td>4</td>\n",
       "      <td>63</td>\n",
       "      <td>95</td>\n",
       "      <td>45</td>\n",
       "    </tr>\n",
       "    <tr>\n",
       "      <th>1</th>\n",
       "      <td>94</td>\n",
       "      <td>44</td>\n",
       "      <td>4</td>\n",
       "      <td>46</td>\n",
       "      <td>90</td>\n",
       "      <td>98</td>\n",
       "    </tr>\n",
       "    <tr>\n",
       "      <th>2</th>\n",
       "      <td>63</td>\n",
       "      <td>25</td>\n",
       "      <td>4</td>\n",
       "      <td>36</td>\n",
       "      <td>61</td>\n",
       "      <td>67</td>\n",
       "    </tr>\n",
       "    <tr>\n",
       "      <th>3</th>\n",
       "      <td>79</td>\n",
       "      <td>95</td>\n",
       "      <td>4</td>\n",
       "      <td>14</td>\n",
       "      <td>109</td>\n",
       "      <td>83</td>\n",
       "    </tr>\n",
       "    <tr>\n",
       "      <th>4</th>\n",
       "      <td>34</td>\n",
       "      <td>48</td>\n",
       "      <td>4</td>\n",
       "      <td>82</td>\n",
       "      <td>130</td>\n",
       "      <td>38</td>\n",
       "    </tr>\n",
       "    <tr>\n",
       "      <th>...</th>\n",
       "      <td>...</td>\n",
       "      <td>...</td>\n",
       "      <td>...</td>\n",
       "      <td>...</td>\n",
       "      <td>...</td>\n",
       "      <td>...</td>\n",
       "    </tr>\n",
       "    <tr>\n",
       "      <th>1995</th>\n",
       "      <td>1</td>\n",
       "      <td>69</td>\n",
       "      <td>4</td>\n",
       "      <td>70</td>\n",
       "      <td>139</td>\n",
       "      <td>5</td>\n",
       "    </tr>\n",
       "    <tr>\n",
       "      <th>1996</th>\n",
       "      <td>29</td>\n",
       "      <td>12</td>\n",
       "      <td>4</td>\n",
       "      <td>37</td>\n",
       "      <td>49</td>\n",
       "      <td>33</td>\n",
       "    </tr>\n",
       "    <tr>\n",
       "      <th>1997</th>\n",
       "      <td>63</td>\n",
       "      <td>39</td>\n",
       "      <td>4</td>\n",
       "      <td>59</td>\n",
       "      <td>98</td>\n",
       "      <td>67</td>\n",
       "    </tr>\n",
       "    <tr>\n",
       "      <th>1998</th>\n",
       "      <td>61</td>\n",
       "      <td>46</td>\n",
       "      <td>4</td>\n",
       "      <td>20</td>\n",
       "      <td>66</td>\n",
       "      <td>65</td>\n",
       "    </tr>\n",
       "    <tr>\n",
       "      <th>1999</th>\n",
       "      <td>68</td>\n",
       "      <td>49</td>\n",
       "      <td>4</td>\n",
       "      <td>46</td>\n",
       "      <td>95</td>\n",
       "      <td>72</td>\n",
       "    </tr>\n",
       "  </tbody>\n",
       "</table>\n",
       "<p>2000 rows × 6 columns</p>\n",
       "</div>"
      ],
      "text/plain": [
       "       C   D  nueva   E    F  nuevo_nombre\n",
       "0     41  32      4  63   95            45\n",
       "1     94  44      4  46   90            98\n",
       "2     63  25      4  36   61            67\n",
       "3     79  95      4  14  109            83\n",
       "4     34  48      4  82  130            38\n",
       "...   ..  ..    ...  ..  ...           ...\n",
       "1995   1  69      4  70  139             5\n",
       "1996  29  12      4  37   49            33\n",
       "1997  63  39      4  59   98            67\n",
       "1998  61  46      4  20   66            65\n",
       "1999  68  49      4  46   95            72\n",
       "\n",
       "[2000 rows x 6 columns]"
      ]
     },
     "execution_count": 67,
     "metadata": {},
     "output_type": "execute_result"
    }
   ],
   "source": [
    "df.assign(nuevo_nombre=df['C']+df['nueva'])"
   ]
  },
  {
   "cell_type": "markdown",
   "metadata": {
    "id": "179gv1wo3hKv"
   },
   "source": [
    "Seleccionar o indexar\n",
    "\n",
    "\n",
    "|Operación|Sintaxis|Resultado|\n",
    "|-----|----|---|\n",
    "|Seleccionar columna|`df[col]`|Serie|\n",
    "|Seleccionar fila por label| `df.loc[label]`|Serie|\n",
    "|Seleccionar fila por ubicación|`df.iloc[loc]`|Serie|\n",
    "|Slicing en las filas|`df[5:10]`|DataFrame|\n",
    "|Seleccionar filas por vectores booleanos |`df[bool_vec]`|DataFrame|"
   ]
  },
  {
   "cell_type": "code",
   "execution_count": 68,
   "metadata": {
    "colab": {
     "base_uri": "https://localhost:8080/"
    },
    "id": "fmGw4r1Y3g2W",
    "outputId": "3a64a18d-103b-43a9-8fa9-3b06e3659080"
   },
   "outputs": [
    {
     "data": {
      "text/plain": [
       "0    41\n",
       "1    94\n",
       "2    63\n",
       "3    79\n",
       "4    34\n",
       "Name: C, dtype: int64"
      ]
     },
     "execution_count": 68,
     "metadata": {},
     "output_type": "execute_result"
    }
   ],
   "source": [
    "df['C'].head()"
   ]
  },
  {
   "cell_type": "code",
   "execution_count": 69,
   "metadata": {
    "colab": {
     "base_uri": "https://localhost:8080/",
     "height": 111
    },
    "id": "3xLSlykO3YEn",
    "outputId": "0829593e-85cc-4276-fb98-1a2ca494c2f2"
   },
   "outputs": [
    {
     "data": {
      "text/html": [
       "<div>\n",
       "<style scoped>\n",
       "    .dataframe tbody tr th:only-of-type {\n",
       "        vertical-align: middle;\n",
       "    }\n",
       "\n",
       "    .dataframe tbody tr th {\n",
       "        vertical-align: top;\n",
       "    }\n",
       "\n",
       "    .dataframe thead th {\n",
       "        text-align: right;\n",
       "    }\n",
       "</style>\n",
       "<table border=\"1\" class=\"dataframe\">\n",
       "  <thead>\n",
       "    <tr style=\"text-align: right;\">\n",
       "      <th></th>\n",
       "      <th>C</th>\n",
       "      <th>D</th>\n",
       "      <th>nueva</th>\n",
       "      <th>E</th>\n",
       "      <th>F</th>\n",
       "    </tr>\n",
       "  </thead>\n",
       "  <tbody>\n",
       "    <tr>\n",
       "      <th>0</th>\n",
       "      <td>41</td>\n",
       "      <td>32</td>\n",
       "      <td>4</td>\n",
       "      <td>63</td>\n",
       "      <td>95</td>\n",
       "    </tr>\n",
       "    <tr>\n",
       "      <th>2</th>\n",
       "      <td>63</td>\n",
       "      <td>25</td>\n",
       "      <td>4</td>\n",
       "      <td>36</td>\n",
       "      <td>61</td>\n",
       "    </tr>\n",
       "  </tbody>\n",
       "</table>\n",
       "</div>"
      ],
      "text/plain": [
       "    C   D  nueva   E   F\n",
       "0  41  32      4  63  95\n",
       "2  63  25      4  36  61"
      ]
     },
     "execution_count": 69,
     "metadata": {},
     "output_type": "execute_result"
    }
   ],
   "source": [
    "df.loc[0:3:2]"
   ]
  },
  {
   "cell_type": "code",
   "execution_count": 70,
   "metadata": {
    "colab": {
     "base_uri": "https://localhost:8080/",
     "height": 173
    },
    "id": "FMis3njk4j9a",
    "outputId": "b9658241-4831-437c-9c0a-42ec8d05531d"
   },
   "outputs": [
    {
     "data": {
      "text/html": [
       "<div>\n",
       "<style scoped>\n",
       "    .dataframe tbody tr th:only-of-type {\n",
       "        vertical-align: middle;\n",
       "    }\n",
       "\n",
       "    .dataframe tbody tr th {\n",
       "        vertical-align: top;\n",
       "    }\n",
       "\n",
       "    .dataframe thead th {\n",
       "        text-align: right;\n",
       "    }\n",
       "</style>\n",
       "<table border=\"1\" class=\"dataframe\">\n",
       "  <thead>\n",
       "    <tr style=\"text-align: right;\">\n",
       "      <th></th>\n",
       "      <th>C</th>\n",
       "      <th>D</th>\n",
       "      <th>nueva</th>\n",
       "    </tr>\n",
       "  </thead>\n",
       "  <tbody>\n",
       "    <tr>\n",
       "      <th>0</th>\n",
       "      <td>41</td>\n",
       "      <td>32</td>\n",
       "      <td>4</td>\n",
       "    </tr>\n",
       "    <tr>\n",
       "      <th>1</th>\n",
       "      <td>94</td>\n",
       "      <td>44</td>\n",
       "      <td>4</td>\n",
       "    </tr>\n",
       "    <tr>\n",
       "      <th>2</th>\n",
       "      <td>63</td>\n",
       "      <td>25</td>\n",
       "      <td>4</td>\n",
       "    </tr>\n",
       "    <tr>\n",
       "      <th>3</th>\n",
       "      <td>79</td>\n",
       "      <td>95</td>\n",
       "      <td>4</td>\n",
       "    </tr>\n",
       "  </tbody>\n",
       "</table>\n",
       "</div>"
      ],
      "text/plain": [
       "    C   D  nueva\n",
       "0  41  32      4\n",
       "1  94  44      4\n",
       "2  63  25      4\n",
       "3  79  95      4"
      ]
     },
     "execution_count": 70,
     "metadata": {},
     "output_type": "execute_result"
    }
   ],
   "source": [
    "df.iloc[0:4,0:3]"
   ]
  },
  {
   "cell_type": "code",
   "execution_count": 71,
   "metadata": {
    "colab": {
     "base_uri": "https://localhost:8080/",
     "height": 204
    },
    "id": "8hMlDtmw45vc",
    "outputId": "d590b2f5-90a3-4877-fb4e-31621bb1ba8e"
   },
   "outputs": [
    {
     "data": {
      "text/html": [
       "<div>\n",
       "<style scoped>\n",
       "    .dataframe tbody tr th:only-of-type {\n",
       "        vertical-align: middle;\n",
       "    }\n",
       "\n",
       "    .dataframe tbody tr th {\n",
       "        vertical-align: top;\n",
       "    }\n",
       "\n",
       "    .dataframe thead th {\n",
       "        text-align: right;\n",
       "    }\n",
       "</style>\n",
       "<table border=\"1\" class=\"dataframe\">\n",
       "  <thead>\n",
       "    <tr style=\"text-align: right;\">\n",
       "      <th></th>\n",
       "      <th>C</th>\n",
       "      <th>D</th>\n",
       "      <th>nueva</th>\n",
       "      <th>E</th>\n",
       "      <th>F</th>\n",
       "    </tr>\n",
       "  </thead>\n",
       "  <tbody>\n",
       "    <tr>\n",
       "      <th>5</th>\n",
       "      <td>28</td>\n",
       "      <td>18</td>\n",
       "      <td>4</td>\n",
       "      <td>86</td>\n",
       "      <td>104</td>\n",
       "    </tr>\n",
       "    <tr>\n",
       "      <th>6</th>\n",
       "      <td>67</td>\n",
       "      <td>56</td>\n",
       "      <td>4</td>\n",
       "      <td>72</td>\n",
       "      <td>128</td>\n",
       "    </tr>\n",
       "    <tr>\n",
       "      <th>7</th>\n",
       "      <td>5</td>\n",
       "      <td>0</td>\n",
       "      <td>4</td>\n",
       "      <td>14</td>\n",
       "      <td>14</td>\n",
       "    </tr>\n",
       "    <tr>\n",
       "      <th>8</th>\n",
       "      <td>64</td>\n",
       "      <td>23</td>\n",
       "      <td>4</td>\n",
       "      <td>48</td>\n",
       "      <td>71</td>\n",
       "    </tr>\n",
       "    <tr>\n",
       "      <th>9</th>\n",
       "      <td>0</td>\n",
       "      <td>99</td>\n",
       "      <td>4</td>\n",
       "      <td>22</td>\n",
       "      <td>121</td>\n",
       "    </tr>\n",
       "  </tbody>\n",
       "</table>\n",
       "</div>"
      ],
      "text/plain": [
       "    C   D  nueva   E    F\n",
       "5  28  18      4  86  104\n",
       "6  67  56      4  72  128\n",
       "7   5   0      4  14   14\n",
       "8  64  23      4  48   71\n",
       "9   0  99      4  22  121"
      ]
     },
     "execution_count": 71,
     "metadata": {},
     "output_type": "execute_result"
    }
   ],
   "source": [
    "df[5:10]"
   ]
  },
  {
   "cell_type": "markdown",
   "metadata": {
    "id": "yCln3zYs5UtJ"
   },
   "source": [
    "Con `pandas` se pueden leer distintos formatos:\n",
    "\n",
    "- excel\n",
    "- stata\n",
    "- sas\n",
    "- SQL\n",
    "- CSV"
   ]
  },
  {
   "cell_type": "code",
   "execution_count": 72,
   "metadata": {
    "id": "LyMtN9JY5UaB"
   },
   "outputs": [],
   "source": [
    "data = pd.read_csv('/content/sample_data/california_housing_train.csv')"
   ]
  },
  {
   "cell_type": "code",
   "execution_count": 73,
   "metadata": {
    "colab": {
     "base_uri": "https://localhost:8080/",
     "height": 204
    },
    "id": "PH9EwYzZ5CHz",
    "outputId": "6aa34d5b-a019-449c-f06d-d4badf60df06"
   },
   "outputs": [
    {
     "data": {
      "text/html": [
       "<div>\n",
       "<style scoped>\n",
       "    .dataframe tbody tr th:only-of-type {\n",
       "        vertical-align: middle;\n",
       "    }\n",
       "\n",
       "    .dataframe tbody tr th {\n",
       "        vertical-align: top;\n",
       "    }\n",
       "\n",
       "    .dataframe thead th {\n",
       "        text-align: right;\n",
       "    }\n",
       "</style>\n",
       "<table border=\"1\" class=\"dataframe\">\n",
       "  <thead>\n",
       "    <tr style=\"text-align: right;\">\n",
       "      <th></th>\n",
       "      <th>longitude</th>\n",
       "      <th>latitude</th>\n",
       "      <th>housing_median_age</th>\n",
       "      <th>total_rooms</th>\n",
       "      <th>total_bedrooms</th>\n",
       "      <th>population</th>\n",
       "      <th>households</th>\n",
       "      <th>median_income</th>\n",
       "      <th>median_house_value</th>\n",
       "    </tr>\n",
       "  </thead>\n",
       "  <tbody>\n",
       "    <tr>\n",
       "      <th>0</th>\n",
       "      <td>-114.31</td>\n",
       "      <td>34.19</td>\n",
       "      <td>15.0</td>\n",
       "      <td>5612.0</td>\n",
       "      <td>1283.0</td>\n",
       "      <td>1015.0</td>\n",
       "      <td>472.0</td>\n",
       "      <td>1.4936</td>\n",
       "      <td>66900.0</td>\n",
       "    </tr>\n",
       "    <tr>\n",
       "      <th>1</th>\n",
       "      <td>-114.47</td>\n",
       "      <td>34.40</td>\n",
       "      <td>19.0</td>\n",
       "      <td>7650.0</td>\n",
       "      <td>1901.0</td>\n",
       "      <td>1129.0</td>\n",
       "      <td>463.0</td>\n",
       "      <td>1.8200</td>\n",
       "      <td>80100.0</td>\n",
       "    </tr>\n",
       "    <tr>\n",
       "      <th>2</th>\n",
       "      <td>-114.56</td>\n",
       "      <td>33.69</td>\n",
       "      <td>17.0</td>\n",
       "      <td>720.0</td>\n",
       "      <td>174.0</td>\n",
       "      <td>333.0</td>\n",
       "      <td>117.0</td>\n",
       "      <td>1.6509</td>\n",
       "      <td>85700.0</td>\n",
       "    </tr>\n",
       "    <tr>\n",
       "      <th>3</th>\n",
       "      <td>-114.57</td>\n",
       "      <td>33.64</td>\n",
       "      <td>14.0</td>\n",
       "      <td>1501.0</td>\n",
       "      <td>337.0</td>\n",
       "      <td>515.0</td>\n",
       "      <td>226.0</td>\n",
       "      <td>3.1917</td>\n",
       "      <td>73400.0</td>\n",
       "    </tr>\n",
       "    <tr>\n",
       "      <th>4</th>\n",
       "      <td>-114.57</td>\n",
       "      <td>33.57</td>\n",
       "      <td>20.0</td>\n",
       "      <td>1454.0</td>\n",
       "      <td>326.0</td>\n",
       "      <td>624.0</td>\n",
       "      <td>262.0</td>\n",
       "      <td>1.9250</td>\n",
       "      <td>65500.0</td>\n",
       "    </tr>\n",
       "  </tbody>\n",
       "</table>\n",
       "</div>"
      ],
      "text/plain": [
       "   longitude  latitude  ...  median_income  median_house_value\n",
       "0    -114.31     34.19  ...         1.4936             66900.0\n",
       "1    -114.47     34.40  ...         1.8200             80100.0\n",
       "2    -114.56     33.69  ...         1.6509             85700.0\n",
       "3    -114.57     33.64  ...         3.1917             73400.0\n",
       "4    -114.57     33.57  ...         1.9250             65500.0\n",
       "\n",
       "[5 rows x 9 columns]"
      ]
     },
     "execution_count": 73,
     "metadata": {},
     "output_type": "execute_result"
    }
   ],
   "source": [
    "data.head()"
   ]
  },
  {
   "cell_type": "code",
   "execution_count": 74,
   "metadata": {
    "colab": {
     "base_uri": "https://localhost:8080/",
     "height": 204
    },
    "id": "AHQZY5xX6BMx",
    "outputId": "8ebe1149-5fa6-4449-92d0-d36d0e19a06d"
   },
   "outputs": [
    {
     "data": {
      "text/html": [
       "<div>\n",
       "<style scoped>\n",
       "    .dataframe tbody tr th:only-of-type {\n",
       "        vertical-align: middle;\n",
       "    }\n",
       "\n",
       "    .dataframe tbody tr th {\n",
       "        vertical-align: top;\n",
       "    }\n",
       "\n",
       "    .dataframe thead th {\n",
       "        text-align: right;\n",
       "    }\n",
       "</style>\n",
       "<table border=\"1\" class=\"dataframe\">\n",
       "  <thead>\n",
       "    <tr style=\"text-align: right;\">\n",
       "      <th></th>\n",
       "      <th>longitude</th>\n",
       "      <th>latitude</th>\n",
       "      <th>housing_median_age</th>\n",
       "      <th>total_rooms</th>\n",
       "      <th>total_bedrooms</th>\n",
       "      <th>population</th>\n",
       "      <th>households</th>\n",
       "      <th>median_income</th>\n",
       "      <th>median_house_value</th>\n",
       "    </tr>\n",
       "  </thead>\n",
       "  <tbody>\n",
       "    <tr>\n",
       "      <th>16995</th>\n",
       "      <td>-124.26</td>\n",
       "      <td>40.58</td>\n",
       "      <td>52.0</td>\n",
       "      <td>2217.0</td>\n",
       "      <td>394.0</td>\n",
       "      <td>907.0</td>\n",
       "      <td>369.0</td>\n",
       "      <td>2.3571</td>\n",
       "      <td>111400.0</td>\n",
       "    </tr>\n",
       "    <tr>\n",
       "      <th>16996</th>\n",
       "      <td>-124.27</td>\n",
       "      <td>40.69</td>\n",
       "      <td>36.0</td>\n",
       "      <td>2349.0</td>\n",
       "      <td>528.0</td>\n",
       "      <td>1194.0</td>\n",
       "      <td>465.0</td>\n",
       "      <td>2.5179</td>\n",
       "      <td>79000.0</td>\n",
       "    </tr>\n",
       "    <tr>\n",
       "      <th>16997</th>\n",
       "      <td>-124.30</td>\n",
       "      <td>41.84</td>\n",
       "      <td>17.0</td>\n",
       "      <td>2677.0</td>\n",
       "      <td>531.0</td>\n",
       "      <td>1244.0</td>\n",
       "      <td>456.0</td>\n",
       "      <td>3.0313</td>\n",
       "      <td>103600.0</td>\n",
       "    </tr>\n",
       "    <tr>\n",
       "      <th>16998</th>\n",
       "      <td>-124.30</td>\n",
       "      <td>41.80</td>\n",
       "      <td>19.0</td>\n",
       "      <td>2672.0</td>\n",
       "      <td>552.0</td>\n",
       "      <td>1298.0</td>\n",
       "      <td>478.0</td>\n",
       "      <td>1.9797</td>\n",
       "      <td>85800.0</td>\n",
       "    </tr>\n",
       "    <tr>\n",
       "      <th>16999</th>\n",
       "      <td>-124.35</td>\n",
       "      <td>40.54</td>\n",
       "      <td>52.0</td>\n",
       "      <td>1820.0</td>\n",
       "      <td>300.0</td>\n",
       "      <td>806.0</td>\n",
       "      <td>270.0</td>\n",
       "      <td>3.0147</td>\n",
       "      <td>94600.0</td>\n",
       "    </tr>\n",
       "  </tbody>\n",
       "</table>\n",
       "</div>"
      ],
      "text/plain": [
       "       longitude  latitude  ...  median_income  median_house_value\n",
       "16995    -124.26     40.58  ...         2.3571            111400.0\n",
       "16996    -124.27     40.69  ...         2.5179             79000.0\n",
       "16997    -124.30     41.84  ...         3.0313            103600.0\n",
       "16998    -124.30     41.80  ...         1.9797             85800.0\n",
       "16999    -124.35     40.54  ...         3.0147             94600.0\n",
       "\n",
       "[5 rows x 9 columns]"
      ]
     },
     "execution_count": 74,
     "metadata": {},
     "output_type": "execute_result"
    }
   ],
   "source": [
    "data.tail()"
   ]
  },
  {
   "cell_type": "code",
   "execution_count": 78,
   "metadata": {
    "colab": {
     "base_uri": "https://localhost:8080/"
    },
    "id": "mvhipEVxklkZ",
    "outputId": "fbd5a4ae-6f2b-4248-86b1-36e8189d8c10"
   },
   "outputs": [
    {
     "data": {
      "text/plain": [
       "Index(['longitude', 'latitude', 'housing_median_age', 'total_rooms',\n",
       "       'total_bedrooms', 'population', 'households', 'median_income',\n",
       "       'median_house_value'],\n",
       "      dtype='object')"
      ]
     },
     "execution_count": 78,
     "metadata": {},
     "output_type": "execute_result"
    }
   ],
   "source": [
    "data.columns"
   ]
  },
  {
   "cell_type": "code",
   "execution_count": 75,
   "metadata": {
    "colab": {
     "base_uri": "https://localhost:8080/"
    },
    "id": "DWoWE-bL6Hh-",
    "outputId": "03f2944f-e742-467b-f936-afa3130998dd"
   },
   "outputs": [
    {
     "name": "stdout",
     "output_type": "stream",
     "text": [
      "<class 'pandas.core.frame.DataFrame'>\n",
      "RangeIndex: 17000 entries, 0 to 16999\n",
      "Data columns (total 9 columns):\n",
      " #   Column              Non-Null Count  Dtype  \n",
      "---  ------              --------------  -----  \n",
      " 0   longitude           17000 non-null  float64\n",
      " 1   latitude            17000 non-null  float64\n",
      " 2   housing_median_age  17000 non-null  float64\n",
      " 3   total_rooms         17000 non-null  float64\n",
      " 4   total_bedrooms      17000 non-null  float64\n",
      " 5   population          17000 non-null  float64\n",
      " 6   households          17000 non-null  float64\n",
      " 7   median_income       17000 non-null  float64\n",
      " 8   median_house_value  17000 non-null  float64\n",
      "dtypes: float64(9)\n",
      "memory usage: 1.2 MB\n"
     ]
    }
   ],
   "source": [
    "data.info()"
   ]
  },
  {
   "cell_type": "code",
   "execution_count": 82,
   "metadata": {
    "id": "Jh7nke52jkyG"
   },
   "outputs": [],
   "source": [
    "df2 = data.astype('float32')"
   ]
  },
  {
   "cell_type": "code",
   "execution_count": 84,
   "metadata": {
    "colab": {
     "base_uri": "https://localhost:8080/"
    },
    "id": "4xE8AiK7kfbc",
    "outputId": "a0ec86f4-a091-4538-d720-eca64fde10f6"
   },
   "outputs": [
    {
     "name": "stdout",
     "output_type": "stream",
     "text": [
      "<class 'pandas.core.frame.DataFrame'>\n",
      "RangeIndex: 17000 entries, 0 to 16999\n",
      "Data columns (total 9 columns):\n",
      " #   Column              Non-Null Count  Dtype  \n",
      "---  ------              --------------  -----  \n",
      " 0   longitude           17000 non-null  float32\n",
      " 1   latitude            17000 non-null  float32\n",
      " 2   housing_median_age  17000 non-null  float32\n",
      " 3   total_rooms         17000 non-null  int32  \n",
      " 4   total_bedrooms      17000 non-null  float32\n",
      " 5   population          17000 non-null  float32\n",
      " 6   households          17000 non-null  float32\n",
      " 7   median_income       17000 non-null  float32\n",
      " 8   median_house_value  17000 non-null  float32\n",
      "dtypes: float32(8), int32(1)\n",
      "memory usage: 597.8 KB\n"
     ]
    }
   ],
   "source": [
    "df2.astype({'total_rooms':'int32'}).info()"
   ]
  },
  {
   "cell_type": "code",
   "execution_count": 85,
   "metadata": {
    "colab": {
     "base_uri": "https://localhost:8080/"
    },
    "id": "MPUV9mzB8lFr",
    "outputId": "b03c7c03-2bae-48bd-bd99-fd119cff7825"
   },
   "outputs": [
    {
     "data": {
      "text/plain": [
       "(17000, 9)"
      ]
     },
     "execution_count": 85,
     "metadata": {},
     "output_type": "execute_result"
    }
   ],
   "source": [
    "data.shape"
   ]
  },
  {
   "cell_type": "code",
   "execution_count": 88,
   "metadata": {
    "colab": {
     "base_uri": "https://localhost:8080/"
    },
    "id": "lMnPVPzG6IW3",
    "outputId": "50f74baf-5f36-4fc3-d063-e064b6c57fc2"
   },
   "outputs": [
    {
     "data": {
      "text/plain": [
       "longitude             0\n",
       "latitude              0\n",
       "housing_median_age    0\n",
       "total_rooms           0\n",
       "total_bedrooms        0\n",
       "population            0\n",
       "households            0\n",
       "median_income         0\n",
       "median_house_value    0\n",
       "dtype: int64"
      ]
     },
     "execution_count": 88,
     "metadata": {},
     "output_type": "execute_result"
    }
   ],
   "source": [
    "data.isna().sum()"
   ]
  },
  {
   "cell_type": "code",
   "execution_count": 89,
   "metadata": {
    "colab": {
     "base_uri": "https://localhost:8080/"
    },
    "id": "soT1gIcD6woI",
    "outputId": "cd8cdd5a-7202-45e0-db34-32b6e584183f"
   },
   "outputs": [
    {
     "data": {
      "text/plain": [
       "longitude             0\n",
       "latitude              0\n",
       "housing_median_age    0\n",
       "total_rooms           0\n",
       "total_bedrooms        0\n",
       "population            0\n",
       "households            0\n",
       "median_income         0\n",
       "median_house_value    0\n",
       "dtype: int64"
      ]
     },
     "execution_count": 89,
     "metadata": {},
     "output_type": "execute_result"
    }
   ],
   "source": [
    "data.isnull().sum()"
   ]
  },
  {
   "cell_type": "code",
   "execution_count": 90,
   "metadata": {
    "colab": {
     "base_uri": "https://localhost:8080/"
    },
    "id": "1FcY_03Z61MO",
    "outputId": "1f3801fd-b49b-4c2b-979d-91c99112ae87"
   },
   "outputs": [
    {
     "data": {
      "text/plain": [
       "longitude               -119.562108\n",
       "latitude                  35.625225\n",
       "housing_median_age        28.589353\n",
       "total_rooms             2643.664412\n",
       "total_bedrooms           539.410824\n",
       "population              1429.573941\n",
       "households               501.221941\n",
       "median_income              3.883578\n",
       "median_house_value    207300.912353\n",
       "dtype: float64"
      ]
     },
     "execution_count": 90,
     "metadata": {},
     "output_type": "execute_result"
    }
   ],
   "source": [
    "data.mean()"
   ]
  },
  {
   "cell_type": "code",
   "execution_count": 91,
   "metadata": {
    "colab": {
     "base_uri": "https://localhost:8080/"
    },
    "id": "KlX3LOQ46-hw",
    "outputId": "858b9c95-caa3-4792-8155-3ef7d60790e4"
   },
   "outputs": [
    {
     "data": {
      "text/plain": [
       "longitude                  2.005166\n",
       "latitude                   2.137340\n",
       "housing_median_age        12.586937\n",
       "total_rooms             2179.947071\n",
       "total_bedrooms           421.499452\n",
       "population              1147.852959\n",
       "households               384.520841\n",
       "median_income              1.908157\n",
       "median_house_value    115983.764387\n",
       "dtype: float64"
      ]
     },
     "execution_count": 91,
     "metadata": {},
     "output_type": "execute_result"
    }
   ],
   "source": [
    "data.std()"
   ]
  },
  {
   "cell_type": "code",
   "execution_count": 92,
   "metadata": {
    "colab": {
     "base_uri": "https://localhost:8080/",
     "height": 297
    },
    "id": "JYy-hAsS7GEK",
    "outputId": "4d3b118e-7a4f-459e-9938-e4f5c83ecad6"
   },
   "outputs": [
    {
     "data": {
      "text/html": [
       "<div>\n",
       "<style scoped>\n",
       "    .dataframe tbody tr th:only-of-type {\n",
       "        vertical-align: middle;\n",
       "    }\n",
       "\n",
       "    .dataframe tbody tr th {\n",
       "        vertical-align: top;\n",
       "    }\n",
       "\n",
       "    .dataframe thead th {\n",
       "        text-align: right;\n",
       "    }\n",
       "</style>\n",
       "<table border=\"1\" class=\"dataframe\">\n",
       "  <thead>\n",
       "    <tr style=\"text-align: right;\">\n",
       "      <th></th>\n",
       "      <th>longitude</th>\n",
       "      <th>latitude</th>\n",
       "      <th>housing_median_age</th>\n",
       "      <th>total_rooms</th>\n",
       "      <th>total_bedrooms</th>\n",
       "      <th>population</th>\n",
       "      <th>households</th>\n",
       "      <th>median_income</th>\n",
       "      <th>median_house_value</th>\n",
       "    </tr>\n",
       "  </thead>\n",
       "  <tbody>\n",
       "    <tr>\n",
       "      <th>count</th>\n",
       "      <td>17000.000000</td>\n",
       "      <td>17000.000000</td>\n",
       "      <td>17000.000000</td>\n",
       "      <td>17000.000000</td>\n",
       "      <td>17000.000000</td>\n",
       "      <td>17000.000000</td>\n",
       "      <td>17000.000000</td>\n",
       "      <td>17000.000000</td>\n",
       "      <td>17000.000000</td>\n",
       "    </tr>\n",
       "    <tr>\n",
       "      <th>mean</th>\n",
       "      <td>-119.562108</td>\n",
       "      <td>35.625225</td>\n",
       "      <td>28.589353</td>\n",
       "      <td>2643.664412</td>\n",
       "      <td>539.410824</td>\n",
       "      <td>1429.573941</td>\n",
       "      <td>501.221941</td>\n",
       "      <td>3.883578</td>\n",
       "      <td>207300.912353</td>\n",
       "    </tr>\n",
       "    <tr>\n",
       "      <th>std</th>\n",
       "      <td>2.005166</td>\n",
       "      <td>2.137340</td>\n",
       "      <td>12.586937</td>\n",
       "      <td>2179.947071</td>\n",
       "      <td>421.499452</td>\n",
       "      <td>1147.852959</td>\n",
       "      <td>384.520841</td>\n",
       "      <td>1.908157</td>\n",
       "      <td>115983.764387</td>\n",
       "    </tr>\n",
       "    <tr>\n",
       "      <th>min</th>\n",
       "      <td>-124.350000</td>\n",
       "      <td>32.540000</td>\n",
       "      <td>1.000000</td>\n",
       "      <td>2.000000</td>\n",
       "      <td>1.000000</td>\n",
       "      <td>3.000000</td>\n",
       "      <td>1.000000</td>\n",
       "      <td>0.499900</td>\n",
       "      <td>14999.000000</td>\n",
       "    </tr>\n",
       "    <tr>\n",
       "      <th>25%</th>\n",
       "      <td>-121.790000</td>\n",
       "      <td>33.930000</td>\n",
       "      <td>18.000000</td>\n",
       "      <td>1462.000000</td>\n",
       "      <td>297.000000</td>\n",
       "      <td>790.000000</td>\n",
       "      <td>282.000000</td>\n",
       "      <td>2.566375</td>\n",
       "      <td>119400.000000</td>\n",
       "    </tr>\n",
       "    <tr>\n",
       "      <th>50%</th>\n",
       "      <td>-118.490000</td>\n",
       "      <td>34.250000</td>\n",
       "      <td>29.000000</td>\n",
       "      <td>2127.000000</td>\n",
       "      <td>434.000000</td>\n",
       "      <td>1167.000000</td>\n",
       "      <td>409.000000</td>\n",
       "      <td>3.544600</td>\n",
       "      <td>180400.000000</td>\n",
       "    </tr>\n",
       "    <tr>\n",
       "      <th>75%</th>\n",
       "      <td>-118.000000</td>\n",
       "      <td>37.720000</td>\n",
       "      <td>37.000000</td>\n",
       "      <td>3151.250000</td>\n",
       "      <td>648.250000</td>\n",
       "      <td>1721.000000</td>\n",
       "      <td>605.250000</td>\n",
       "      <td>4.767000</td>\n",
       "      <td>265000.000000</td>\n",
       "    </tr>\n",
       "    <tr>\n",
       "      <th>max</th>\n",
       "      <td>-114.310000</td>\n",
       "      <td>41.950000</td>\n",
       "      <td>52.000000</td>\n",
       "      <td>37937.000000</td>\n",
       "      <td>6445.000000</td>\n",
       "      <td>35682.000000</td>\n",
       "      <td>6082.000000</td>\n",
       "      <td>15.000100</td>\n",
       "      <td>500001.000000</td>\n",
       "    </tr>\n",
       "  </tbody>\n",
       "</table>\n",
       "</div>"
      ],
      "text/plain": [
       "          longitude      latitude  ...  median_income  median_house_value\n",
       "count  17000.000000  17000.000000  ...   17000.000000        17000.000000\n",
       "mean    -119.562108     35.625225  ...       3.883578       207300.912353\n",
       "std        2.005166      2.137340  ...       1.908157       115983.764387\n",
       "min     -124.350000     32.540000  ...       0.499900        14999.000000\n",
       "25%     -121.790000     33.930000  ...       2.566375       119400.000000\n",
       "50%     -118.490000     34.250000  ...       3.544600       180400.000000\n",
       "75%     -118.000000     37.720000  ...       4.767000       265000.000000\n",
       "max     -114.310000     41.950000  ...      15.000100       500001.000000\n",
       "\n",
       "[8 rows x 9 columns]"
      ]
     },
     "execution_count": 92,
     "metadata": {},
     "output_type": "execute_result"
    }
   ],
   "source": [
    "data.describe()"
   ]
  },
  {
   "cell_type": "code",
   "execution_count": 95,
   "metadata": {
    "colab": {
     "base_uri": "https://localhost:8080/",
     "height": 419
    },
    "id": "EavO2rPl7NFZ",
    "outputId": "981bae0e-06ce-472f-df29-df75c6d75b7f"
   },
   "outputs": [
    {
     "data": {
      "text/html": [
       "<div>\n",
       "<style scoped>\n",
       "    .dataframe tbody tr th:only-of-type {\n",
       "        vertical-align: middle;\n",
       "    }\n",
       "\n",
       "    .dataframe tbody tr th {\n",
       "        vertical-align: top;\n",
       "    }\n",
       "\n",
       "    .dataframe thead th {\n",
       "        text-align: right;\n",
       "    }\n",
       "</style>\n",
       "<table border=\"1\" class=\"dataframe\">\n",
       "  <thead>\n",
       "    <tr style=\"text-align: right;\">\n",
       "      <th></th>\n",
       "      <th>longitude</th>\n",
       "      <th>latitude</th>\n",
       "      <th>housing_median_age</th>\n",
       "      <th>total_rooms</th>\n",
       "      <th>total_bedrooms</th>\n",
       "      <th>population</th>\n",
       "      <th>households</th>\n",
       "      <th>median_income</th>\n",
       "      <th>median_house_value</th>\n",
       "    </tr>\n",
       "  </thead>\n",
       "  <tbody>\n",
       "    <tr>\n",
       "      <th>58</th>\n",
       "      <td>-115.52</td>\n",
       "      <td>32.67</td>\n",
       "      <td>6.0</td>\n",
       "      <td>2804.0</td>\n",
       "      <td>581.0</td>\n",
       "      <td>2807.0</td>\n",
       "      <td>594.0</td>\n",
       "      <td>2.0625</td>\n",
       "      <td>67700.0</td>\n",
       "    </tr>\n",
       "    <tr>\n",
       "      <th>75</th>\n",
       "      <td>-115.55</td>\n",
       "      <td>32.78</td>\n",
       "      <td>5.0</td>\n",
       "      <td>2652.0</td>\n",
       "      <td>606.0</td>\n",
       "      <td>1767.0</td>\n",
       "      <td>536.0</td>\n",
       "      <td>2.8025</td>\n",
       "      <td>84300.0</td>\n",
       "    </tr>\n",
       "    <tr>\n",
       "      <th>95</th>\n",
       "      <td>-115.58</td>\n",
       "      <td>32.81</td>\n",
       "      <td>5.0</td>\n",
       "      <td>805.0</td>\n",
       "      <td>143.0</td>\n",
       "      <td>458.0</td>\n",
       "      <td>143.0</td>\n",
       "      <td>4.4750</td>\n",
       "      <td>96300.0</td>\n",
       "    </tr>\n",
       "    <tr>\n",
       "      <th>98</th>\n",
       "      <td>-115.58</td>\n",
       "      <td>32.78</td>\n",
       "      <td>5.0</td>\n",
       "      <td>2494.0</td>\n",
       "      <td>414.0</td>\n",
       "      <td>1416.0</td>\n",
       "      <td>421.0</td>\n",
       "      <td>5.7843</td>\n",
       "      <td>110100.0</td>\n",
       "    </tr>\n",
       "    <tr>\n",
       "      <th>100</th>\n",
       "      <td>-115.59</td>\n",
       "      <td>32.79</td>\n",
       "      <td>8.0</td>\n",
       "      <td>2183.0</td>\n",
       "      <td>307.0</td>\n",
       "      <td>1000.0</td>\n",
       "      <td>287.0</td>\n",
       "      <td>6.3814</td>\n",
       "      <td>159900.0</td>\n",
       "    </tr>\n",
       "    <tr>\n",
       "      <th>...</th>\n",
       "      <td>...</td>\n",
       "      <td>...</td>\n",
       "      <td>...</td>\n",
       "      <td>...</td>\n",
       "      <td>...</td>\n",
       "      <td>...</td>\n",
       "      <td>...</td>\n",
       "      <td>...</td>\n",
       "      <td>...</td>\n",
       "    </tr>\n",
       "    <tr>\n",
       "      <th>16679</th>\n",
       "      <td>-122.79</td>\n",
       "      <td>38.48</td>\n",
       "      <td>7.0</td>\n",
       "      <td>6837.0</td>\n",
       "      <td>1417.0</td>\n",
       "      <td>3468.0</td>\n",
       "      <td>1405.0</td>\n",
       "      <td>3.1662</td>\n",
       "      <td>191000.0</td>\n",
       "    </tr>\n",
       "    <tr>\n",
       "      <th>16680</th>\n",
       "      <td>-122.79</td>\n",
       "      <td>38.42</td>\n",
       "      <td>9.0</td>\n",
       "      <td>4967.0</td>\n",
       "      <td>885.0</td>\n",
       "      <td>2581.0</td>\n",
       "      <td>915.0</td>\n",
       "      <td>5.0380</td>\n",
       "      <td>185600.0</td>\n",
       "    </tr>\n",
       "    <tr>\n",
       "      <th>16692</th>\n",
       "      <td>-122.82</td>\n",
       "      <td>38.55</td>\n",
       "      <td>8.0</td>\n",
       "      <td>6190.0</td>\n",
       "      <td>1088.0</td>\n",
       "      <td>2967.0</td>\n",
       "      <td>1000.0</td>\n",
       "      <td>3.8616</td>\n",
       "      <td>195100.0</td>\n",
       "    </tr>\n",
       "    <tr>\n",
       "      <th>16776</th>\n",
       "      <td>-123.00</td>\n",
       "      <td>38.33</td>\n",
       "      <td>8.0</td>\n",
       "      <td>3223.0</td>\n",
       "      <td>637.0</td>\n",
       "      <td>851.0</td>\n",
       "      <td>418.0</td>\n",
       "      <td>5.6445</td>\n",
       "      <td>364800.0</td>\n",
       "    </tr>\n",
       "    <tr>\n",
       "      <th>16854</th>\n",
       "      <td>-123.49</td>\n",
       "      <td>38.70</td>\n",
       "      <td>9.0</td>\n",
       "      <td>5409.0</td>\n",
       "      <td>1019.0</td>\n",
       "      <td>594.0</td>\n",
       "      <td>327.0</td>\n",
       "      <td>3.3125</td>\n",
       "      <td>295400.0</td>\n",
       "    </tr>\n",
       "  </tbody>\n",
       "</table>\n",
       "<p>1087 rows × 9 columns</p>\n",
       "</div>"
      ],
      "text/plain": [
       "       longitude  latitude  ...  median_income  median_house_value\n",
       "58       -115.52     32.67  ...         2.0625             67700.0\n",
       "75       -115.55     32.78  ...         2.8025             84300.0\n",
       "95       -115.58     32.81  ...         4.4750             96300.0\n",
       "98       -115.58     32.78  ...         5.7843            110100.0\n",
       "100      -115.59     32.79  ...         6.3814            159900.0\n",
       "...          ...       ...  ...            ...                 ...\n",
       "16679    -122.79     38.48  ...         3.1662            191000.0\n",
       "16680    -122.79     38.42  ...         5.0380            185600.0\n",
       "16692    -122.82     38.55  ...         3.8616            195100.0\n",
       "16776    -123.00     38.33  ...         5.6445            364800.0\n",
       "16854    -123.49     38.70  ...         3.3125            295400.0\n",
       "\n",
       "[1087 rows x 9 columns]"
      ]
     },
     "execution_count": 95,
     "metadata": {},
     "output_type": "execute_result"
    }
   ],
   "source": [
    "data.query('housing_median_age < 10')"
   ]
  },
  {
   "cell_type": "code",
   "execution_count": 96,
   "metadata": {
    "colab": {
     "base_uri": "https://localhost:8080/",
     "height": 419
    },
    "id": "3W4VLRHM7iDC",
    "outputId": "a0c02ce1-23d7-4bed-f325-ad4f0e2bb056"
   },
   "outputs": [
    {
     "data": {
      "text/html": [
       "<div>\n",
       "<style scoped>\n",
       "    .dataframe tbody tr th:only-of-type {\n",
       "        vertical-align: middle;\n",
       "    }\n",
       "\n",
       "    .dataframe tbody tr th {\n",
       "        vertical-align: top;\n",
       "    }\n",
       "\n",
       "    .dataframe thead th {\n",
       "        text-align: right;\n",
       "    }\n",
       "</style>\n",
       "<table border=\"1\" class=\"dataframe\">\n",
       "  <thead>\n",
       "    <tr style=\"text-align: right;\">\n",
       "      <th></th>\n",
       "      <th>longitude</th>\n",
       "      <th>latitude</th>\n",
       "      <th>housing_median_age</th>\n",
       "      <th>total_rooms</th>\n",
       "      <th>total_bedrooms</th>\n",
       "      <th>population</th>\n",
       "      <th>households</th>\n",
       "      <th>median_income</th>\n",
       "      <th>median_house_value</th>\n",
       "    </tr>\n",
       "  </thead>\n",
       "  <tbody>\n",
       "    <tr>\n",
       "      <th>0</th>\n",
       "      <td>-114.31</td>\n",
       "      <td>34.19</td>\n",
       "      <td>15.0</td>\n",
       "      <td>5612.0</td>\n",
       "      <td>1283.0</td>\n",
       "      <td>1015.0</td>\n",
       "      <td>472.0</td>\n",
       "      <td>1.4936</td>\n",
       "      <td>66900.0</td>\n",
       "    </tr>\n",
       "    <tr>\n",
       "      <th>1</th>\n",
       "      <td>-114.47</td>\n",
       "      <td>34.40</td>\n",
       "      <td>19.0</td>\n",
       "      <td>7650.0</td>\n",
       "      <td>1901.0</td>\n",
       "      <td>1129.0</td>\n",
       "      <td>463.0</td>\n",
       "      <td>1.8200</td>\n",
       "      <td>80100.0</td>\n",
       "    </tr>\n",
       "    <tr>\n",
       "      <th>2</th>\n",
       "      <td>-114.56</td>\n",
       "      <td>33.69</td>\n",
       "      <td>17.0</td>\n",
       "      <td>720.0</td>\n",
       "      <td>174.0</td>\n",
       "      <td>333.0</td>\n",
       "      <td>117.0</td>\n",
       "      <td>1.6509</td>\n",
       "      <td>85700.0</td>\n",
       "    </tr>\n",
       "    <tr>\n",
       "      <th>3</th>\n",
       "      <td>-114.57</td>\n",
       "      <td>33.64</td>\n",
       "      <td>14.0</td>\n",
       "      <td>1501.0</td>\n",
       "      <td>337.0</td>\n",
       "      <td>515.0</td>\n",
       "      <td>226.0</td>\n",
       "      <td>3.1917</td>\n",
       "      <td>73400.0</td>\n",
       "    </tr>\n",
       "    <tr>\n",
       "      <th>4</th>\n",
       "      <td>-114.57</td>\n",
       "      <td>33.57</td>\n",
       "      <td>20.0</td>\n",
       "      <td>1454.0</td>\n",
       "      <td>326.0</td>\n",
       "      <td>624.0</td>\n",
       "      <td>262.0</td>\n",
       "      <td>1.9250</td>\n",
       "      <td>65500.0</td>\n",
       "    </tr>\n",
       "    <tr>\n",
       "      <th>...</th>\n",
       "      <td>...</td>\n",
       "      <td>...</td>\n",
       "      <td>...</td>\n",
       "      <td>...</td>\n",
       "      <td>...</td>\n",
       "      <td>...</td>\n",
       "      <td>...</td>\n",
       "      <td>...</td>\n",
       "      <td>...</td>\n",
       "    </tr>\n",
       "    <tr>\n",
       "      <th>16987</th>\n",
       "      <td>-124.21</td>\n",
       "      <td>41.77</td>\n",
       "      <td>17.0</td>\n",
       "      <td>3461.0</td>\n",
       "      <td>722.0</td>\n",
       "      <td>1947.0</td>\n",
       "      <td>647.0</td>\n",
       "      <td>2.5795</td>\n",
       "      <td>68400.0</td>\n",
       "    </tr>\n",
       "    <tr>\n",
       "      <th>16988</th>\n",
       "      <td>-124.21</td>\n",
       "      <td>41.75</td>\n",
       "      <td>20.0</td>\n",
       "      <td>3810.0</td>\n",
       "      <td>787.0</td>\n",
       "      <td>1993.0</td>\n",
       "      <td>721.0</td>\n",
       "      <td>2.0074</td>\n",
       "      <td>66900.0</td>\n",
       "    </tr>\n",
       "    <tr>\n",
       "      <th>16991</th>\n",
       "      <td>-124.23</td>\n",
       "      <td>41.75</td>\n",
       "      <td>11.0</td>\n",
       "      <td>3159.0</td>\n",
       "      <td>616.0</td>\n",
       "      <td>1343.0</td>\n",
       "      <td>479.0</td>\n",
       "      <td>2.4805</td>\n",
       "      <td>73200.0</td>\n",
       "    </tr>\n",
       "    <tr>\n",
       "      <th>16997</th>\n",
       "      <td>-124.30</td>\n",
       "      <td>41.84</td>\n",
       "      <td>17.0</td>\n",
       "      <td>2677.0</td>\n",
       "      <td>531.0</td>\n",
       "      <td>1244.0</td>\n",
       "      <td>456.0</td>\n",
       "      <td>3.0313</td>\n",
       "      <td>103600.0</td>\n",
       "    </tr>\n",
       "    <tr>\n",
       "      <th>16998</th>\n",
       "      <td>-124.30</td>\n",
       "      <td>41.80</td>\n",
       "      <td>19.0</td>\n",
       "      <td>2672.0</td>\n",
       "      <td>552.0</td>\n",
       "      <td>1298.0</td>\n",
       "      <td>478.0</td>\n",
       "      <td>1.9797</td>\n",
       "      <td>85800.0</td>\n",
       "    </tr>\n",
       "  </tbody>\n",
       "</table>\n",
       "<p>5209 rows × 9 columns</p>\n",
       "</div>"
      ],
      "text/plain": [
       "       longitude  latitude  ...  median_income  median_house_value\n",
       "0        -114.31     34.19  ...         1.4936             66900.0\n",
       "1        -114.47     34.40  ...         1.8200             80100.0\n",
       "2        -114.56     33.69  ...         1.6509             85700.0\n",
       "3        -114.57     33.64  ...         3.1917             73400.0\n",
       "4        -114.57     33.57  ...         1.9250             65500.0\n",
       "...          ...       ...  ...            ...                 ...\n",
       "16987    -124.21     41.77  ...         2.5795             68400.0\n",
       "16988    -124.21     41.75  ...         2.0074             66900.0\n",
       "16991    -124.23     41.75  ...         2.4805             73200.0\n",
       "16997    -124.30     41.84  ...         3.0313            103600.0\n",
       "16998    -124.30     41.80  ...         1.9797             85800.0\n",
       "\n",
       "[5209 rows x 9 columns]"
      ]
     },
     "execution_count": 96,
     "metadata": {},
     "output_type": "execute_result"
    }
   ],
   "source": [
    "data[data['housing_median_age']<= 20]"
   ]
  },
  {
   "cell_type": "code",
   "execution_count": 97,
   "metadata": {
    "colab": {
     "base_uri": "https://localhost:8080/",
     "height": 419
    },
    "id": "CuBETK-78-CI",
    "outputId": "5955c8dc-ef36-40c3-aceb-407581fe0de9"
   },
   "outputs": [
    {
     "data": {
      "text/html": [
       "<div>\n",
       "<style scoped>\n",
       "    .dataframe tbody tr th:only-of-type {\n",
       "        vertical-align: middle;\n",
       "    }\n",
       "\n",
       "    .dataframe tbody tr th {\n",
       "        vertical-align: top;\n",
       "    }\n",
       "\n",
       "    .dataframe thead th {\n",
       "        text-align: right;\n",
       "    }\n",
       "</style>\n",
       "<table border=\"1\" class=\"dataframe\">\n",
       "  <thead>\n",
       "    <tr style=\"text-align: right;\">\n",
       "      <th></th>\n",
       "      <th>longitude</th>\n",
       "      <th>latitude</th>\n",
       "      <th>housing_median_age</th>\n",
       "      <th>total_rooms</th>\n",
       "      <th>total_bedrooms</th>\n",
       "      <th>population</th>\n",
       "      <th>households</th>\n",
       "      <th>median_income</th>\n",
       "      <th>median_house_value</th>\n",
       "    </tr>\n",
       "  </thead>\n",
       "  <tbody>\n",
       "    <tr>\n",
       "      <th>2</th>\n",
       "      <td>-114.56</td>\n",
       "      <td>33.69</td>\n",
       "      <td>17.0</td>\n",
       "      <td>720.0</td>\n",
       "      <td>174.0</td>\n",
       "      <td>333.0</td>\n",
       "      <td>117.0</td>\n",
       "      <td>1.6509</td>\n",
       "      <td>85700.0</td>\n",
       "    </tr>\n",
       "    <tr>\n",
       "      <th>4</th>\n",
       "      <td>-114.57</td>\n",
       "      <td>33.57</td>\n",
       "      <td>20.0</td>\n",
       "      <td>1454.0</td>\n",
       "      <td>326.0</td>\n",
       "      <td>624.0</td>\n",
       "      <td>262.0</td>\n",
       "      <td>1.9250</td>\n",
       "      <td>65500.0</td>\n",
       "    </tr>\n",
       "    <tr>\n",
       "      <th>14</th>\n",
       "      <td>-114.63</td>\n",
       "      <td>32.76</td>\n",
       "      <td>15.0</td>\n",
       "      <td>1448.0</td>\n",
       "      <td>378.0</td>\n",
       "      <td>949.0</td>\n",
       "      <td>300.0</td>\n",
       "      <td>0.8585</td>\n",
       "      <td>45000.0</td>\n",
       "    </tr>\n",
       "    <tr>\n",
       "      <th>18</th>\n",
       "      <td>-114.66</td>\n",
       "      <td>32.74</td>\n",
       "      <td>17.0</td>\n",
       "      <td>1388.0</td>\n",
       "      <td>386.0</td>\n",
       "      <td>775.0</td>\n",
       "      <td>320.0</td>\n",
       "      <td>1.2049</td>\n",
       "      <td>44000.0</td>\n",
       "    </tr>\n",
       "    <tr>\n",
       "      <th>19</th>\n",
       "      <td>-114.67</td>\n",
       "      <td>33.92</td>\n",
       "      <td>17.0</td>\n",
       "      <td>97.0</td>\n",
       "      <td>24.0</td>\n",
       "      <td>29.0</td>\n",
       "      <td>15.0</td>\n",
       "      <td>1.2656</td>\n",
       "      <td>27500.0</td>\n",
       "    </tr>\n",
       "    <tr>\n",
       "      <th>...</th>\n",
       "      <td>...</td>\n",
       "      <td>...</td>\n",
       "      <td>...</td>\n",
       "      <td>...</td>\n",
       "      <td>...</td>\n",
       "      <td>...</td>\n",
       "      <td>...</td>\n",
       "      <td>...</td>\n",
       "      <td>...</td>\n",
       "    </tr>\n",
       "    <tr>\n",
       "      <th>16885</th>\n",
       "      <td>-123.84</td>\n",
       "      <td>39.83</td>\n",
       "      <td>19.0</td>\n",
       "      <td>1461.0</td>\n",
       "      <td>340.0</td>\n",
       "      <td>515.0</td>\n",
       "      <td>227.0</td>\n",
       "      <td>1.5278</td>\n",
       "      <td>145800.0</td>\n",
       "    </tr>\n",
       "    <tr>\n",
       "      <th>16899</th>\n",
       "      <td>-124.05</td>\n",
       "      <td>40.94</td>\n",
       "      <td>14.0</td>\n",
       "      <td>1452.0</td>\n",
       "      <td>217.0</td>\n",
       "      <td>516.0</td>\n",
       "      <td>181.0</td>\n",
       "      <td>5.0329</td>\n",
       "      <td>165600.0</td>\n",
       "    </tr>\n",
       "    <tr>\n",
       "      <th>16912</th>\n",
       "      <td>-124.08</td>\n",
       "      <td>40.86</td>\n",
       "      <td>18.0</td>\n",
       "      <td>1287.0</td>\n",
       "      <td>484.0</td>\n",
       "      <td>805.0</td>\n",
       "      <td>502.0</td>\n",
       "      <td>1.1157</td>\n",
       "      <td>150000.0</td>\n",
       "    </tr>\n",
       "    <tr>\n",
       "      <th>16913</th>\n",
       "      <td>-124.08</td>\n",
       "      <td>40.06</td>\n",
       "      <td>17.0</td>\n",
       "      <td>1319.0</td>\n",
       "      <td>267.0</td>\n",
       "      <td>393.0</td>\n",
       "      <td>163.0</td>\n",
       "      <td>2.6250</td>\n",
       "      <td>135600.0</td>\n",
       "    </tr>\n",
       "    <tr>\n",
       "      <th>16959</th>\n",
       "      <td>-124.16</td>\n",
       "      <td>40.95</td>\n",
       "      <td>20.0</td>\n",
       "      <td>1075.0</td>\n",
       "      <td>214.0</td>\n",
       "      <td>529.0</td>\n",
       "      <td>196.0</td>\n",
       "      <td>3.1406</td>\n",
       "      <td>96000.0</td>\n",
       "    </tr>\n",
       "  </tbody>\n",
       "</table>\n",
       "<p>870 rows × 9 columns</p>\n",
       "</div>"
      ],
      "text/plain": [
       "       longitude  latitude  ...  median_income  median_house_value\n",
       "2        -114.56     33.69  ...         1.6509             85700.0\n",
       "4        -114.57     33.57  ...         1.9250             65500.0\n",
       "14       -114.63     32.76  ...         0.8585             45000.0\n",
       "18       -114.66     32.74  ...         1.2049             44000.0\n",
       "19       -114.67     33.92  ...         1.2656             27500.0\n",
       "...          ...       ...  ...            ...                 ...\n",
       "16885    -123.84     39.83  ...         1.5278            145800.0\n",
       "16899    -124.05     40.94  ...         5.0329            165600.0\n",
       "16912    -124.08     40.86  ...         1.1157            150000.0\n",
       "16913    -124.08     40.06  ...         2.6250            135600.0\n",
       "16959    -124.16     40.95  ...         3.1406             96000.0\n",
       "\n",
       "[870 rows x 9 columns]"
      ]
     },
     "execution_count": 97,
     "metadata": {},
     "output_type": "execute_result"
    }
   ],
   "source": [
    "data[(data['housing_median_age']<= 20) & (data['total_rooms'] <=1500)] # &, |, ^"
   ]
  },
  {
   "cell_type": "code",
   "execution_count": 99,
   "metadata": {
    "colab": {
     "base_uri": "https://localhost:8080/",
     "height": 419
    },
    "id": "PEpMlWem9Vnm",
    "outputId": "67b12751-6563-4456-87cb-8385b33e5931"
   },
   "outputs": [
    {
     "data": {
      "text/html": [
       "<div>\n",
       "<style scoped>\n",
       "    .dataframe tbody tr th:only-of-type {\n",
       "        vertical-align: middle;\n",
       "    }\n",
       "\n",
       "    .dataframe tbody tr th {\n",
       "        vertical-align: top;\n",
       "    }\n",
       "\n",
       "    .dataframe thead th {\n",
       "        text-align: right;\n",
       "    }\n",
       "</style>\n",
       "<table border=\"1\" class=\"dataframe\">\n",
       "  <thead>\n",
       "    <tr style=\"text-align: right;\">\n",
       "      <th></th>\n",
       "      <th>longitude</th>\n",
       "      <th>latitude</th>\n",
       "      <th>housing_median_age</th>\n",
       "      <th>total_rooms</th>\n",
       "      <th>total_bedrooms</th>\n",
       "      <th>population</th>\n",
       "      <th>households</th>\n",
       "      <th>median_income</th>\n",
       "      <th>median_house_value</th>\n",
       "    </tr>\n",
       "  </thead>\n",
       "  <tbody>\n",
       "    <tr>\n",
       "      <th>13012</th>\n",
       "      <td>-121.86</td>\n",
       "      <td>38.00</td>\n",
       "      <td>16.0</td>\n",
       "      <td>3216.0</td>\n",
       "      <td>464.0</td>\n",
       "      <td>1504.0</td>\n",
       "      <td>453.0</td>\n",
       "      <td>5.2500</td>\n",
       "      <td>161700.0</td>\n",
       "    </tr>\n",
       "    <tr>\n",
       "      <th>14055</th>\n",
       "      <td>-122.05</td>\n",
       "      <td>37.54</td>\n",
       "      <td>25.0</td>\n",
       "      <td>4209.0</td>\n",
       "      <td>731.0</td>\n",
       "      <td>2568.0</td>\n",
       "      <td>703.0</td>\n",
       "      <td>5.2882</td>\n",
       "      <td>223100.0</td>\n",
       "    </tr>\n",
       "    <tr>\n",
       "      <th>16679</th>\n",
       "      <td>-122.79</td>\n",
       "      <td>38.48</td>\n",
       "      <td>7.0</td>\n",
       "      <td>6837.0</td>\n",
       "      <td>1417.0</td>\n",
       "      <td>3468.0</td>\n",
       "      <td>1405.0</td>\n",
       "      <td>3.1662</td>\n",
       "      <td>191000.0</td>\n",
       "    </tr>\n",
       "    <tr>\n",
       "      <th>2898</th>\n",
       "      <td>-117.75</td>\n",
       "      <td>33.95</td>\n",
       "      <td>13.0</td>\n",
       "      <td>984.0</td>\n",
       "      <td>127.0</td>\n",
       "      <td>364.0</td>\n",
       "      <td>119.0</td>\n",
       "      <td>7.5839</td>\n",
       "      <td>426900.0</td>\n",
       "    </tr>\n",
       "    <tr>\n",
       "      <th>15946</th>\n",
       "      <td>-122.43</td>\n",
       "      <td>37.75</td>\n",
       "      <td>52.0</td>\n",
       "      <td>1615.0</td>\n",
       "      <td>393.0</td>\n",
       "      <td>633.0</td>\n",
       "      <td>378.0</td>\n",
       "      <td>3.5114</td>\n",
       "      <td>347500.0</td>\n",
       "    </tr>\n",
       "    <tr>\n",
       "      <th>...</th>\n",
       "      <td>...</td>\n",
       "      <td>...</td>\n",
       "      <td>...</td>\n",
       "      <td>...</td>\n",
       "      <td>...</td>\n",
       "      <td>...</td>\n",
       "      <td>...</td>\n",
       "      <td>...</td>\n",
       "      <td>...</td>\n",
       "    </tr>\n",
       "    <tr>\n",
       "      <th>8688</th>\n",
       "      <td>-118.56</td>\n",
       "      <td>34.19</td>\n",
       "      <td>34.0</td>\n",
       "      <td>2579.0</td>\n",
       "      <td>561.0</td>\n",
       "      <td>1237.0</td>\n",
       "      <td>517.0</td>\n",
       "      <td>4.4330</td>\n",
       "      <td>235100.0</td>\n",
       "    </tr>\n",
       "    <tr>\n",
       "      <th>16351</th>\n",
       "      <td>-122.52</td>\n",
       "      <td>37.98</td>\n",
       "      <td>31.0</td>\n",
       "      <td>6555.0</td>\n",
       "      <td>1571.0</td>\n",
       "      <td>2962.0</td>\n",
       "      <td>1464.0</td>\n",
       "      <td>2.8903</td>\n",
       "      <td>324200.0</td>\n",
       "    </tr>\n",
       "    <tr>\n",
       "      <th>11863</th>\n",
       "      <td>-121.34</td>\n",
       "      <td>36.76</td>\n",
       "      <td>15.0</td>\n",
       "      <td>2638.0</td>\n",
       "      <td>429.0</td>\n",
       "      <td>1289.0</td>\n",
       "      <td>357.0</td>\n",
       "      <td>4.1528</td>\n",
       "      <td>336800.0</td>\n",
       "    </tr>\n",
       "    <tr>\n",
       "      <th>1319</th>\n",
       "      <td>-117.16</td>\n",
       "      <td>34.05</td>\n",
       "      <td>23.0</td>\n",
       "      <td>3215.0</td>\n",
       "      <td>462.0</td>\n",
       "      <td>1411.0</td>\n",
       "      <td>435.0</td>\n",
       "      <td>6.0701</td>\n",
       "      <td>149900.0</td>\n",
       "    </tr>\n",
       "    <tr>\n",
       "      <th>989</th>\n",
       "      <td>-117.09</td>\n",
       "      <td>32.61</td>\n",
       "      <td>23.0</td>\n",
       "      <td>1157.0</td>\n",
       "      <td>309.0</td>\n",
       "      <td>640.0</td>\n",
       "      <td>313.0</td>\n",
       "      <td>2.1548</td>\n",
       "      <td>118800.0</td>\n",
       "    </tr>\n",
       "  </tbody>\n",
       "</table>\n",
       "<p>100 rows × 9 columns</p>\n",
       "</div>"
      ],
      "text/plain": [
       "       longitude  latitude  ...  median_income  median_house_value\n",
       "13012    -121.86     38.00  ...         5.2500            161700.0\n",
       "14055    -122.05     37.54  ...         5.2882            223100.0\n",
       "16679    -122.79     38.48  ...         3.1662            191000.0\n",
       "2898     -117.75     33.95  ...         7.5839            426900.0\n",
       "15946    -122.43     37.75  ...         3.5114            347500.0\n",
       "...          ...       ...  ...            ...                 ...\n",
       "8688     -118.56     34.19  ...         4.4330            235100.0\n",
       "16351    -122.52     37.98  ...         2.8903            324200.0\n",
       "11863    -121.34     36.76  ...         4.1528            336800.0\n",
       "1319     -117.16     34.05  ...         6.0701            149900.0\n",
       "989      -117.09     32.61  ...         2.1548            118800.0\n",
       "\n",
       "[100 rows x 9 columns]"
      ]
     },
     "execution_count": 99,
     "metadata": {},
     "output_type": "execute_result"
    }
   ],
   "source": [
    "data.sample(n=100)"
   ]
  },
  {
   "cell_type": "code",
   "execution_count": 100,
   "metadata": {
    "colab": {
     "base_uri": "https://localhost:8080/",
     "height": 419
    },
    "id": "FBiDo2oI9cL7",
    "outputId": "f600d713-d90c-416b-a671-e50bb83cefda"
   },
   "outputs": [
    {
     "data": {
      "text/html": [
       "<div>\n",
       "<style scoped>\n",
       "    .dataframe tbody tr th:only-of-type {\n",
       "        vertical-align: middle;\n",
       "    }\n",
       "\n",
       "    .dataframe tbody tr th {\n",
       "        vertical-align: top;\n",
       "    }\n",
       "\n",
       "    .dataframe thead th {\n",
       "        text-align: right;\n",
       "    }\n",
       "</style>\n",
       "<table border=\"1\" class=\"dataframe\">\n",
       "  <thead>\n",
       "    <tr style=\"text-align: right;\">\n",
       "      <th></th>\n",
       "      <th>longitude</th>\n",
       "      <th>latitude</th>\n",
       "      <th>housing_median_age</th>\n",
       "      <th>total_rooms</th>\n",
       "      <th>total_bedrooms</th>\n",
       "      <th>population</th>\n",
       "      <th>households</th>\n",
       "      <th>median_income</th>\n",
       "      <th>median_house_value</th>\n",
       "    </tr>\n",
       "  </thead>\n",
       "  <tbody>\n",
       "    <tr>\n",
       "      <th>13708</th>\n",
       "      <td>-122.00</td>\n",
       "      <td>38.23</td>\n",
       "      <td>1.0</td>\n",
       "      <td>2062.0</td>\n",
       "      <td>343.0</td>\n",
       "      <td>872.0</td>\n",
       "      <td>268.0</td>\n",
       "      <td>5.2636</td>\n",
       "      <td>191300.0</td>\n",
       "    </tr>\n",
       "    <tr>\n",
       "      <th>10993</th>\n",
       "      <td>-120.93</td>\n",
       "      <td>37.65</td>\n",
       "      <td>1.0</td>\n",
       "      <td>2254.0</td>\n",
       "      <td>328.0</td>\n",
       "      <td>402.0</td>\n",
       "      <td>112.0</td>\n",
       "      <td>4.2500</td>\n",
       "      <td>189200.0</td>\n",
       "    </tr>\n",
       "    <tr>\n",
       "      <th>1353</th>\n",
       "      <td>-117.17</td>\n",
       "      <td>34.12</td>\n",
       "      <td>2.0</td>\n",
       "      <td>3867.0</td>\n",
       "      <td>573.0</td>\n",
       "      <td>1275.0</td>\n",
       "      <td>433.0</td>\n",
       "      <td>5.4138</td>\n",
       "      <td>164400.0</td>\n",
       "    </tr>\n",
       "    <tr>\n",
       "      <th>8765</th>\n",
       "      <td>-118.61</td>\n",
       "      <td>34.38</td>\n",
       "      <td>2.0</td>\n",
       "      <td>5989.0</td>\n",
       "      <td>883.0</td>\n",
       "      <td>1787.0</td>\n",
       "      <td>613.0</td>\n",
       "      <td>6.6916</td>\n",
       "      <td>329500.0</td>\n",
       "    </tr>\n",
       "    <tr>\n",
       "      <th>8672</th>\n",
       "      <td>-118.56</td>\n",
       "      <td>34.42</td>\n",
       "      <td>2.0</td>\n",
       "      <td>966.0</td>\n",
       "      <td>270.0</td>\n",
       "      <td>233.0</td>\n",
       "      <td>169.0</td>\n",
       "      <td>1.9667</td>\n",
       "      <td>450000.0</td>\n",
       "    </tr>\n",
       "    <tr>\n",
       "      <th>...</th>\n",
       "      <td>...</td>\n",
       "      <td>...</td>\n",
       "      <td>...</td>\n",
       "      <td>...</td>\n",
       "      <td>...</td>\n",
       "      <td>...</td>\n",
       "      <td>...</td>\n",
       "      <td>...</td>\n",
       "      <td>...</td>\n",
       "    </tr>\n",
       "    <tr>\n",
       "      <th>15193</th>\n",
       "      <td>-122.27</td>\n",
       "      <td>37.89</td>\n",
       "      <td>52.0</td>\n",
       "      <td>2640.0</td>\n",
       "      <td>366.0</td>\n",
       "      <td>973.0</td>\n",
       "      <td>355.0</td>\n",
       "      <td>7.2660</td>\n",
       "      <td>371100.0</td>\n",
       "    </tr>\n",
       "    <tr>\n",
       "      <th>15192</th>\n",
       "      <td>-122.27</td>\n",
       "      <td>37.89</td>\n",
       "      <td>52.0</td>\n",
       "      <td>3046.0</td>\n",
       "      <td>373.0</td>\n",
       "      <td>975.0</td>\n",
       "      <td>365.0</td>\n",
       "      <td>8.8342</td>\n",
       "      <td>430500.0</td>\n",
       "    </tr>\n",
       "    <tr>\n",
       "      <th>15190</th>\n",
       "      <td>-122.27</td>\n",
       "      <td>37.90</td>\n",
       "      <td>52.0</td>\n",
       "      <td>1803.0</td>\n",
       "      <td>240.0</td>\n",
       "      <td>572.0</td>\n",
       "      <td>236.0</td>\n",
       "      <td>6.1740</td>\n",
       "      <td>358800.0</td>\n",
       "    </tr>\n",
       "    <tr>\n",
       "      <th>15209</th>\n",
       "      <td>-122.27</td>\n",
       "      <td>37.85</td>\n",
       "      <td>52.0</td>\n",
       "      <td>1974.0</td>\n",
       "      <td>426.0</td>\n",
       "      <td>875.0</td>\n",
       "      <td>363.0</td>\n",
       "      <td>1.5817</td>\n",
       "      <td>153600.0</td>\n",
       "    </tr>\n",
       "    <tr>\n",
       "      <th>16999</th>\n",
       "      <td>-124.35</td>\n",
       "      <td>40.54</td>\n",
       "      <td>52.0</td>\n",
       "      <td>1820.0</td>\n",
       "      <td>300.0</td>\n",
       "      <td>806.0</td>\n",
       "      <td>270.0</td>\n",
       "      <td>3.0147</td>\n",
       "      <td>94600.0</td>\n",
       "    </tr>\n",
       "  </tbody>\n",
       "</table>\n",
       "<p>17000 rows × 9 columns</p>\n",
       "</div>"
      ],
      "text/plain": [
       "       longitude  latitude  ...  median_income  median_house_value\n",
       "13708    -122.00     38.23  ...         5.2636            191300.0\n",
       "10993    -120.93     37.65  ...         4.2500            189200.0\n",
       "1353     -117.17     34.12  ...         5.4138            164400.0\n",
       "8765     -118.61     34.38  ...         6.6916            329500.0\n",
       "8672     -118.56     34.42  ...         1.9667            450000.0\n",
       "...          ...       ...  ...            ...                 ...\n",
       "15193    -122.27     37.89  ...         7.2660            371100.0\n",
       "15192    -122.27     37.89  ...         8.8342            430500.0\n",
       "15190    -122.27     37.90  ...         6.1740            358800.0\n",
       "15209    -122.27     37.85  ...         1.5817            153600.0\n",
       "16999    -124.35     40.54  ...         3.0147             94600.0\n",
       "\n",
       "[17000 rows x 9 columns]"
      ]
     },
     "execution_count": 100,
     "metadata": {},
     "output_type": "execute_result"
    }
   ],
   "source": [
    "data.sort_values(by='housing_median_age')"
   ]
  },
  {
   "cell_type": "code",
   "execution_count": 101,
   "metadata": {
    "colab": {
     "base_uri": "https://localhost:8080/",
     "height": 419
    },
    "id": "WLyO_BeZ9kL8",
    "outputId": "8a2bc4cc-550b-4476-d191-9c532acbcb42"
   },
   "outputs": [
    {
     "data": {
      "text/html": [
       "<div>\n",
       "<style scoped>\n",
       "    .dataframe tbody tr th:only-of-type {\n",
       "        vertical-align: middle;\n",
       "    }\n",
       "\n",
       "    .dataframe tbody tr th {\n",
       "        vertical-align: top;\n",
       "    }\n",
       "\n",
       "    .dataframe thead th {\n",
       "        text-align: right;\n",
       "    }\n",
       "</style>\n",
       "<table border=\"1\" class=\"dataframe\">\n",
       "  <thead>\n",
       "    <tr style=\"text-align: right;\">\n",
       "      <th></th>\n",
       "      <th>longitude</th>\n",
       "      <th>latitude</th>\n",
       "      <th>housing_median_age</th>\n",
       "      <th>total_rooms</th>\n",
       "      <th>total_bedrooms</th>\n",
       "      <th>population</th>\n",
       "      <th>households</th>\n",
       "      <th>median_income</th>\n",
       "      <th>median_house_value</th>\n",
       "    </tr>\n",
       "  </thead>\n",
       "  <tbody>\n",
       "    <tr>\n",
       "      <th>16999</th>\n",
       "      <td>-124.35</td>\n",
       "      <td>40.54</td>\n",
       "      <td>52.0</td>\n",
       "      <td>1820.0</td>\n",
       "      <td>300.0</td>\n",
       "      <td>806.0</td>\n",
       "      <td>270.0</td>\n",
       "      <td>3.0147</td>\n",
       "      <td>94600.0</td>\n",
       "    </tr>\n",
       "    <tr>\n",
       "      <th>14561</th>\n",
       "      <td>-122.16</td>\n",
       "      <td>38.05</td>\n",
       "      <td>52.0</td>\n",
       "      <td>1888.0</td>\n",
       "      <td>457.0</td>\n",
       "      <td>830.0</td>\n",
       "      <td>408.0</td>\n",
       "      <td>3.1373</td>\n",
       "      <td>185100.0</td>\n",
       "    </tr>\n",
       "    <tr>\n",
       "      <th>6551</th>\n",
       "      <td>-118.28</td>\n",
       "      <td>34.18</td>\n",
       "      <td>52.0</td>\n",
       "      <td>2602.0</td>\n",
       "      <td>418.0</td>\n",
       "      <td>1137.0</td>\n",
       "      <td>419.0</td>\n",
       "      <td>5.3185</td>\n",
       "      <td>358000.0</td>\n",
       "    </tr>\n",
       "    <tr>\n",
       "      <th>4420</th>\n",
       "      <td>-118.03</td>\n",
       "      <td>33.99</td>\n",
       "      <td>52.0</td>\n",
       "      <td>2792.0</td>\n",
       "      <td>461.0</td>\n",
       "      <td>1177.0</td>\n",
       "      <td>439.0</td>\n",
       "      <td>3.4312</td>\n",
       "      <td>243800.0</td>\n",
       "    </tr>\n",
       "    <tr>\n",
       "      <th>14579</th>\n",
       "      <td>-122.16</td>\n",
       "      <td>37.74</td>\n",
       "      <td>52.0</td>\n",
       "      <td>771.0</td>\n",
       "      <td>147.0</td>\n",
       "      <td>355.0</td>\n",
       "      <td>144.0</td>\n",
       "      <td>4.1458</td>\n",
       "      <td>143400.0</td>\n",
       "    </tr>\n",
       "    <tr>\n",
       "      <th>...</th>\n",
       "      <td>...</td>\n",
       "      <td>...</td>\n",
       "      <td>...</td>\n",
       "      <td>...</td>\n",
       "      <td>...</td>\n",
       "      <td>...</td>\n",
       "      <td>...</td>\n",
       "      <td>...</td>\n",
       "      <td>...</td>\n",
       "    </tr>\n",
       "    <tr>\n",
       "      <th>1880</th>\n",
       "      <td>-117.28</td>\n",
       "      <td>34.06</td>\n",
       "      <td>2.0</td>\n",
       "      <td>1658.0</td>\n",
       "      <td>290.0</td>\n",
       "      <td>868.0</td>\n",
       "      <td>304.0</td>\n",
       "      <td>5.1365</td>\n",
       "      <td>136700.0</td>\n",
       "    </tr>\n",
       "    <tr>\n",
       "      <th>4274</th>\n",
       "      <td>-118.01</td>\n",
       "      <td>34.55</td>\n",
       "      <td>2.0</td>\n",
       "      <td>2701.0</td>\n",
       "      <td>530.0</td>\n",
       "      <td>1368.0</td>\n",
       "      <td>430.0</td>\n",
       "      <td>4.0710</td>\n",
       "      <td>137400.0</td>\n",
       "    </tr>\n",
       "    <tr>\n",
       "      <th>2771</th>\n",
       "      <td>-117.70</td>\n",
       "      <td>33.51</td>\n",
       "      <td>2.0</td>\n",
       "      <td>5261.0</td>\n",
       "      <td>763.0</td>\n",
       "      <td>1460.0</td>\n",
       "      <td>599.0</td>\n",
       "      <td>6.8279</td>\n",
       "      <td>279000.0</td>\n",
       "    </tr>\n",
       "    <tr>\n",
       "      <th>10993</th>\n",
       "      <td>-120.93</td>\n",
       "      <td>37.65</td>\n",
       "      <td>1.0</td>\n",
       "      <td>2254.0</td>\n",
       "      <td>328.0</td>\n",
       "      <td>402.0</td>\n",
       "      <td>112.0</td>\n",
       "      <td>4.2500</td>\n",
       "      <td>189200.0</td>\n",
       "    </tr>\n",
       "    <tr>\n",
       "      <th>13708</th>\n",
       "      <td>-122.00</td>\n",
       "      <td>38.23</td>\n",
       "      <td>1.0</td>\n",
       "      <td>2062.0</td>\n",
       "      <td>343.0</td>\n",
       "      <td>872.0</td>\n",
       "      <td>268.0</td>\n",
       "      <td>5.2636</td>\n",
       "      <td>191300.0</td>\n",
       "    </tr>\n",
       "  </tbody>\n",
       "</table>\n",
       "<p>17000 rows × 9 columns</p>\n",
       "</div>"
      ],
      "text/plain": [
       "       longitude  latitude  ...  median_income  median_house_value\n",
       "16999    -124.35     40.54  ...         3.0147             94600.0\n",
       "14561    -122.16     38.05  ...         3.1373            185100.0\n",
       "6551     -118.28     34.18  ...         5.3185            358000.0\n",
       "4420     -118.03     33.99  ...         3.4312            243800.0\n",
       "14579    -122.16     37.74  ...         4.1458            143400.0\n",
       "...          ...       ...  ...            ...                 ...\n",
       "1880     -117.28     34.06  ...         5.1365            136700.0\n",
       "4274     -118.01     34.55  ...         4.0710            137400.0\n",
       "2771     -117.70     33.51  ...         6.8279            279000.0\n",
       "10993    -120.93     37.65  ...         4.2500            189200.0\n",
       "13708    -122.00     38.23  ...         5.2636            191300.0\n",
       "\n",
       "[17000 rows x 9 columns]"
      ]
     },
     "execution_count": 101,
     "metadata": {},
     "output_type": "execute_result"
    }
   ],
   "source": [
    "data.sort_values(by='housing_median_age', ascending=False)"
   ]
  },
  {
   "cell_type": "code",
   "execution_count": 102,
   "metadata": {
    "colab": {
     "base_uri": "https://localhost:8080/",
     "height": 419
    },
    "id": "N5XlvLpJm_9W",
    "outputId": "38d438ce-411d-4d98-ee68-473fabc78010"
   },
   "outputs": [
    {
     "data": {
      "text/html": [
       "<div>\n",
       "<style scoped>\n",
       "    .dataframe tbody tr th:only-of-type {\n",
       "        vertical-align: middle;\n",
       "    }\n",
       "\n",
       "    .dataframe tbody tr th {\n",
       "        vertical-align: top;\n",
       "    }\n",
       "\n",
       "    .dataframe thead th {\n",
       "        text-align: right;\n",
       "    }\n",
       "</style>\n",
       "<table border=\"1\" class=\"dataframe\">\n",
       "  <thead>\n",
       "    <tr style=\"text-align: right;\">\n",
       "      <th></th>\n",
       "      <th>longitude</th>\n",
       "      <th>latitude</th>\n",
       "      <th>housing_median_age</th>\n",
       "      <th>total_rooms</th>\n",
       "      <th>total_bedrooms</th>\n",
       "      <th>population</th>\n",
       "      <th>households</th>\n",
       "      <th>median_income</th>\n",
       "      <th>median_house_value</th>\n",
       "    </tr>\n",
       "  </thead>\n",
       "  <tbody>\n",
       "    <tr>\n",
       "      <th>13708</th>\n",
       "      <td>-122.00</td>\n",
       "      <td>38.23</td>\n",
       "      <td>1.0</td>\n",
       "      <td>2062.0</td>\n",
       "      <td>343.0</td>\n",
       "      <td>872.0</td>\n",
       "      <td>268.0</td>\n",
       "      <td>5.2636</td>\n",
       "      <td>191300.0</td>\n",
       "    </tr>\n",
       "    <tr>\n",
       "      <th>10993</th>\n",
       "      <td>-120.93</td>\n",
       "      <td>37.65</td>\n",
       "      <td>1.0</td>\n",
       "      <td>2254.0</td>\n",
       "      <td>328.0</td>\n",
       "      <td>402.0</td>\n",
       "      <td>112.0</td>\n",
       "      <td>4.2500</td>\n",
       "      <td>189200.0</td>\n",
       "    </tr>\n",
       "    <tr>\n",
       "      <th>113</th>\n",
       "      <td>-115.80</td>\n",
       "      <td>33.26</td>\n",
       "      <td>2.0</td>\n",
       "      <td>96.0</td>\n",
       "      <td>18.0</td>\n",
       "      <td>30.0</td>\n",
       "      <td>16.0</td>\n",
       "      <td>5.3374</td>\n",
       "      <td>47500.0</td>\n",
       "    </tr>\n",
       "    <tr>\n",
       "      <th>13345</th>\n",
       "      <td>-121.93</td>\n",
       "      <td>37.78</td>\n",
       "      <td>2.0</td>\n",
       "      <td>227.0</td>\n",
       "      <td>35.0</td>\n",
       "      <td>114.0</td>\n",
       "      <td>49.0</td>\n",
       "      <td>3.1591</td>\n",
       "      <td>434700.0</td>\n",
       "    </tr>\n",
       "    <tr>\n",
       "      <th>1834</th>\n",
       "      <td>-117.27</td>\n",
       "      <td>33.93</td>\n",
       "      <td>2.0</td>\n",
       "      <td>337.0</td>\n",
       "      <td>55.0</td>\n",
       "      <td>115.0</td>\n",
       "      <td>49.0</td>\n",
       "      <td>3.1042</td>\n",
       "      <td>164800.0</td>\n",
       "    </tr>\n",
       "    <tr>\n",
       "      <th>...</th>\n",
       "      <td>...</td>\n",
       "      <td>...</td>\n",
       "      <td>...</td>\n",
       "      <td>...</td>\n",
       "      <td>...</td>\n",
       "      <td>...</td>\n",
       "      <td>...</td>\n",
       "      <td>...</td>\n",
       "      <td>...</td>\n",
       "    </tr>\n",
       "    <tr>\n",
       "      <th>12193</th>\n",
       "      <td>-121.46</td>\n",
       "      <td>38.58</td>\n",
       "      <td>52.0</td>\n",
       "      <td>4408.0</td>\n",
       "      <td>807.0</td>\n",
       "      <td>1604.0</td>\n",
       "      <td>777.0</td>\n",
       "      <td>3.8914</td>\n",
       "      <td>181600.0</td>\n",
       "    </tr>\n",
       "    <tr>\n",
       "      <th>16210</th>\n",
       "      <td>-122.48</td>\n",
       "      <td>37.79</td>\n",
       "      <td>52.0</td>\n",
       "      <td>4683.0</td>\n",
       "      <td>1055.0</td>\n",
       "      <td>2246.0</td>\n",
       "      <td>975.0</td>\n",
       "      <td>4.1148</td>\n",
       "      <td>457800.0</td>\n",
       "    </tr>\n",
       "    <tr>\n",
       "      <th>11163</th>\n",
       "      <td>-121.03</td>\n",
       "      <td>40.35</td>\n",
       "      <td>52.0</td>\n",
       "      <td>5486.0</td>\n",
       "      <td>1044.0</td>\n",
       "      <td>1977.0</td>\n",
       "      <td>754.0</td>\n",
       "      <td>2.1833</td>\n",
       "      <td>49500.0</td>\n",
       "    </tr>\n",
       "    <tr>\n",
       "      <th>15773</th>\n",
       "      <td>-122.41</td>\n",
       "      <td>37.79</td>\n",
       "      <td>52.0</td>\n",
       "      <td>5783.0</td>\n",
       "      <td>2747.0</td>\n",
       "      <td>4518.0</td>\n",
       "      <td>2538.0</td>\n",
       "      <td>1.7240</td>\n",
       "      <td>225000.0</td>\n",
       "    </tr>\n",
       "    <tr>\n",
       "      <th>15772</th>\n",
       "      <td>-122.41</td>\n",
       "      <td>37.79</td>\n",
       "      <td>52.0</td>\n",
       "      <td>6016.0</td>\n",
       "      <td>2509.0</td>\n",
       "      <td>3436.0</td>\n",
       "      <td>2119.0</td>\n",
       "      <td>2.5166</td>\n",
       "      <td>275000.0</td>\n",
       "    </tr>\n",
       "  </tbody>\n",
       "</table>\n",
       "<p>17000 rows × 9 columns</p>\n",
       "</div>"
      ],
      "text/plain": [
       "       longitude  latitude  ...  median_income  median_house_value\n",
       "13708    -122.00     38.23  ...         5.2636            191300.0\n",
       "10993    -120.93     37.65  ...         4.2500            189200.0\n",
       "113      -115.80     33.26  ...         5.3374             47500.0\n",
       "13345    -121.93     37.78  ...         3.1591            434700.0\n",
       "1834     -117.27     33.93  ...         3.1042            164800.0\n",
       "...          ...       ...  ...            ...                 ...\n",
       "12193    -121.46     38.58  ...         3.8914            181600.0\n",
       "16210    -122.48     37.79  ...         4.1148            457800.0\n",
       "11163    -121.03     40.35  ...         2.1833             49500.0\n",
       "15773    -122.41     37.79  ...         1.7240            225000.0\n",
       "15772    -122.41     37.79  ...         2.5166            275000.0\n",
       "\n",
       "[17000 rows x 9 columns]"
      ]
     },
     "execution_count": 102,
     "metadata": {},
     "output_type": "execute_result"
    }
   ],
   "source": [
    "data.sort_values(by=['housing_median_age','total_rooms'])"
   ]
  },
  {
   "cell_type": "code",
   "execution_count": null,
   "metadata": {
    "id": "qUx5mzRinTno"
   },
   "outputs": [],
   "source": []
  }
 ],
 "metadata": {
  "colab": {
   "name": "clase_6.ipynb",
   "provenance": []
  },
  "kernelspec": {
   "display_name": "Python 3",
   "language": "python",
   "name": "python3"
  },
  "language_info": {
   "codemirror_mode": {
    "name": "ipython",
    "version": 3
   },
   "file_extension": ".py",
   "mimetype": "text/x-python",
   "name": "python",
   "nbconvert_exporter": "python",
   "pygments_lexer": "ipython3",
   "version": "3.8.8"
  }
 },
 "nbformat": 4,
 "nbformat_minor": 1
}
