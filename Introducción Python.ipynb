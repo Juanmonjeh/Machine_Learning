{
 "cells": [
  {
   "cell_type": "markdown",
   "metadata": {},
   "source": [
    "# Machine Learning Para Economistas "
   ]
  },
  {
   "cell_type": "code",
   "execution_count": 1,
   "metadata": {},
   "outputs": [
    {
     "data": {
      "text/plain": [
       "17"
      ]
     },
     "execution_count": 1,
     "metadata": {},
     "output_type": "execute_result"
    }
   ],
   "source": [
    "### Python como calculadora:\n",
    "\n",
    "14 + 3 "
   ]
  },
  {
   "cell_type": "code",
   "execution_count": 2,
   "metadata": {},
   "outputs": [
    {
     "data": {
      "text/plain": [
       "35"
      ]
     },
     "execution_count": 2,
     "metadata": {},
     "output_type": "execute_result"
    }
   ],
   "source": [
    "## Las expresiones pueden contener variables: (con el operador 'igual')\n",
    "edad = 12\n",
    "23 + edad"
   ]
  },
  {
   "cell_type": "code",
   "execution_count": 3,
   "metadata": {},
   "outputs": [
    {
     "data": {
      "text/plain": [
       "47"
      ]
     },
     "execution_count": 3,
     "metadata": {},
     "output_type": "execute_result"
    }
   ],
   "source": [
    "## Los resultados de las operaciones también pueden ser variables:\n",
    "t_edades = 35 + edad\n",
    "t_edades"
   ]
  },
  {
   "cell_type": "markdown",
   "metadata": {},
   "source": [
    "## Tipos de valores:"
   ]
  },
  {
   "cell_type": "code",
   "execution_count": 4,
   "metadata": {},
   "outputs": [
    {
     "data": {
      "text/plain": [
       "int"
      ]
     },
     "execution_count": 4,
     "metadata": {},
     "output_type": "execute_result"
    }
   ],
   "source": [
    "type(23)"
   ]
  },
  {
   "cell_type": "code",
   "execution_count": 18,
   "metadata": {},
   "outputs": [
    {
     "data": {
      "text/plain": [
       "int"
      ]
     },
     "execution_count": 18,
     "metadata": {},
     "output_type": "execute_result"
    }
   ],
   "source": [
    "type(edad)"
   ]
  },
  {
   "cell_type": "code",
   "execution_count": 19,
   "metadata": {},
   "outputs": [
    {
     "data": {
      "text/plain": [
       "float"
      ]
     },
     "execution_count": 19,
     "metadata": {},
     "output_type": "execute_result"
    }
   ],
   "source": [
    "type(12.5)"
   ]
  },
  {
   "cell_type": "code",
   "execution_count": 20,
   "metadata": {},
   "outputs": [
    {
     "data": {
      "text/plain": [
       "str"
      ]
     },
     "execution_count": 20,
     "metadata": {},
     "output_type": "execute_result"
    }
   ],
   "source": [
    "type(\"Juan\")"
   ]
  },
  {
   "cell_type": "code",
   "execution_count": 24,
   "metadata": {},
   "outputs": [
    {
     "data": {
      "text/plain": [
       "bool"
      ]
     },
     "execution_count": 24,
     "metadata": {},
     "output_type": "execute_result"
    }
   ],
   "source": [
    "type(True)"
   ]
  },
  {
   "cell_type": "markdown",
   "metadata": {},
   "source": [
    "## Aritmética"
   ]
  },
  {
   "cell_type": "markdown",
   "metadata": {},
   "source": [
    "Exponenciación"
   ]
  },
  {
   "cell_type": "code",
   "execution_count": 27,
   "metadata": {},
   "outputs": [
    {
     "data": {
      "text/plain": [
       "81"
      ]
     },
     "execution_count": 27,
     "metadata": {},
     "output_type": "execute_result"
    }
   ],
   "source": [
    "3**4"
   ]
  },
  {
   "cell_type": "markdown",
   "metadata": {},
   "source": [
    "División"
   ]
  },
  {
   "cell_type": "code",
   "execution_count": 28,
   "metadata": {},
   "outputs": [
    {
     "data": {
      "text/plain": [
       "0.6666666666666666"
      ]
     },
     "execution_count": 28,
     "metadata": {},
     "output_type": "execute_result"
    }
   ],
   "source": [
    "2/3"
   ]
  },
  {
   "cell_type": "code",
   "execution_count": 40,
   "metadata": {},
   "outputs": [
    {
     "data": {
      "text/plain": [
       "7"
      ]
     },
     "execution_count": 40,
     "metadata": {},
     "output_type": "execute_result"
    }
   ],
   "source": [
    "## Floor Division : Parte entera\n",
    "30//4"
   ]
  },
  {
   "cell_type": "code",
   "execution_count": 41,
   "metadata": {},
   "outputs": [
    {
     "data": {
      "text/plain": [
       "1"
      ]
     },
     "execution_count": 41,
     "metadata": {},
     "output_type": "execute_result"
    }
   ],
   "source": [
    "## Residuo Division\n",
    "29%2"
   ]
  },
  {
   "cell_type": "markdown",
   "metadata": {},
   "source": [
    "Reglas de orden de operadores:\n",
    "1. Primero se evalúan las expresiones con paréntesis. Si hay paréntesis anidados, de adentro hacia afuera\n",
    "2. Luego se resuelven operaciones de exponenciación. Si hay múltiples, de izquierda a derecha\n",
    "3. A continuación se calcula la multiplicación, división y módulo. Si hay múltiples, de izquierda a derecha\n",
    "4. Finalmente se evalúan sumas y restas. Si hay múltiples, de izquierda a derecha "
   ]
  },
  {
   "cell_type": "markdown",
   "metadata": {},
   "source": [
    "## Strings"
   ]
  },
  {
   "cell_type": "code",
   "execution_count": 36,
   "metadata": {},
   "outputs": [
    {
     "name": "stdout",
     "output_type": "stream",
     "text": [
      "Hola mundo\n"
     ]
    }
   ],
   "source": [
    "# Comillas dobles \n",
    "print(\"Hola mundo\")"
   ]
  },
  {
   "cell_type": "code",
   "execution_count": 37,
   "metadata": {},
   "outputs": [
    {
     "name": "stdout",
     "output_type": "stream",
     "text": [
      "Hola mundo\n"
     ]
    }
   ],
   "source": [
    "# Comillas simples \n",
    "print('Hola mundo')"
   ]
  },
  {
   "cell_type": "code",
   "execution_count": 45,
   "metadata": {},
   "outputs": [
    {
     "name": "stdout",
     "output_type": "stream",
     "text": [
      "Hola\n",
      "Mundo\n"
     ]
    }
   ],
   "source": [
    "## Nueva línea\n",
    "print('Hola\\nMundo')"
   ]
  },
  {
   "cell_type": "code",
   "execution_count": 46,
   "metadata": {},
   "outputs": [
    {
     "name": "stdout",
     "output_type": "stream",
     "text": [
      "Hola\tMundo\n"
     ]
    }
   ],
   "source": [
    "## tab\n",
    "print(\"Hola\\tMundo\")"
   ]
  },
  {
   "cell_type": "code",
   "execution_count": 48,
   "metadata": {},
   "outputs": [
    {
     "name": "stdout",
     "output_type": "stream",
     "text": [
      "Yo tengo 12 años.\n"
     ]
    }
   ],
   "source": [
    "## Ejemplo\n",
    "print(\"Yo tengo\", edad, \"años.\")"
   ]
  },
  {
   "cell_type": "code",
   "execution_count": 55,
   "metadata": {},
   "outputs": [
    {
     "name": "stdout",
     "output_type": "stream",
     "text": [
      "\n",
      "infinefinfeinifinfe\n",
      "feinfeinfeiinfmdmdmdme\n",
      "ffnamaf\n",
      "fminfifneifeinfefeonf\n",
      "feofmomf\n",
      "\n"
     ]
    }
   ],
   "source": [
    "## Comillas Triples\n",
    "print(\"\"\"\n",
    "infinefinfeinifinfe\n",
    "feinfeinfeiinfmdmdmdme\n",
    "ffnamaf\n",
    "fminfifneifeinfefeonf\n",
    "feofmomf\n",
    "\"\"\")"
   ]
  },
  {
   "cell_type": "markdown",
   "metadata": {},
   "source": [
    "## Booleanos"
   ]
  },
  {
   "cell_type": "code",
   "execution_count": 58,
   "metadata": {},
   "outputs": [
    {
     "data": {
      "text/plain": [
       "2"
      ]
     },
     "execution_count": 58,
     "metadata": {},
     "output_type": "execute_result"
    }
   ],
   "source": [
    "## True es igual a 1\n",
    "True + True"
   ]
  },
  {
   "cell_type": "code",
   "execution_count": 60,
   "metadata": {},
   "outputs": [
    {
     "data": {
      "text/plain": [
       "0"
      ]
     },
     "execution_count": 60,
     "metadata": {},
     "output_type": "execute_result"
    }
   ],
   "source": [
    "## False es igual a 0\n",
    "False + False "
   ]
  },
  {
   "cell_type": "code",
   "execution_count": 61,
   "metadata": {},
   "outputs": [
    {
     "data": {
      "text/plain": [
       "True"
      ]
     },
     "execution_count": 61,
     "metadata": {},
     "output_type": "execute_result"
    }
   ],
   "source": [
    "## Mayor que\n",
    "5>3"
   ]
  },
  {
   "cell_type": "code",
   "execution_count": 62,
   "metadata": {},
   "outputs": [
    {
     "data": {
      "text/plain": [
       "False"
      ]
     },
     "execution_count": 62,
     "metadata": {},
     "output_type": "execute_result"
    }
   ],
   "source": [
    "## Menor que\n",
    "5<3"
   ]
  },
  {
   "cell_type": "code",
   "execution_count": 63,
   "metadata": {},
   "outputs": [
    {
     "data": {
      "text/plain": [
       "False"
      ]
     },
     "execution_count": 63,
     "metadata": {},
     "output_type": "execute_result"
    }
   ],
   "source": [
    "## Menor o igual\n",
    "5<=2"
   ]
  },
  {
   "cell_type": "code",
   "execution_count": 64,
   "metadata": {},
   "outputs": [
    {
     "data": {
      "text/plain": [
       "True"
      ]
     },
     "execution_count": 64,
     "metadata": {},
     "output_type": "execute_result"
    }
   ],
   "source": [
    "## Mayor o igual\n",
    "5>=2"
   ]
  },
  {
   "cell_type": "code",
   "execution_count": 65,
   "metadata": {},
   "outputs": [
    {
     "data": {
      "text/plain": [
       "False"
      ]
     },
     "execution_count": 65,
     "metadata": {},
     "output_type": "execute_result"
    }
   ],
   "source": [
    "## Igual\n",
    "5==3"
   ]
  },
  {
   "cell_type": "code",
   "execution_count": 66,
   "metadata": {},
   "outputs": [
    {
     "data": {
      "text/plain": [
       "True"
      ]
     },
     "execution_count": 66,
     "metadata": {},
     "output_type": "execute_result"
    }
   ],
   "source": [
    "## Diferente\n",
    "5!=3"
   ]
  },
  {
   "cell_type": "code",
   "execution_count": 77,
   "metadata": {},
   "outputs": [
    {
     "name": "stdout",
     "output_type": "stream",
     "text": [
      "Cuando A es False y B es True :\n",
      "El resultado del operador AND es False\n",
      "El resultado del operador OR es True\n"
     ]
    }
   ],
   "source": [
    "## Ejercicio: Operadores AND y OR\n",
    "\n",
    "A=False\n",
    "B=True\n",
    "\n",
    "print(\"Cuando A es\", A, \"y B es\", B, \":\")\n",
    "print(\"El resultado del operador AND es\", A and B)\n",
    "print(\"El resultado del operador OR es\", A or B)"
   ]
  },
  {
   "cell_type": "code",
   "execution_count": 80,
   "metadata": {},
   "outputs": [
    {
     "data": {
      "text/plain": [
       "False"
      ]
     },
     "execution_count": 80,
     "metadata": {},
     "output_type": "execute_result"
    }
   ],
   "source": [
    "A and B or A"
   ]
  },
  {
   "cell_type": "markdown",
   "metadata": {},
   "source": [
    "\n",
    "\n",
    "## Estructuras de Control"
   ]
  },
  {
   "cell_type": "markdown",
   "metadata": {},
   "source": [
    "### Algoritmos"
   ]
  },
  {
   "cell_type": "markdown",
   "metadata": {},
   "source": [
    "1. Las acciones a ejecutar \n",
    "2. El orden para ejecutar esas acciones"
   ]
  },
  {
   "cell_type": "markdown",
   "metadata": {},
   "source": [
    "### Con base en selección"
   ]
  },
  {
   "cell_type": "code",
   "execution_count": 91,
   "metadata": {},
   "outputs": [
    {
     "name": "stdout",
     "output_type": "stream",
     "text": [
      "Pasaste a materia\n"
     ]
    }
   ],
   "source": [
    "########\n",
    "## if ##\n",
    "########\n",
    "nota=4\n",
    "\n",
    "if nota>=3:\n",
    "    print(\"Pasaste a materia\")\n",
    "    \n",
    "if nota<3:\n",
    "    print(\"Perdiste la materia\")"
   ]
  },
  {
   "cell_type": "code",
   "execution_count": 90,
   "metadata": {},
   "outputs": [
    {
     "name": "stdout",
     "output_type": "stream",
     "text": [
      "Pasaste a materia\n"
     ]
    }
   ],
   "source": [
    "#############\n",
    "## if else ##\n",
    "#############\n",
    "if nota>=3:\n",
    "    print(\"Pasaste a materia\")\n",
    "else: \n",
    "    print(\"Perdiste la materia\")"
   ]
  },
  {
   "cell_type": "code",
   "execution_count": 96,
   "metadata": {},
   "outputs": [
    {
     "name": "stdout",
     "output_type": "stream",
     "text": [
      "Perdiste la materia\n"
     ]
    }
   ],
   "source": [
    "################\n",
    "## if else if ##\n",
    "################\n",
    "nota=2\n",
    "if nota>=4:\n",
    "    print(\"Felicitaciones, excelente resultado\")\n",
    "elif nota>=3: \n",
    "    print(\"Pasaste la materia la materia\")\n",
    "else:\n",
    "    print(\"Perdiste la materia\")"
   ]
  },
  {
   "cell_type": "code",
   "execution_count": 106,
   "metadata": {},
   "outputs": [
    {
     "name": "stdout",
     "output_type": "stream",
     "text": [
      "Pasaste la materia la materia\n",
      "Felicitaciones, excelente resultado\n"
     ]
    }
   ],
   "source": [
    "##################\n",
    "## Múltiples if ##\n",
    "##################\n",
    "nota=5\n",
    "if nota>=3:\n",
    "    print(\"Pasaste la materia la materia\")\n",
    "    if nota==5:\n",
    "        print(\"Felicitaciones, excelente resultado\")\n",
    "    elif nota>=4: \n",
    "        print(\"Ya casi llegas al 5, ánimo!\")\n",
    "    else: \n",
    "        print(\"Puedes mejorar los resultados\")\n",
    "else:\n",
    "    print(\"Perdiste la materia\")\n"
   ]
  },
  {
   "cell_type": "markdown",
   "metadata": {},
   "source": [
    "### Con base en repetición"
   ]
  },
  {
   "cell_type": "markdown",
   "metadata": {},
   "source": [
    "#### **For**\n",
    "\n"
   ]
  },
  {
   "cell_type": "code",
   "execution_count": 110,
   "metadata": {},
   "outputs": [
    {
     "name": "stdout",
     "output_type": "stream",
     "text": [
      "J\n",
      "u\n",
      "a\n",
      "n\n"
     ]
    }
   ],
   "source": [
    "# Ejemplo for - string\n",
    "nombre = \"Juan\"\n",
    "for letra in nombre:\n",
    "    print(letra)"
   ]
  },
  {
   "cell_type": "code",
   "execution_count": 121,
   "metadata": {},
   "outputs": [
    {
     "name": "stdout",
     "output_type": "stream",
     "text": [
      "JUAN\n",
      "juan\n"
     ]
    }
   ],
   "source": [
    "print(nombre.upper()) #pasar un string a mayúscula\n",
    "print(nombre.lower()) #pasar un string a minúscula"
   ]
  },
  {
   "cell_type": "code",
   "execution_count": 120,
   "metadata": {},
   "outputs": [
    {
     "name": "stdout",
     "output_type": "stream",
     "text": [
      "J\n",
      "U\n",
      "A\n",
      "N\n"
     ]
    }
   ],
   "source": [
    "nombre = \"Juan\"\n",
    "for letra in nombre:\n",
    "    print(letra.upper())"
   ]
  },
  {
   "cell_type": "code",
   "execution_count": 130,
   "metadata": {},
   "outputs": [
    {
     "name": "stdout",
     "output_type": "stream",
     "text": [
      "El cuadrado de 1 es 1\n",
      "El cuadrado de 2 es 4\n",
      "El cuadrado de 3 es 9\n",
      "El cuadrado de 4 es 16\n",
      "El cuadrado de 5 es 25\n",
      "El cuadrado de 6 es 36\n",
      "El cuadrado de 7 es 49\n",
      "El cuadrado de 8 es 64\n",
      "El cuadrado de 9 es 81\n",
      "El cuadrado de 10 es 100\n"
     ]
    }
   ],
   "source": [
    "# Ejemplo for - lista\n",
    "numeros = [1,2,3,4,5,6,7,8,9,10]\n",
    "for i in numeros:\n",
    "    print(\"El cuadrado de\", i, \"es\", i**2)"
   ]
  },
  {
   "cell_type": "code",
   "execution_count": 134,
   "metadata": {},
   "outputs": [
    {
     "name": "stdout",
     "output_type": "stream",
     "text": [
      "1,8,27,64,125,216,343,512,729,1000,"
     ]
    }
   ],
   "source": [
    "for i in numeros:\n",
    "    print(i**3, end=\",\")"
   ]
  },
  {
   "cell_type": "code",
   "execution_count": 142,
   "metadata": {},
   "outputs": [
    {
     "name": "stdout",
     "output_type": "stream",
     "text": [
      "Sacaste 1.5 Perdiste la materia\n",
      "Sacaste 2.5 Perdiste la materia\n",
      "Sacaste 4.0 Pasaste la materia la materia\n",
      "Ya casi llegas al 5, ánimo!\n",
      "Sacaste 4.5 Pasaste la materia la materia\n",
      "Ya casi llegas al 5, ánimo!\n",
      "Sacaste 3.7 Pasaste la materia la materia\n",
      "Puedes mejorar los resultados\n",
      "Sacaste 3.9 Pasaste la materia la materia\n",
      "Puedes mejorar los resultados\n"
     ]
    }
   ],
   "source": [
    "## Ejemplo 2 - Combinar if y for\n",
    "notas=[1.5,2.5,4.0,4.5,3.7,3.9]\n",
    "for i in notas:\n",
    "    if i>=3:\n",
    "        print(\"Sacaste\", i,\"Pasaste la materia la materia\")\n",
    "        if i==5:\n",
    "            print(\"Felicitaciones, excelente resultado\")\n",
    "        elif i>=4: \n",
    "            print(\"Ya casi llegas al 5, ánimo!\")\n",
    "        else: \n",
    "            print(\"Puedes mejorar los resultados\")\n",
    "    else:\n",
    "        print(\"Sacaste\", i, \"Perdiste la materia\") "
   ]
  },
  {
   "cell_type": "code",
   "execution_count": 146,
   "metadata": {},
   "outputs": [
    {
     "name": "stdout",
     "output_type": "stream",
     "text": [
      "Camilo sacó 1.5\n",
      "Andrea sacó 2.5\n",
      "Santiago sacó 4.0\n",
      "Paula sacó 4.5\n",
      "Juan sacó 3.7\n",
      "Carolina sacó 3.9\n"
     ]
    }
   ],
   "source": [
    "## Ejemplo for - Dos listas \n",
    "notas=[1.5,2.5,4.0,4.5,3.7,3.9]\n",
    "nombres=[\"Camilo\",\"Andrea\",\"Santiago\",\"Paula\",\"Juan\",\"Carolina\"]\n",
    "for i,j in zip(notas,nombres):\n",
    "    print(j, \"sacó\", i)"
   ]
  },
  {
   "cell_type": "code",
   "execution_count": 149,
   "metadata": {},
   "outputs": [
    {
     "name": "stdout",
     "output_type": "stream",
     "text": [
      "Juan perdiste la materia con 1.5\n",
      "Juan perdiste la materia con 2.5\n",
      "Felicitaciones Santiago sacaste 4.0\n",
      "Felicitaciones Paula sacaste 4.5\n",
      "Juan pasaste la materia con 3.7\n",
      "Juan pasaste la materia con 3.9\n"
     ]
    }
   ],
   "source": [
    "notas=[1.5,2.5,4.0,4.5,3.7,3.9]\n",
    "nombres=[\"Camilo\",\"Andrea\",\"Santiago\",\"Paula\",\"Juan\",\"Carolina\"]\n",
    "for i,j in zip(notas,nombres):\n",
    "    if i>=4:\n",
    "        print(\"Felicitaciones\", j, \"sacaste\", i)\n",
    "    elif i>=3:\n",
    "        print(nombre, \"pasaste la materia con\", i)\n",
    "    else:\n",
    "        print(nombre, \"perdiste la materia con\", i)"
   ]
  },
  {
   "cell_type": "code",
   "execution_count": 5,
   "metadata": {},
   "outputs": [
    {
     "name": "stdout",
     "output_type": "stream",
     "text": [
      "El resultado de multiplicar 1 y 1 es 1\n",
      "El resultado de multiplicar 1 y 2 es 2\n",
      "El resultado de multiplicar 1 y 3 es 3\n",
      "El resultado de multiplicar 1 y 4 es 4\n",
      "El resultado de multiplicar 1 y 5 es 5\n",
      "El resultado de multiplicar 2 y 1 es 2\n",
      "El resultado de multiplicar 2 y 2 es 4\n",
      "El resultado de multiplicar 2 y 3 es 6\n",
      "El resultado de multiplicar 2 y 4 es 8\n",
      "El resultado de multiplicar 2 y 5 es 10\n",
      "El resultado de multiplicar 3 y 1 es 3\n",
      "El resultado de multiplicar 3 y 2 es 6\n",
      "El resultado de multiplicar 3 y 3 es 9\n",
      "El resultado de multiplicar 3 y 4 es 12\n",
      "El resultado de multiplicar 3 y 5 es 15\n",
      "El resultado de multiplicar 4 y 1 es 4\n",
      "El resultado de multiplicar 4 y 2 es 8\n",
      "El resultado de multiplicar 4 y 3 es 12\n",
      "El resultado de multiplicar 4 y 4 es 16\n",
      "El resultado de multiplicar 4 y 5 es 20\n",
      "El resultado de multiplicar 5 y 1 es 5\n",
      "El resultado de multiplicar 5 y 2 es 10\n",
      "El resultado de multiplicar 5 y 3 es 15\n",
      "El resultado de multiplicar 5 y 4 es 20\n",
      "El resultado de multiplicar 5 y 5 es 25\n"
     ]
    }
   ],
   "source": [
    "## for dentro de un for (for anidado <- nested for)\n",
    "n_multiplicacion=[1,2,3,4,5]\n",
    "for i in n_multiplicacion:\n",
    "    for j in n_multiplicacion:\n",
    "        print(\"El resultado de multiplicar\", i, \"y\", j,\"es\", i*j)"
   ]
  },
  {
   "cell_type": "markdown",
   "metadata": {},
   "source": [
    "### ADELANTAR"
   ]
  },
  {
   "cell_type": "code",
   "execution_count": 11,
   "metadata": {},
   "outputs": [
    {
     "data": {
      "text/plain": [
       "{1, 2, 3, 5, 7, 9}"
      ]
     },
     "execution_count": 11,
     "metadata": {},
     "output_type": "execute_result"
    }
   ],
   "source": [
    "lista_conjunto=[1,2,2,2,3,5,7,9]\n",
    "lista_conjunto_2=set(lista_conjunto)\n",
    "lista_conjunto_2"
   ]
  },
  {
   "cell_type": "code",
   "execution_count": 6,
   "metadata": {},
   "outputs": [
    {
     "data": {
      "text/plain": [
       "True"
      ]
     },
     "execution_count": 6,
     "metadata": {},
     "output_type": "execute_result"
    }
   ],
   "source": [
    "1 in lista_conjunto"
   ]
  },
  {
   "cell_type": "code",
   "execution_count": 8,
   "metadata": {},
   "outputs": [
    {
     "data": {
      "text/plain": [
       "True"
      ]
     },
     "execution_count": 8,
     "metadata": {},
     "output_type": "execute_result"
    }
   ],
   "source": [
    "11 not in lista_conjunto"
   ]
  },
  {
   "cell_type": "code",
   "execution_count": 13,
   "metadata": {},
   "outputs": [
    {
     "data": {
      "text/plain": [
       "{1, 2, 3, 5, 7, 9, 11}"
      ]
     },
     "execution_count": 13,
     "metadata": {},
     "output_type": "execute_result"
    }
   ],
   "source": [
    "lista_conjunto_2.add(11)\n",
    "lista_conjunto_2"
   ]
  },
  {
   "cell_type": "code",
   "execution_count": null,
   "metadata": {},
   "outputs": [],
   "source": [
    "# Métodos útiles para los diccionarios\n",
    "lista_conjunto.add('Elemento a añadir')\n",
    "\n",
    "lista_conjunto.discard('Elemento a eliminar')\n",
    "lista_conjunto.remove('Elemnto a eliminar')\n",
    "\n",
    "lista_conjunto.clear()\n",
    "\n",
    "lista_conjunto.union(otro_conjunto)\n",
    "lista_conjunto.intersection(otro_conjunto)\n",
    "lista_conjunto.issuperset(otro_conjunto)\n",
    "lista_conjunto.issubset(otro_conjunto)\n",
    "lista_conjunto.isdisjoint(otro_conjunto)\n"
   ]
  },
  {
   "cell_type": "markdown",
   "metadata": {},
   "source": [
    "## Comprenhension\n",
    "### List comprenhension"
   ]
  },
  {
   "cell_type": "code",
   "execution_count": null,
   "metadata": {},
   "outputs": [],
   "source": [
    "# Estructura\n",
    "[expresion for item in iterable if condicion]"
   ]
  },
  {
   "cell_type": "code",
   "execution_count": 17,
   "metadata": {},
   "outputs": [
    {
     "name": "stdout",
     "output_type": "stream",
     "text": [
      "['Camilo', 'Andrea', 'Santiago', 'Paula']\n"
     ]
    }
   ],
   "source": [
    "# Ejemplo 1: Primera mayúscula, el resto en minúscula\n",
    "nombres=[\"CAMILO\", \"ANDREA\", \"SANTIAGO\", \"PAULA\"]\n",
    "nombres_formato=[]\n",
    "\n",
    "for i in nombres:\n",
    "    nombres_formato.append(i.capitalize())\n",
    "print(nombres_formato)"
   ]
  },
  {
   "cell_type": "code",
   "execution_count": 19,
   "metadata": {},
   "outputs": [
    {
     "data": {
      "text/plain": [
       "['Camilo', 'Andrea', 'Santiago', 'Paula']"
      ]
     },
     "execution_count": 19,
     "metadata": {},
     "output_type": "execute_result"
    }
   ],
   "source": [
    "# Ejemplo 1: Con List Comprenhension\n",
    "nombres_formato_nueva=[i.capitalize() for i in nombres]\n",
    "nombres_formato_nueva"
   ]
  },
  {
   "cell_type": "code",
   "execution_count": 28,
   "metadata": {},
   "outputs": [
    {
     "data": {
      "text/plain": [
       "[0, 2, 4, 6, 8, 10, 12, 14, 16, 18, 20]"
      ]
     },
     "execution_count": 28,
     "metadata": {},
     "output_type": "execute_result"
    }
   ],
   "source": [
    "# list(range(0,x-1,\"saltos\"))  #Lista de números enteros de 0 a x-1\n",
    "\n",
    "# Ejemplo 2: Números pares\n",
    "rango_numeros=range(21)\n",
    "pares=[]\n",
    "for i in rango_numeros:\n",
    "    if i%2==0:\n",
    "        pares.append(i)\n",
    "pares"
   ]
  },
  {
   "cell_type": "code",
   "execution_count": 32,
   "metadata": {},
   "outputs": [
    {
     "data": {
      "text/plain": [
       "[0, 2, 4, 6, 8, 10, 12, 14, 16, 18, 20]"
      ]
     },
     "execution_count": 32,
     "metadata": {},
     "output_type": "execute_result"
    }
   ],
   "source": [
    "# Ejemplo 2: Con List Comprenhension\n",
    "rango_numeros=range(21)\n",
    "pares=[i for i in rango_numeros if i%2==0]\n",
    "pares"
   ]
  },
  {
   "cell_type": "markdown",
   "metadata": {},
   "source": [
    "## Dictionary Comprenhensions"
   ]
  },
  {
   "cell_type": "code",
   "execution_count": null,
   "metadata": {},
   "outputs": [],
   "source": [
    "# Estructura\n",
    "{key:value for item in lista_item if condicion}"
   ]
  },
  {
   "cell_type": "code",
   "execution_count": 39,
   "metadata": {},
   "outputs": [
    {
     "data": {
      "text/plain": [
       "{'Camilo': {3.5, 4.3},\n",
       " 'Andrea': {2.8, 3.4},\n",
       " 'Santiago': {4.5, 5.0},\n",
       " 'Paula': {3.1, 4.3}}"
      ]
     },
     "execution_count": 39,
     "metadata": {},
     "output_type": "execute_result"
    }
   ],
   "source": [
    "# Ejemplo 1:\n",
    "\n",
    "nombres=[\"Camilo\",\"Andrea\",\"Santiago\",\"Paula\"]\n",
    "notas=[{3.5,4.3},{2.8,3.4},{4.5,5.0},{3.1,4.3}]\n",
    "dicc_notas={}\n",
    "\n",
    "for i,j in zip(nombres,notas):\n",
    "    dicc_notas[i]=j\n",
    "dicc_notas"
   ]
  },
  {
   "cell_type": "code",
   "execution_count": 38,
   "metadata": {},
   "outputs": [
    {
     "data": {
      "text/plain": [
       "{'Camilo': {3.5, 4.3},\n",
       " 'Andrea': {2.8, 3.4},\n",
       " 'Santiago': {4.5, 5.0},\n",
       " 'Paula': {3.1, 4.3}}"
      ]
     },
     "execution_count": 38,
     "metadata": {},
     "output_type": "execute_result"
    }
   ],
   "source": [
    "# Ejemplo 1: Con Dictionary Comprehensions\n",
    "nombres=[\"Camilo\",\"Andrea\",\"Santiago\",\"Paula\"]\n",
    "notas=[{3.5,4.3},{2.8,3.4},{4.5,5.0},{3.1,4.3}]\n",
    "dicc_notas={i:j for i,j in zip(nombres,notas)}\n",
    "dicc_notas"
   ]
  },
  {
   "cell_type": "markdown",
   "metadata": {},
   "source": [
    "## Generators - Generadores"
   ]
  },
  {
   "cell_type": "code",
   "execution_count": 57,
   "metadata": {},
   "outputs": [
    {
     "data": {
      "text/plain": [
       "<generator object <genexpr> at 0x7fab2f29f820>"
      ]
     },
     "execution_count": 57,
     "metadata": {},
     "output_type": "execute_result"
    }
   ],
   "source": [
    "generador_pares=(i for i in rango_numeros if i%2==0)\n",
    "generador_pares"
   ]
  },
  {
   "cell_type": "markdown",
   "metadata": {},
   "source": [
    "## Filter"
   ]
  },
  {
   "cell_type": "code",
   "execution_count": 46,
   "metadata": {},
   "outputs": [],
   "source": [
    "# Estructura básica: FUNCIONA CON BOOLEANO\n",
    "numeros=[10,3,7,1,9,4,2,8,5,6]\n",
    "\n",
    "def es_impar(i):\n",
    "    \"\"\"Devuelve un booleano dependiendo si el número es impar o no\"\"\"\n",
    "    return i%2!=0"
   ]
  },
  {
   "cell_type": "code",
   "execution_count": 49,
   "metadata": {},
   "outputs": [
    {
     "data": {
      "text/plain": [
       "False"
      ]
     },
     "execution_count": 49,
     "metadata": {},
     "output_type": "execute_result"
    }
   ],
   "source": [
    "es_impar(4)"
   ]
  },
  {
   "cell_type": "code",
   "execution_count": 50,
   "metadata": {},
   "outputs": [
    {
     "data": {
      "text/plain": [
       "True"
      ]
     },
     "execution_count": 50,
     "metadata": {},
     "output_type": "execute_result"
    }
   ],
   "source": [
    "es_impar(3)"
   ]
  },
  {
   "cell_type": "code",
   "execution_count": 51,
   "metadata": {},
   "outputs": [
    {
     "data": {
      "text/plain": [
       "<filter at 0x7fab2f1437c0>"
      ]
     },
     "execution_count": 51,
     "metadata": {},
     "output_type": "execute_result"
    }
   ],
   "source": [
    "# Evaluación - lazy <- No lo ejecuta si no se llama\n",
    "filter(es_impar,numeros)"
   ]
  },
  {
   "cell_type": "code",
   "execution_count": 58,
   "metadata": {},
   "outputs": [
    {
     "data": {
      "text/plain": [
       "[3, 7, 1, 9, 5]"
      ]
     },
     "execution_count": 58,
     "metadata": {},
     "output_type": "execute_result"
    }
   ],
   "source": [
    "list(filter(es_impar,numeros))"
   ]
  },
  {
   "cell_type": "code",
   "execution_count": 60,
   "metadata": {
    "scrolled": true
   },
   "outputs": [
    {
     "data": {
      "text/plain": [
       "[3, 7, 1, 9, 5]"
      ]
     },
     "execution_count": 60,
     "metadata": {},
     "output_type": "execute_result"
    }
   ],
   "source": [
    "# Usando funciones lamnda\n",
    "list(filter(lambda i: i % 2!=0,numeros))"
   ]
  },
  {
   "cell_type": "code",
   "execution_count": 63,
   "metadata": {},
   "outputs": [
    {
     "data": {
      "text/plain": [
       "[10, 7, 9, 8, 6]"
      ]
     },
     "execution_count": 63,
     "metadata": {},
     "output_type": "execute_result"
    }
   ],
   "source": [
    "# Filtrar los números mayores a 5\n",
    "numeros=[10,3,7,1,9,4,2,8,5,6]\n",
    "\n",
    "def mayorque_cinco(i):\n",
    "    return i>5\n",
    "\n",
    "list(filter(mayorque_cinco,numeros))"
   ]
  },
  {
   "cell_type": "markdown",
   "metadata": {},
   "source": [
    "## Map"
   ]
  },
  {
   "cell_type": "code",
   "execution_count": 62,
   "metadata": {},
   "outputs": [
    {
     "data": {
      "text/plain": [
       "[3.1622776601683795,\n",
       " 1.7320508075688772,\n",
       " 2.6457513110645907,\n",
       " 1.0,\n",
       " 3.0,\n",
       " 2.0,\n",
       " 1.4142135623730951,\n",
       " 2.8284271247461903,\n",
       " 2.23606797749979,\n",
       " 2.449489742783178]"
      ]
     },
     "execution_count": 62,
     "metadata": {},
     "output_type": "execute_result"
    }
   ],
   "source": [
    "import math\n",
    "\n",
    "# Estructura básica: FUNCIONA CON UNA TRANSFORMACIÓN\n",
    "numeros=[10,3,7,1,9,4,2,8,5,6]\n",
    "list(map(lambda i:math.sqrt(i),numeros))"
   ]
  },
  {
   "cell_type": "markdown",
   "metadata": {},
   "source": [
    "## Multidimensionalidad"
   ]
  },
  {
   "cell_type": "code",
   "execution_count": 64,
   "metadata": {},
   "outputs": [],
   "source": [
    "# Tablas <- Listas de listas\n",
    "\n",
    "md=[[1,3,5,8],\n",
    "   [2,7,8,3],\n",
    "   [4,8,0,1]]"
   ]
  },
  {
   "cell_type": "code",
   "execution_count": 67,
   "metadata": {},
   "outputs": [
    {
     "data": {
      "text/plain": [
       "7"
      ]
     },
     "execution_count": 67,
     "metadata": {},
     "output_type": "execute_result"
    }
   ],
   "source": [
    "# Extracción de elementos \n",
    "\n",
    "md[1][1] #Recordar que los ínidices van desde 0"
   ]
  },
  {
   "cell_type": "code",
   "execution_count": 74,
   "metadata": {},
   "outputs": [
    {
     "name": "stdout",
     "output_type": "stream",
     "text": [
      "1 3 5 8 \n",
      "2 7 8 3 \n",
      "4 8 0 1 \n"
     ]
    }
   ],
   "source": [
    "for i in md:\n",
    "    for j in i:\n",
    "        print(j, end=\" \")\n",
    "    print()"
   ]
  }
 ],
 "metadata": {
  "kernelspec": {
   "display_name": "Python 3",
   "language": "python",
   "name": "python3"
  },
  "language_info": {
   "codemirror_mode": {
    "name": "ipython",
    "version": 3
   },
   "file_extension": ".py",
   "mimetype": "text/x-python",
   "name": "python",
   "nbconvert_exporter": "python",
   "pygments_lexer": "ipython3",
   "version": "3.8.5"
  }
 },
 "nbformat": 4,
 "nbformat_minor": 4
}
