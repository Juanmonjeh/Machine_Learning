{
  "nbformat": 4,
  "nbformat_minor": 0,
  "metadata": {
    "kernelspec": {
      "display_name": "Python 3",
      "language": "python",
      "name": "python3"
    },
    "language_info": {
      "codemirror_mode": {
        "name": "ipython",
        "version": 3
      },
      "file_extension": ".py",
      "mimetype": "text/x-python",
      "name": "python",
      "nbconvert_exporter": "python",
      "pygments_lexer": "ipython3",
      "version": "3.8.5"
    },
    "colab": {
      "name": "clase_2.ipynb",
      "provenance": []
    }
  },
  "cells": [
    {
      "cell_type": "markdown",
      "metadata": {
        "id": "a-T-RMihIYvo"
      },
      "source": [
        "# Clase 2: rudimentos de python (I)"
      ]
    },
    {
      "cell_type": "code",
      "metadata": {
        "colab": {
          "base_uri": "https://localhost:8080/"
        },
        "id": "NyQVwBF1IYvq",
        "outputId": "407b5311-ef69-4ad6-ad01-89f1b4b7f2cf"
      },
      "source": [
        "#primer programa\n",
        "print('Hola, mundo')"
      ],
      "execution_count": null,
      "outputs": [
        {
          "output_type": "stream",
          "text": [
            "Hola, mundo\n"
          ],
          "name": "stdout"
        }
      ]
    },
    {
      "cell_type": "markdown",
      "metadata": {
        "id": "PdbfCLVrIYvr"
      },
      "source": [
        "## Operadores"
      ]
    },
    {
      "cell_type": "markdown",
      "metadata": {
        "id": "gxHM8aPQIYvs"
      },
      "source": [
        "### Operadores aritméticos"
      ]
    },
    {
      "cell_type": "code",
      "metadata": {
        "colab": {
          "base_uri": "https://localhost:8080/"
        },
        "id": "s8CnPLdmIYvs",
        "outputId": "21fae429-9119-4e79-a990-2686a145c26c"
      },
      "source": [
        "#suma\n",
        "8 + 2"
      ],
      "execution_count": null,
      "outputs": [
        {
          "output_type": "execute_result",
          "data": {
            "text/plain": [
              "10"
            ]
          },
          "metadata": {
            "tags": []
          },
          "execution_count": 2
        }
      ]
    },
    {
      "cell_type": "code",
      "metadata": {
        "colab": {
          "base_uri": "https://localhost:8080/"
        },
        "id": "O7-NGY_UIYvt",
        "outputId": "69fd0413-6372-47ca-ce36-527ee46d24b5"
      },
      "source": [
        "#resta\n",
        "10 - 2"
      ],
      "execution_count": null,
      "outputs": [
        {
          "output_type": "execute_result",
          "data": {
            "text/plain": [
              "8"
            ]
          },
          "metadata": {
            "tags": []
          },
          "execution_count": 3
        }
      ]
    },
    {
      "cell_type": "code",
      "metadata": {
        "colab": {
          "base_uri": "https://localhost:8080/"
        },
        "id": "ALfpWPw_IYvu",
        "outputId": "2b47eb39-0f03-4008-9a39-acee0703918c"
      },
      "source": [
        "#multiplicación\n",
        "4 * 5"
      ],
      "execution_count": null,
      "outputs": [
        {
          "output_type": "execute_result",
          "data": {
            "text/plain": [
              "20"
            ]
          },
          "metadata": {
            "tags": []
          },
          "execution_count": 4
        }
      ]
    },
    {
      "cell_type": "code",
      "metadata": {
        "colab": {
          "base_uri": "https://localhost:8080/"
        },
        "id": "i8L8Fq5EIYvu",
        "outputId": "e141e1da-a552-4fc2-957f-81cd84ad4390"
      },
      "source": [
        "#división\n",
        "9 / 2"
      ],
      "execution_count": null,
      "outputs": [
        {
          "output_type": "execute_result",
          "data": {
            "text/plain": [
              "4.5"
            ]
          },
          "metadata": {
            "tags": []
          },
          "execution_count": 12
        }
      ]
    },
    {
      "cell_type": "code",
      "metadata": {
        "colab": {
          "base_uri": "https://localhost:8080/"
        },
        "id": "4vRPxIHyIYvv",
        "outputId": "31a870c8-dfd9-4fc1-db83-babdc1c4bc76"
      },
      "source": [
        "#potencia\n",
        "5 ** 2"
      ],
      "execution_count": null,
      "outputs": [
        {
          "output_type": "execute_result",
          "data": {
            "text/plain": [
              "25"
            ]
          },
          "metadata": {
            "tags": []
          },
          "execution_count": 6
        }
      ]
    },
    {
      "cell_type": "code",
      "metadata": {
        "colab": {
          "base_uri": "https://localhost:8080/"
        },
        "id": "Lf7s3Ub4IYvw",
        "outputId": "b87d2083-7f5c-4e8e-b8ec-98134fb9abbb"
      },
      "source": [
        "#módulo\n",
        "9 % 2"
      ],
      "execution_count": null,
      "outputs": [
        {
          "output_type": "execute_result",
          "data": {
            "text/plain": [
              "1"
            ]
          },
          "metadata": {
            "tags": []
          },
          "execution_count": 10
        }
      ]
    },
    {
      "cell_type": "code",
      "metadata": {
        "colab": {
          "base_uri": "https://localhost:8080/"
        },
        "id": "Qcf1j0V0IYvx",
        "outputId": "85db90b6-b7d3-4c68-83e0-91f088936f0c"
      },
      "source": [
        "#floor division\n",
        "9 // 2"
      ],
      "execution_count": null,
      "outputs": [
        {
          "output_type": "execute_result",
          "data": {
            "text/plain": [
              "4"
            ]
          },
          "metadata": {
            "tags": []
          },
          "execution_count": 11
        }
      ]
    },
    {
      "cell_type": "markdown",
      "metadata": {
        "id": "AsVsQSuTIYvy"
      },
      "source": [
        "### Operadores lógicos\n",
        "\n"
      ]
    },
    {
      "cell_type": "code",
      "metadata": {
        "colab": {
          "base_uri": "https://localhost:8080/"
        },
        "id": "Xlczcyh7IYvz",
        "outputId": "efbfc3c6-f12c-4930-95b6-7ef6c1006215"
      },
      "source": [
        "#disyunción\n",
        "False or False"
      ],
      "execution_count": null,
      "outputs": [
        {
          "output_type": "execute_result",
          "data": {
            "text/plain": [
              "False"
            ]
          },
          "metadata": {
            "tags": []
          },
          "execution_count": 15
        }
      ]
    },
    {
      "cell_type": "code",
      "metadata": {
        "colab": {
          "base_uri": "https://localhost:8080/"
        },
        "id": "Y4X3yOokIYv1",
        "outputId": "1dc1b8be-0401-4f96-ce7f-69f4e8b144cc"
      },
      "source": [
        "#conjuncion\n",
        "True and True"
      ],
      "execution_count": null,
      "outputs": [
        {
          "output_type": "execute_result",
          "data": {
            "text/plain": [
              "True"
            ]
          },
          "metadata": {
            "tags": []
          },
          "execution_count": 17
        }
      ]
    },
    {
      "cell_type": "code",
      "metadata": {
        "colab": {
          "base_uri": "https://localhost:8080/"
        },
        "id": "llUn9HZrIYv2",
        "outputId": "bd93a5a1-f851-4df3-ace0-02cdaea6e687"
      },
      "source": [
        "#negación\n",
        "\n",
        "not False"
      ],
      "execution_count": null,
      "outputs": [
        {
          "output_type": "execute_result",
          "data": {
            "text/plain": [
              "True"
            ]
          },
          "metadata": {
            "tags": []
          },
          "execution_count": 19
        }
      ]
    },
    {
      "cell_type": "markdown",
      "metadata": {
        "id": "Fwz4Es4PIYv3"
      },
      "source": [
        "### Operadores de comparación"
      ]
    },
    {
      "cell_type": "code",
      "metadata": {
        "colab": {
          "base_uri": "https://localhost:8080/"
        },
        "id": "8FvqbOWwIYv3",
        "outputId": "8cab53f2-4d4c-4f5f-f5de-4c5b7c82ef1e"
      },
      "source": [
        "#mayor que\n",
        "10 > 2"
      ],
      "execution_count": null,
      "outputs": [
        {
          "output_type": "execute_result",
          "data": {
            "text/plain": [
              "True"
            ]
          },
          "metadata": {
            "tags": []
          },
          "execution_count": 20
        }
      ]
    },
    {
      "cell_type": "code",
      "metadata": {
        "colab": {
          "base_uri": "https://localhost:8080/"
        },
        "id": "OaZAHAGuIYv5",
        "outputId": "fb662087-3229-4cac-f4f4-50dd6fad127e"
      },
      "source": [
        "#menor que\n",
        "10 < 2"
      ],
      "execution_count": null,
      "outputs": [
        {
          "output_type": "execute_result",
          "data": {
            "text/plain": [
              "False"
            ]
          },
          "metadata": {
            "tags": []
          },
          "execution_count": 21
        }
      ]
    },
    {
      "cell_type": "code",
      "metadata": {
        "colab": {
          "base_uri": "https://localhost:8080/"
        },
        "id": "Q7bSsvKZIYv5",
        "outputId": "9da241ba-8521-4ded-f23c-4df3b2c1031e"
      },
      "source": [
        "#mayor o igual que\n",
        "10 >= 2"
      ],
      "execution_count": null,
      "outputs": [
        {
          "output_type": "execute_result",
          "data": {
            "text/plain": [
              "True"
            ]
          },
          "metadata": {
            "tags": []
          },
          "execution_count": 22
        }
      ]
    },
    {
      "cell_type": "code",
      "metadata": {
        "colab": {
          "base_uri": "https://localhost:8080/"
        },
        "id": "nrQbF-0yIYv6",
        "outputId": "56018f7f-9300-43b4-c94b-080a383079b9"
      },
      "source": [
        "#menor o igual que\n",
        "10 <= 2"
      ],
      "execution_count": null,
      "outputs": [
        {
          "output_type": "execute_result",
          "data": {
            "text/plain": [
              "False"
            ]
          },
          "metadata": {
            "tags": []
          },
          "execution_count": 23
        }
      ]
    },
    {
      "cell_type": "code",
      "metadata": {
        "colab": {
          "base_uri": "https://localhost:8080/"
        },
        "id": "vhYNjOTMIYv6",
        "outputId": "a405e8e9-7ba9-4138-f8d0-7d5b5377dd58"
      },
      "source": [
        "#igual que\n",
        "10 == 2"
      ],
      "execution_count": null,
      "outputs": [
        {
          "output_type": "execute_result",
          "data": {
            "text/plain": [
              "False"
            ]
          },
          "metadata": {
            "tags": []
          },
          "execution_count": 24
        }
      ]
    },
    {
      "cell_type": "code",
      "metadata": {
        "colab": {
          "base_uri": "https://localhost:8080/"
        },
        "id": "y8yVFuktIYv7",
        "outputId": "264f5bb3-cbc1-4f85-d2d3-f7531265d79f"
      },
      "source": [
        "#diferente de\n",
        "10 != 2"
      ],
      "execution_count": null,
      "outputs": [
        {
          "output_type": "execute_result",
          "data": {
            "text/plain": [
              "True"
            ]
          },
          "metadata": {
            "tags": []
          },
          "execution_count": 25
        }
      ]
    },
    {
      "cell_type": "markdown",
      "metadata": {
        "id": "9B8ztbfwIYv9"
      },
      "source": [
        "### Operadores de asignación"
      ]
    },
    {
      "cell_type": "code",
      "metadata": {
        "id": "VFQw7wu3NPPi"
      },
      "source": [
        "x = 4"
      ],
      "execution_count": null,
      "outputs": []
    },
    {
      "cell_type": "code",
      "metadata": {
        "id": "Qh5e6lK_NU55"
      },
      "source": [
        "x = x + 1"
      ],
      "execution_count": null,
      "outputs": []
    },
    {
      "cell_type": "code",
      "metadata": {
        "id": "WghjZAqFNUvy"
      },
      "source": [
        "x += 1"
      ],
      "execution_count": null,
      "outputs": []
    },
    {
      "cell_type": "code",
      "metadata": {
        "id": "LjDgDs0zNUnL"
      },
      "source": [
        "x -= 1"
      ],
      "execution_count": null,
      "outputs": []
    },
    {
      "cell_type": "code",
      "metadata": {
        "id": "DtqE8-mXNsUR"
      },
      "source": [
        "x *= 2"
      ],
      "execution_count": null,
      "outputs": []
    },
    {
      "cell_type": "code",
      "metadata": {
        "id": "WctFFBRXNsK5"
      },
      "source": [
        "x /= 2"
      ],
      "execution_count": null,
      "outputs": []
    },
    {
      "cell_type": "code",
      "metadata": {
        "colab": {
          "base_uri": "https://localhost:8080/"
        },
        "id": "vfVtKKAJNr_r",
        "outputId": "d94f2e72-f8e3-44cd-8d18-2d27338d6f4c"
      },
      "source": [
        "x"
      ],
      "execution_count": null,
      "outputs": [
        {
          "output_type": "execute_result",
          "data": {
            "text/plain": [
              "6.0"
            ]
          },
          "metadata": {
            "tags": []
          },
          "execution_count": 38
        }
      ]
    },
    {
      "cell_type": "code",
      "metadata": {
        "colab": {
          "base_uri": "https://localhost:8080/",
          "height": 164
        },
        "id": "XulML6DcNrya",
        "outputId": "7ddef38e-8d5b-4530-8efd-9e61396bd305"
      },
      "source": [
        "y += 1"
      ],
      "execution_count": null,
      "outputs": [
        {
          "output_type": "error",
          "ename": "NameError",
          "evalue": "ignored",
          "traceback": [
            "\u001b[0;31m---------------------------------------------------------------------------\u001b[0m",
            "\u001b[0;31mNameError\u001b[0m                                 Traceback (most recent call last)",
            "\u001b[0;32m<ipython-input-39-2defa5434d76>\u001b[0m in \u001b[0;36m<module>\u001b[0;34m()\u001b[0m\n\u001b[0;32m----> 1\u001b[0;31m \u001b[0my\u001b[0m \u001b[0;34m+=\u001b[0m \u001b[0;36m1\u001b[0m\u001b[0;34m\u001b[0m\u001b[0;34m\u001b[0m\u001b[0m\n\u001b[0m",
            "\u001b[0;31mNameError\u001b[0m: name 'y' is not defined"
          ]
        }
      ]
    },
    {
      "cell_type": "markdown",
      "metadata": {
        "id": "dUyZLttmIYv-"
      },
      "source": [
        "#### Variables\n",
        "\n",
        "Espacio de memoria ocupado por una información específica.\n",
        "\n",
        "- Las variables tienen que ser elocuentes.\n",
        "- Variables globales en mayúscula.\n",
        "- Variables locales en minúscula.\n",
        "- snake_case; camelCase"
      ]
    },
    {
      "cell_type": "markdown",
      "metadata": {
        "id": "zlL_4TmoIYwC"
      },
      "source": [
        "## Tipos de datos\n",
        "\n",
        "Función `type`\n",
        "\n",
        "ingreso: cuantitativa; `int`\n",
        "\n",
        "nivel_educativo: cualitativa; `str`\n",
        "\n",
        "edad: cuantitativa; `int`\n",
        "\n",
        "estrato: cuantitativa; `int`\n",
        "\n",
        "sexo_biologico: cualitativa; `str`\n",
        "\n",
        "experiencia: cuantitativa; `int`\n",
        "\n",
        "tipo_vivienda: cualitativa; `str`\n",
        "\n",
        "numero_personas_hogar: cuantitativa; `int`\n",
        "\n",
        "trabaja: binaria; `bool`"
      ]
    },
    {
      "cell_type": "code",
      "metadata": {
        "id": "s1rE395wIYwC"
      },
      "source": [
        "#encuesta"
      ],
      "execution_count": null,
      "outputs": []
    },
    {
      "cell_type": "code",
      "metadata": {
        "colab": {
          "base_uri": "https://localhost:8080/"
        },
        "id": "ymRCCvgqIYwC",
        "outputId": "dd134e19-d70e-4818-ba3c-12defafd8577"
      },
      "source": [
        "type(4) #integer, entero"
      ],
      "execution_count": null,
      "outputs": [
        {
          "output_type": "execute_result",
          "data": {
            "text/plain": [
              "int"
            ]
          },
          "metadata": {
            "tags": []
          },
          "execution_count": 40
        }
      ]
    },
    {
      "cell_type": "code",
      "metadata": {
        "colab": {
          "base_uri": "https://localhost:8080/"
        },
        "id": "4SByMpJbP5Xg",
        "outputId": "a41a395b-5171-444a-c150-9a416a04a5bf"
      },
      "source": [
        "type(4.5) #float, decimal"
      ],
      "execution_count": null,
      "outputs": [
        {
          "output_type": "execute_result",
          "data": {
            "text/plain": [
              "float"
            ]
          },
          "metadata": {
            "tags": []
          },
          "execution_count": 41
        }
      ]
    },
    {
      "cell_type": "code",
      "metadata": {
        "colab": {
          "base_uri": "https://localhost:8080/"
        },
        "id": "e8SMdjQIP5LN",
        "outputId": "236bdbf7-705e-406e-9b1f-0eb08e6ff0c7"
      },
      "source": [
        "type(\"Hola, mundo\") #string, cadena de caracteres"
      ],
      "execution_count": null,
      "outputs": [
        {
          "output_type": "execute_result",
          "data": {
            "text/plain": [
              "str"
            ]
          },
          "metadata": {
            "tags": []
          },
          "execution_count": 42
        }
      ]
    },
    {
      "cell_type": "code",
      "metadata": {
        "colab": {
          "base_uri": "https://localhost:8080/"
        },
        "id": "OGu85Hl6P5A6",
        "outputId": "88ce43f7-ded7-4dca-d08a-95fc4d20a85d"
      },
      "source": [
        "type(True) #booleano"
      ],
      "execution_count": null,
      "outputs": [
        {
          "output_type": "execute_result",
          "data": {
            "text/plain": [
              "bool"
            ]
          },
          "metadata": {
            "tags": []
          },
          "execution_count": 43
        }
      ]
    },
    {
      "cell_type": "markdown",
      "metadata": {
        "id": "C19GClSlIYwD"
      },
      "source": [
        "## Estructuras de datos"
      ]
    },
    {
      "cell_type": "markdown",
      "metadata": {
        "id": "56GegettIYwF"
      },
      "source": [
        "### Listas\n",
        "\n",
        "`[]`"
      ]
    },
    {
      "cell_type": "code",
      "metadata": {
        "colab": {
          "base_uri": "https://localhost:8080/"
        },
        "id": "WVDP9NusIYwF",
        "outputId": "ac8adf84-f053-405f-9280-d759f702ecbf"
      },
      "source": [
        "lista_vacia = []\n",
        "type(lista_vacia)"
      ],
      "execution_count": null,
      "outputs": [
        {
          "output_type": "execute_result",
          "data": {
            "text/plain": [
              "list"
            ]
          },
          "metadata": {
            "tags": []
          },
          "execution_count": 46
        }
      ]
    },
    {
      "cell_type": "code",
      "metadata": {
        "id": "NFrF4-MPIYwG"
      },
      "source": [
        "#agregar un elemento\n",
        "lista_vacia.append(4)"
      ],
      "execution_count": null,
      "outputs": []
    },
    {
      "cell_type": "code",
      "metadata": {
        "colab": {
          "base_uri": "https://localhost:8080/"
        },
        "id": "r0Fj3m0bSRFJ",
        "outputId": "b50dbe9c-15e6-464b-d1cf-50548d437466"
      },
      "source": [
        "lista_vacia"
      ],
      "execution_count": null,
      "outputs": [
        {
          "output_type": "execute_result",
          "data": {
            "text/plain": [
              "[4]"
            ]
          },
          "metadata": {
            "tags": []
          },
          "execution_count": 48
        }
      ]
    },
    {
      "cell_type": "code",
      "metadata": {
        "id": "0cNld8hSIYwH"
      },
      "source": [
        "#agregar varios elementos\n",
        "lista_vacia.extend([4,5,6,7,8])"
      ],
      "execution_count": null,
      "outputs": []
    },
    {
      "cell_type": "code",
      "metadata": {
        "colab": {
          "base_uri": "https://localhost:8080/"
        },
        "id": "bUdlXChkSalu",
        "outputId": "ad82b3d0-dc7c-425b-9ebc-bdb1d533e181"
      },
      "source": [
        "lista_vacia"
      ],
      "execution_count": null,
      "outputs": [
        {
          "output_type": "execute_result",
          "data": {
            "text/plain": [
              "[4, 4, 5, 6, 7, 8]"
            ]
          },
          "metadata": {
            "tags": []
          },
          "execution_count": 50
        }
      ]
    },
    {
      "cell_type": "code",
      "metadata": {
        "colab": {
          "base_uri": "https://localhost:8080/",
          "height": 181
        },
        "id": "752qHMoPIYwH",
        "outputId": "dae44451-f613-4505-b1d7-101b4df0e0f6"
      },
      "source": [
        "#eliminar un elemento\n",
        "lista_vacia.remove(0)"
      ],
      "execution_count": null,
      "outputs": [
        {
          "output_type": "error",
          "ename": "ValueError",
          "evalue": "ignored",
          "traceback": [
            "\u001b[0;31m---------------------------------------------------------------------------\u001b[0m",
            "\u001b[0;31mValueError\u001b[0m                                Traceback (most recent call last)",
            "\u001b[0;32m<ipython-input-51-debecafdcbde>\u001b[0m in \u001b[0;36m<module>\u001b[0;34m()\u001b[0m\n\u001b[1;32m      1\u001b[0m \u001b[0;31m#eliminar un elemento\u001b[0m\u001b[0;34m\u001b[0m\u001b[0;34m\u001b[0m\u001b[0;34m\u001b[0m\u001b[0m\n\u001b[0;32m----> 2\u001b[0;31m \u001b[0mlista_vacia\u001b[0m\u001b[0;34m.\u001b[0m\u001b[0mremove\u001b[0m\u001b[0;34m(\u001b[0m\u001b[0;36m0\u001b[0m\u001b[0;34m)\u001b[0m\u001b[0;34m\u001b[0m\u001b[0;34m\u001b[0m\u001b[0m\n\u001b[0m",
            "\u001b[0;31mValueError\u001b[0m: list.remove(x): x not in list"
          ]
        }
      ]
    },
    {
      "cell_type": "code",
      "metadata": {
        "id": "X_toha6vSqWu"
      },
      "source": [
        "lista_vacia.remove(5)"
      ],
      "execution_count": null,
      "outputs": []
    },
    {
      "cell_type": "code",
      "metadata": {
        "colab": {
          "base_uri": "https://localhost:8080/"
        },
        "id": "zdY4gRnFSuDF",
        "outputId": "03482c4a-753c-4f35-d9a5-138b38694a80"
      },
      "source": [
        "lista_vacia"
      ],
      "execution_count": null,
      "outputs": [
        {
          "output_type": "execute_result",
          "data": {
            "text/plain": [
              "[4, 4, 6, 7, 8]"
            ]
          },
          "metadata": {
            "tags": []
          },
          "execution_count": 53
        }
      ]
    },
    {
      "cell_type": "code",
      "metadata": {
        "id": "OMhFpiihSx-n"
      },
      "source": [
        "lista_vacia.remove(4)\n",
        "lista_vacia.append(4)\n",
        "lista_vacia.remove(4)"
      ],
      "execution_count": null,
      "outputs": []
    },
    {
      "cell_type": "code",
      "metadata": {
        "colab": {
          "base_uri": "https://localhost:8080/"
        },
        "id": "x-aFTsYCS5ec",
        "outputId": "52e85528-de4e-45f4-e41d-46587fa9d25c"
      },
      "source": [
        "lista_vacia"
      ],
      "execution_count": null,
      "outputs": [
        {
          "output_type": "execute_result",
          "data": {
            "text/plain": [
              "[6, 7, 8, 4]"
            ]
          },
          "metadata": {
            "tags": []
          },
          "execution_count": 55
        }
      ]
    },
    {
      "cell_type": "code",
      "metadata": {
        "colab": {
          "base_uri": "https://localhost:8080/"
        },
        "id": "5ZNyQ9baIYwI",
        "outputId": "836c0948-cfd0-466e-9ef2-3dacd646b80c"
      },
      "source": [
        "#indexación y slicing\n",
        "lista_vacia[0]"
      ],
      "execution_count": null,
      "outputs": [
        {
          "output_type": "execute_result",
          "data": {
            "text/plain": [
              "6"
            ]
          },
          "metadata": {
            "tags": []
          },
          "execution_count": 57
        }
      ]
    },
    {
      "cell_type": "code",
      "metadata": {
        "colab": {
          "base_uri": "https://localhost:8080/"
        },
        "id": "eSHzIPWgTQ5z",
        "outputId": "31c78e00-c26f-443d-e322-1c16a07e9b53"
      },
      "source": [
        "lista_vacia[1]"
      ],
      "execution_count": null,
      "outputs": [
        {
          "output_type": "execute_result",
          "data": {
            "text/plain": [
              "7"
            ]
          },
          "metadata": {
            "tags": []
          },
          "execution_count": 58
        }
      ]
    },
    {
      "cell_type": "code",
      "metadata": {
        "id": "G4gYmubDTWbT"
      },
      "source": [
        "lista_2 = list(range(0,15))"
      ],
      "execution_count": null,
      "outputs": []
    },
    {
      "cell_type": "code",
      "metadata": {
        "colab": {
          "base_uri": "https://localhost:8080/"
        },
        "id": "113SMhASTbto",
        "outputId": "e04a4e73-ecf8-43b8-e8a5-850053ee20f8"
      },
      "source": [
        "lista_2[0:5] #punto de partida, punto de llegada"
      ],
      "execution_count": null,
      "outputs": [
        {
          "output_type": "execute_result",
          "data": {
            "text/plain": [
              "[0, 1, 2, 3, 4]"
            ]
          },
          "metadata": {
            "tags": []
          },
          "execution_count": 61
        }
      ]
    },
    {
      "cell_type": "code",
      "metadata": {
        "colab": {
          "base_uri": "https://localhost:8080/"
        },
        "id": "438entbhTbaf",
        "outputId": "1a31323e-1062-43ad-9f1c-44f12f01f648"
      },
      "source": [
        "lista_2[1:11:2] #punto de partida, punto de llegada, stepsize"
      ],
      "execution_count": null,
      "outputs": [
        {
          "output_type": "execute_result",
          "data": {
            "text/plain": [
              "[1, 3, 5, 7, 9]"
            ]
          },
          "metadata": {
            "tags": []
          },
          "execution_count": 63
        }
      ]
    },
    {
      "cell_type": "code",
      "metadata": {
        "colab": {
          "base_uri": "https://localhost:8080/"
        },
        "id": "tMcRGao_TbC3",
        "outputId": "5c1f7f84-4cb4-48de-8fd6-fcb900d9474f"
      },
      "source": [
        "lista_2[::-1]"
      ],
      "execution_count": null,
      "outputs": [
        {
          "output_type": "execute_result",
          "data": {
            "text/plain": [
              "[14, 13, 12, 11, 10, 9, 8, 7, 6, 5, 4, 3, 2, 1, 0]"
            ]
          },
          "metadata": {
            "tags": []
          },
          "execution_count": 66
        }
      ]
    },
    {
      "cell_type": "code",
      "metadata": {
        "colab": {
          "base_uri": "https://localhost:8080/",
          "height": 164
        },
        "id": "0u54KpVYT9yC",
        "outputId": "556e2bae-883f-46d2-c50e-8c8fd4ee053f"
      },
      "source": [
        "lista_2[20]"
      ],
      "execution_count": null,
      "outputs": [
        {
          "output_type": "error",
          "ename": "IndexError",
          "evalue": "ignored",
          "traceback": [
            "\u001b[0;31m---------------------------------------------------------------------------\u001b[0m",
            "\u001b[0;31mIndexError\u001b[0m                                Traceback (most recent call last)",
            "\u001b[0;32m<ipython-input-67-1d2033988230>\u001b[0m in \u001b[0;36m<module>\u001b[0;34m()\u001b[0m\n\u001b[0;32m----> 1\u001b[0;31m \u001b[0mlista_2\u001b[0m\u001b[0;34m[\u001b[0m\u001b[0;36m20\u001b[0m\u001b[0;34m]\u001b[0m\u001b[0;34m\u001b[0m\u001b[0;34m\u001b[0m\u001b[0m\n\u001b[0m",
            "\u001b[0;31mIndexError\u001b[0m: list index out of range"
          ]
        }
      ]
    },
    {
      "cell_type": "code",
      "metadata": {
        "id": "Can4sCj0IYwI"
      },
      "source": [
        "#agregar elementos por posición\n",
        "lista_vacia.insert(0,10)"
      ],
      "execution_count": null,
      "outputs": []
    },
    {
      "cell_type": "code",
      "metadata": {
        "colab": {
          "base_uri": "https://localhost:8080/"
        },
        "id": "x4zVriZCVI8M",
        "outputId": "25c83751-43dd-4d4a-c42e-4affcfe0e489"
      },
      "source": [
        "lista_vacia"
      ],
      "execution_count": null,
      "outputs": [
        {
          "output_type": "execute_result",
          "data": {
            "text/plain": [
              "[10, 6, 7, 8, 4]"
            ]
          },
          "metadata": {
            "tags": []
          },
          "execution_count": 69
        }
      ]
    },
    {
      "cell_type": "code",
      "metadata": {
        "colab": {
          "base_uri": "https://localhost:8080/"
        },
        "id": "22IFoB4DIYwJ",
        "outputId": "909bb21e-890b-4367-ffe9-c259cec4da60"
      },
      "source": [
        "#eliminar un elemento por posición\n",
        "lista_vacia.pop()"
      ],
      "execution_count": null,
      "outputs": [
        {
          "output_type": "execute_result",
          "data": {
            "text/plain": [
              "4"
            ]
          },
          "metadata": {
            "tags": []
          },
          "execution_count": 70
        }
      ]
    },
    {
      "cell_type": "code",
      "metadata": {
        "colab": {
          "base_uri": "https://localhost:8080/"
        },
        "id": "dXcmNe2kVQyj",
        "outputId": "368d12c9-c383-4ee6-81d4-382988a3ad8e"
      },
      "source": [
        "lista_vacia.pop(2)"
      ],
      "execution_count": null,
      "outputs": [
        {
          "output_type": "execute_result",
          "data": {
            "text/plain": [
              "7"
            ]
          },
          "metadata": {
            "tags": []
          },
          "execution_count": 71
        }
      ]
    },
    {
      "cell_type": "code",
      "metadata": {
        "id": "Loinpcu1IYwJ"
      },
      "source": [
        "#limpiar una lista\n",
        "lista_vacia.clear()"
      ],
      "execution_count": null,
      "outputs": []
    },
    {
      "cell_type": "code",
      "metadata": {
        "colab": {
          "base_uri": "https://localhost:8080/"
        },
        "id": "-w_zypBpVcOj",
        "outputId": "c1e6156f-db1d-4193-9850-7baa229f6a1b"
      },
      "source": [
        "lista_vacia"
      ],
      "execution_count": null,
      "outputs": [
        {
          "output_type": "execute_result",
          "data": {
            "text/plain": [
              "[]"
            ]
          },
          "metadata": {
            "tags": []
          },
          "execution_count": 74
        }
      ]
    },
    {
      "cell_type": "code",
      "metadata": {
        "id": "hxT36cTrIYwJ"
      },
      "source": [
        "a = [1,2]\n",
        "b = a"
      ],
      "execution_count": null,
      "outputs": []
    },
    {
      "cell_type": "code",
      "metadata": {
        "colab": {
          "base_uri": "https://localhost:8080/"
        },
        "id": "A-dueddwIYwJ",
        "outputId": "42eab4bb-942d-47c9-abde-2e2348c3cf42"
      },
      "source": [
        "a"
      ],
      "execution_count": null,
      "outputs": [
        {
          "output_type": "execute_result",
          "data": {
            "text/plain": [
              "[1, 2]"
            ]
          },
          "metadata": {
            "tags": []
          },
          "execution_count": 76
        }
      ]
    },
    {
      "cell_type": "code",
      "metadata": {
        "colab": {
          "base_uri": "https://localhost:8080/"
        },
        "id": "sdFK36tyIYwL",
        "outputId": "4681e8e2-e74a-430e-b113-d9ca7df592ed"
      },
      "source": [
        "b"
      ],
      "execution_count": null,
      "outputs": [
        {
          "output_type": "execute_result",
          "data": {
            "text/plain": [
              "[1, 2]"
            ]
          },
          "metadata": {
            "tags": []
          },
          "execution_count": 77
        }
      ]
    },
    {
      "cell_type": "code",
      "metadata": {
        "id": "e8xBN1snIYwM"
      },
      "source": [
        "b.append(4)"
      ],
      "execution_count": null,
      "outputs": []
    },
    {
      "cell_type": "code",
      "metadata": {
        "colab": {
          "base_uri": "https://localhost:8080/"
        },
        "id": "r5PaZ2PKVp6F",
        "outputId": "d5bbfa42-3e06-4b87-c5f4-09db274541ef"
      },
      "source": [
        "b"
      ],
      "execution_count": null,
      "outputs": [
        {
          "output_type": "execute_result",
          "data": {
            "text/plain": [
              "[1, 2, 4]"
            ]
          },
          "metadata": {
            "tags": []
          },
          "execution_count": 79
        }
      ]
    },
    {
      "cell_type": "code",
      "metadata": {
        "colab": {
          "base_uri": "https://localhost:8080/"
        },
        "id": "aC7L8W3sVqiC",
        "outputId": "93461546-c26a-47b1-f52f-a03aefb33246"
      },
      "source": [
        "a"
      ],
      "execution_count": null,
      "outputs": [
        {
          "output_type": "execute_result",
          "data": {
            "text/plain": [
              "[1, 2, 4]"
            ]
          },
          "metadata": {
            "tags": []
          },
          "execution_count": 80
        }
      ]
    },
    {
      "cell_type": "code",
      "metadata": {
        "colab": {
          "base_uri": "https://localhost:8080/"
        },
        "id": "jjxOyP7mIYwM",
        "outputId": "66b0b283-7fc7-433c-d053-e387fe24c766"
      },
      "source": [
        "#copiar una lista\n",
        "\n",
        "lista_2"
      ],
      "execution_count": null,
      "outputs": [
        {
          "output_type": "execute_result",
          "data": {
            "text/plain": [
              "[0, 1, 2, 3, 4, 5, 6, 7, 8, 9, 10, 11, 12, 13, 14]"
            ]
          },
          "metadata": {
            "tags": []
          },
          "execution_count": 81
        }
      ]
    },
    {
      "cell_type": "code",
      "metadata": {
        "id": "whI_ZBZdVykk"
      },
      "source": [
        "lista_3 = lista_2.copy()"
      ],
      "execution_count": null,
      "outputs": []
    },
    {
      "cell_type": "code",
      "metadata": {
        "id": "npVyB7O3V64y"
      },
      "source": [
        "lista_3.append(25)"
      ],
      "execution_count": null,
      "outputs": []
    },
    {
      "cell_type": "code",
      "metadata": {
        "colab": {
          "base_uri": "https://localhost:8080/"
        },
        "id": "uobZXupiV6VX",
        "outputId": "051a3810-6723-48c2-83c5-f2c066195cb6"
      },
      "source": [
        "lista_2"
      ],
      "execution_count": null,
      "outputs": [
        {
          "output_type": "execute_result",
          "data": {
            "text/plain": [
              "[0, 1, 2, 3, 4, 5, 6, 7, 8, 9, 10, 11, 12, 13, 14]"
            ]
          },
          "metadata": {
            "tags": []
          },
          "execution_count": 86
        }
      ]
    },
    {
      "cell_type": "code",
      "metadata": {
        "colab": {
          "base_uri": "https://localhost:8080/"
        },
        "id": "YtkGY383IYwN",
        "outputId": "d6b946fa-b366-40b6-e658-e98a53747139"
      },
      "source": [
        "#contar cuántas veces se repite un elemento en una lista\n",
        "\n",
        "lista_2.count('hola')"
      ],
      "execution_count": null,
      "outputs": [
        {
          "output_type": "execute_result",
          "data": {
            "text/plain": [
              "0"
            ]
          },
          "metadata": {
            "tags": []
          },
          "execution_count": 89
        }
      ]
    },
    {
      "cell_type": "code",
      "metadata": {
        "id": "RRIve8HtIYwN"
      },
      "source": [
        "#organizar una lista\n",
        "lista_final = [5,34,7,1,23,9,76]"
      ],
      "execution_count": null,
      "outputs": []
    },
    {
      "cell_type": "code",
      "metadata": {
        "id": "vjqSYzWMWYCP"
      },
      "source": [
        "lista_final.sort()"
      ],
      "execution_count": null,
      "outputs": []
    },
    {
      "cell_type": "code",
      "metadata": {
        "colab": {
          "base_uri": "https://localhost:8080/"
        },
        "id": "gADtaWgfWXtF",
        "outputId": "b772c51d-bf85-41b9-f5b0-9d5cd58be39e"
      },
      "source": [
        "lista_final"
      ],
      "execution_count": null,
      "outputs": [
        {
          "output_type": "execute_result",
          "data": {
            "text/plain": [
              "[1, 5, 7, 9, 23, 34, 76]"
            ]
          },
          "metadata": {
            "tags": []
          },
          "execution_count": 92
        }
      ]
    },
    {
      "cell_type": "code",
      "metadata": {
        "id": "xQ6EwoOcWgtC"
      },
      "source": [
        "lista_final.sort(reverse=True)"
      ],
      "execution_count": null,
      "outputs": []
    },
    {
      "cell_type": "code",
      "metadata": {
        "colab": {
          "base_uri": "https://localhost:8080/"
        },
        "id": "_kX0xFOSWkfJ",
        "outputId": "d725435f-918a-4a93-d484-86b4099a0b85"
      },
      "source": [
        "lista_final"
      ],
      "execution_count": null,
      "outputs": [
        {
          "output_type": "execute_result",
          "data": {
            "text/plain": [
              "[76, 34, 23, 9, 7, 5, 1]"
            ]
          },
          "metadata": {
            "tags": []
          },
          "execution_count": 94
        }
      ]
    },
    {
      "cell_type": "code",
      "metadata": {
        "id": "8S0gIJa9IYwN"
      },
      "source": [
        "#invertir una lista\n",
        "\n",
        "lista_final.reverse()"
      ],
      "execution_count": null,
      "outputs": []
    },
    {
      "cell_type": "code",
      "metadata": {
        "colab": {
          "base_uri": "https://localhost:8080/"
        },
        "id": "zyMfQ9E_WtTi",
        "outputId": "fc1e966a-51cd-4e7b-86c1-c34a5f32b055"
      },
      "source": [
        "lista_final"
      ],
      "execution_count": null,
      "outputs": [
        {
          "output_type": "execute_result",
          "data": {
            "text/plain": [
              "[76, 9, 23, 1, 7, 34, 5]"
            ]
          },
          "metadata": {
            "tags": []
          },
          "execution_count": 98
        }
      ]
    },
    {
      "cell_type": "code",
      "metadata": {
        "colab": {
          "base_uri": "https://localhost:8080/"
        },
        "id": "fDV8qZeVIYwO",
        "outputId": "a0177fb3-9fea-403f-e5ed-7fb8a1435fd0"
      },
      "source": [
        "#preguntar por el índice de un elemento en una lista\n",
        "lista_final.index(76)"
      ],
      "execution_count": null,
      "outputs": [
        {
          "output_type": "execute_result",
          "data": {
            "text/plain": [
              "0"
            ]
          },
          "metadata": {
            "tags": []
          },
          "execution_count": 99
        }
      ]
    },
    {
      "cell_type": "code",
      "metadata": {
        "colab": {
          "base_uri": "https://localhost:8080/",
          "height": 164
        },
        "id": "Lni8ILpaXDmO",
        "outputId": "e64aceac-3da8-455f-d543-8499d5d88f53"
      },
      "source": [
        "lista_final.index(125)"
      ],
      "execution_count": null,
      "outputs": [
        {
          "output_type": "error",
          "ename": "ValueError",
          "evalue": "ignored",
          "traceback": [
            "\u001b[0;31m---------------------------------------------------------------------------\u001b[0m",
            "\u001b[0;31mValueError\u001b[0m                                Traceback (most recent call last)",
            "\u001b[0;32m<ipython-input-100-1cfb9a48a787>\u001b[0m in \u001b[0;36m<module>\u001b[0;34m()\u001b[0m\n\u001b[0;32m----> 1\u001b[0;31m \u001b[0mlista_final\u001b[0m\u001b[0;34m.\u001b[0m\u001b[0mindex\u001b[0m\u001b[0;34m(\u001b[0m\u001b[0;36m125\u001b[0m\u001b[0;34m)\u001b[0m\u001b[0;34m\u001b[0m\u001b[0;34m\u001b[0m\u001b[0m\n\u001b[0m",
            "\u001b[0;31mValueError\u001b[0m: 125 is not in list"
          ]
        }
      ]
    },
    {
      "cell_type": "markdown",
      "metadata": {
        "id": "wVYYGHpcIYwO"
      },
      "source": [
        "### Tuplas\n",
        "\n",
        "`()`"
      ]
    },
    {
      "cell_type": "code",
      "metadata": {
        "colab": {
          "base_uri": "https://localhost:8080/"
        },
        "id": "v0wiaIwoIYwP",
        "outputId": "98363400-e644-412c-bd24-3b82cd95e45d"
      },
      "source": [
        "tupla = (1,3)\n",
        "type(tupla)"
      ],
      "execution_count": null,
      "outputs": [
        {
          "output_type": "execute_result",
          "data": {
            "text/plain": [
              "tuple"
            ]
          },
          "metadata": {
            "tags": []
          },
          "execution_count": 101
        }
      ]
    },
    {
      "cell_type": "code",
      "metadata": {
        "colab": {
          "base_uri": "https://localhost:8080/"
        },
        "id": "ADCg47MsIYwQ",
        "outputId": "3358b975-1151-44ae-918c-942e051731e2"
      },
      "source": [
        "#contar los elementos de una tupla\n",
        "tupla.count(1)"
      ],
      "execution_count": null,
      "outputs": [
        {
          "output_type": "execute_result",
          "data": {
            "text/plain": [
              "1"
            ]
          },
          "metadata": {
            "tags": []
          },
          "execution_count": 102
        }
      ]
    },
    {
      "cell_type": "code",
      "metadata": {
        "colab": {
          "base_uri": "https://localhost:8080/"
        },
        "id": "co9S_4YqIYwQ",
        "outputId": "e2a5117d-c2ee-4cc4-8fbb-a2a7a9e50a61"
      },
      "source": [
        "#preguntar por el índice de un elemento en una tupla\n",
        "tupla.index(1)"
      ],
      "execution_count": null,
      "outputs": [
        {
          "output_type": "execute_result",
          "data": {
            "text/plain": [
              "0"
            ]
          },
          "metadata": {
            "tags": []
          },
          "execution_count": 104
        }
      ]
    },
    {
      "cell_type": "markdown",
      "metadata": {
        "id": "M3tAvw4JIYwR"
      },
      "source": [
        "### Diccionarios\n",
        "\n",
        "`{key:value}`"
      ]
    },
    {
      "cell_type": "code",
      "metadata": {
        "id": "N49wQzUZIYwR"
      },
      "source": [
        "dic_1 = {'llave':'valores'}"
      ],
      "execution_count": null,
      "outputs": []
    },
    {
      "cell_type": "code",
      "metadata": {
        "colab": {
          "base_uri": "https://localhost:8080/"
        },
        "id": "QCM7dQa9IYwR",
        "outputId": "ad3e0c83-5159-49db-b9b9-5cddb5410750"
      },
      "source": [
        "dic_1"
      ],
      "execution_count": null,
      "outputs": [
        {
          "output_type": "execute_result",
          "data": {
            "text/plain": [
              "{'llave': 'valores'}"
            ]
          },
          "metadata": {
            "tags": []
          },
          "execution_count": 106
        }
      ]
    },
    {
      "cell_type": "code",
      "metadata": {
        "id": "j7z0nHCAIYwS"
      },
      "source": [
        "#agregar un elemento\n",
        "dic_1['roca'] = 'amarilla'"
      ],
      "execution_count": null,
      "outputs": []
    },
    {
      "cell_type": "code",
      "metadata": {
        "id": "ZKGlcpJcYL0f"
      },
      "source": [
        "dic_1['lista_ejemplo'] = [4,5,6,7,'hola',True, 9.4]"
      ],
      "execution_count": null,
      "outputs": []
    },
    {
      "cell_type": "code",
      "metadata": {
        "colab": {
          "base_uri": "https://localhost:8080/",
          "height": 164
        },
        "id": "zmnmusA7YWlq",
        "outputId": "4f06c0f5-3c88-4d4d-f1b4-840ab7375f94"
      },
      "source": [
        "dic_1[0]"
      ],
      "execution_count": null,
      "outputs": [
        {
          "output_type": "error",
          "ename": "KeyError",
          "evalue": "ignored",
          "traceback": [
            "\u001b[0;31m---------------------------------------------------------------------------\u001b[0m",
            "\u001b[0;31mKeyError\u001b[0m                                  Traceback (most recent call last)",
            "\u001b[0;32m<ipython-input-112-207ec83b1ae6>\u001b[0m in \u001b[0;36m<module>\u001b[0;34m()\u001b[0m\n\u001b[0;32m----> 1\u001b[0;31m \u001b[0mdic_1\u001b[0m\u001b[0;34m[\u001b[0m\u001b[0;36m0\u001b[0m\u001b[0;34m]\u001b[0m\u001b[0;34m\u001b[0m\u001b[0;34m\u001b[0m\u001b[0m\n\u001b[0m",
            "\u001b[0;31mKeyError\u001b[0m: 0"
          ]
        }
      ]
    },
    {
      "cell_type": "code",
      "metadata": {
        "id": "8ugC4WxiYe5-"
      },
      "source": [
        "dic_1['lista_ejemplo'].append(87)"
      ],
      "execution_count": null,
      "outputs": []
    },
    {
      "cell_type": "code",
      "metadata": {
        "colab": {
          "base_uri": "https://localhost:8080/"
        },
        "id": "1eXTsrPcYx0X",
        "outputId": "45d32e57-8124-4323-abfa-2d521684fba9"
      },
      "source": [
        "dic_1"
      ],
      "execution_count": null,
      "outputs": [
        {
          "output_type": "execute_result",
          "data": {
            "text/plain": [
              "{'lista_ejemplo': [4, 5, 6, 7, 'hola', True, 9.4, 87],\n",
              " 'llave': 'valores',\n",
              " 'roca': 'amarilla'}"
            ]
          },
          "metadata": {
            "tags": []
          },
          "execution_count": 115
        }
      ]
    },
    {
      "cell_type": "code",
      "metadata": {
        "colab": {
          "base_uri": "https://localhost:8080/"
        },
        "id": "VXEWUNYCIYwU",
        "outputId": "cbbcdc78-9d13-4710-fbf1-6f729e9f90b1"
      },
      "source": [
        "#preguntar por los valores\n",
        "dic_1.values()"
      ],
      "execution_count": null,
      "outputs": [
        {
          "output_type": "execute_result",
          "data": {
            "text/plain": [
              "dict_values(['valores', 'amarilla', [4, 5, 6, 7, 'hola', True, 9.4, 87]])"
            ]
          },
          "metadata": {
            "tags": []
          },
          "execution_count": 117
        }
      ]
    },
    {
      "cell_type": "code",
      "metadata": {
        "colab": {
          "base_uri": "https://localhost:8080/"
        },
        "id": "XVpSrBMXIYwU",
        "outputId": "853eddb0-26c8-4fb9-f9b4-5d7736890f39"
      },
      "source": [
        "#preguntar por las llaves\n",
        "dic_1.keys()"
      ],
      "execution_count": null,
      "outputs": [
        {
          "output_type": "execute_result",
          "data": {
            "text/plain": [
              "dict_keys(['llave', 'roca', 'lista_ejemplo'])"
            ]
          },
          "metadata": {
            "tags": []
          },
          "execution_count": 118
        }
      ]
    },
    {
      "cell_type": "code",
      "metadata": {
        "colab": {
          "base_uri": "https://localhost:8080/"
        },
        "id": "zd2l67SHZCVV",
        "outputId": "4b03bed3-fbbd-49f8-fc54-e932cdf7af5e"
      },
      "source": [
        "# preguntar por los items\n",
        "dic_1.items()"
      ],
      "execution_count": null,
      "outputs": [
        {
          "output_type": "execute_result",
          "data": {
            "text/plain": [
              "dict_items([('llave', 'valores'), ('roca', 'amarilla'), ('lista_ejemplo', [4, 5, 6, 7, 'hola', True, 9.4, 87])])"
            ]
          },
          "metadata": {
            "tags": []
          },
          "execution_count": 119
        }
      ]
    },
    {
      "cell_type": "code",
      "metadata": {
        "id": "m1LLCnqsIYwU"
      },
      "source": [
        "#copiar el diccionario\n",
        "dic_2 = dic_1.copy()"
      ],
      "execution_count": null,
      "outputs": []
    },
    {
      "cell_type": "code",
      "metadata": {
        "colab": {
          "base_uri": "https://localhost:8080/",
          "height": 37
        },
        "id": "kYyOl9SQIYwU",
        "outputId": "b7fdcfce-b829-41e5-9f79-9eae44490a9b"
      },
      "source": [
        "#eliminar un elemento\n",
        "dic_1.pop('llave')\n"
      ],
      "execution_count": null,
      "outputs": [
        {
          "output_type": "execute_result",
          "data": {
            "application/vnd.google.colaboratory.intrinsic+json": {
              "type": "string"
            },
            "text/plain": [
              "'valores'"
            ]
          },
          "metadata": {
            "tags": []
          },
          "execution_count": 121
        }
      ]
    },
    {
      "cell_type": "code",
      "metadata": {
        "colab": {
          "base_uri": "https://localhost:8080/"
        },
        "id": "VET7LEvRZZX4",
        "outputId": "44db9296-133a-48e0-d6e7-a65220b8bb14"
      },
      "source": [
        "dic_1"
      ],
      "execution_count": null,
      "outputs": [
        {
          "output_type": "execute_result",
          "data": {
            "text/plain": [
              "{'lista_ejemplo': [4, 5, 6, 7, 'hola', True, 9.4, 87], 'roca': 'amarilla'}"
            ]
          },
          "metadata": {
            "tags": []
          },
          "execution_count": 122
        }
      ]
    },
    {
      "cell_type": "code",
      "metadata": {
        "id": "3Ss7fseTIYwV"
      },
      "source": [
        "#limpiar el diccionario\n",
        "dic_1.clear()"
      ],
      "execution_count": null,
      "outputs": []
    },
    {
      "cell_type": "code",
      "metadata": {
        "colab": {
          "base_uri": "https://localhost:8080/"
        },
        "id": "Izcq2QtfZg47",
        "outputId": "105ce0f7-56b2-4cc2-f6b9-5dd50fd5342c"
      },
      "source": [
        "dic_1"
      ],
      "execution_count": null,
      "outputs": [
        {
          "output_type": "execute_result",
          "data": {
            "text/plain": [
              "{}"
            ]
          },
          "metadata": {
            "tags": []
          },
          "execution_count": 124
        }
      ]
    },
    {
      "cell_type": "markdown",
      "metadata": {
        "id": "OAzehoRaIYwV"
      },
      "source": [
        "## Funciones"
      ]
    },
    {
      "cell_type": "markdown",
      "metadata": {
        "id": "IlOl5pt8IYwV"
      },
      "source": [
        "### Predeterminadas"
      ]
    },
    {
      "cell_type": "code",
      "metadata": {
        "colab": {
          "base_uri": "https://localhost:8080/"
        },
        "id": "wXUo9n2dIYwW",
        "outputId": "30f6deb1-bd9f-4706-8c09-e8cf8d142d45"
      },
      "source": [
        "#imprimir algo en consola\n",
        "print('Hola, mundo')"
      ],
      "execution_count": null,
      "outputs": [
        {
          "output_type": "stream",
          "text": [
            "Hola, mundo\n"
          ],
          "name": "stdout"
        }
      ]
    },
    {
      "cell_type": "code",
      "metadata": {
        "colab": {
          "base_uri": "https://localhost:8080/"
        },
        "id": "4lSneA1WZuNt",
        "outputId": "1b39001e-7242-4286-8117-d0533a2a2e2b"
      },
      "source": [
        "edad = 10\n",
        "print(f'Mi edad  es {edad}.')"
      ],
      "execution_count": null,
      "outputs": [
        {
          "output_type": "stream",
          "text": [
            "Mi edad  es 10.\n"
          ],
          "name": "stdout"
        }
      ]
    },
    {
      "cell_type": "code",
      "metadata": {
        "colab": {
          "base_uri": "https://localhost:8080/"
        },
        "id": "u9WUTJ40IYwW",
        "outputId": "161e0b06-77c6-4bb3-8223-d4b2d485f132"
      },
      "source": [
        "#tipo de dato\n",
        "type(9)"
      ],
      "execution_count": null,
      "outputs": [
        {
          "output_type": "execute_result",
          "data": {
            "text/plain": [
              "int"
            ]
          },
          "metadata": {
            "tags": []
          },
          "execution_count": 127
        }
      ]
    },
    {
      "cell_type": "code",
      "metadata": {
        "colab": {
          "base_uri": "https://localhost:8080/"
        },
        "id": "wFQA9NAZIYwW",
        "outputId": "628dc76d-49c9-4aad-d69e-80f358d57df2"
      },
      "source": [
        "#sumatoria\n",
        "sum(lista_2)"
      ],
      "execution_count": null,
      "outputs": [
        {
          "output_type": "execute_result",
          "data": {
            "text/plain": [
              "105"
            ]
          },
          "metadata": {
            "tags": []
          },
          "execution_count": 129
        }
      ]
    },
    {
      "cell_type": "code",
      "metadata": {
        "colab": {
          "base_uri": "https://localhost:8080/"
        },
        "id": "AO-N8v9lIYwW",
        "outputId": "26bdbf14-e403-4283-8a92-a781b9b45635"
      },
      "source": [
        "#valor máximo\n",
        "max(lista_2)"
      ],
      "execution_count": null,
      "outputs": [
        {
          "output_type": "execute_result",
          "data": {
            "text/plain": [
              "14"
            ]
          },
          "metadata": {
            "tags": []
          },
          "execution_count": 130
        }
      ]
    },
    {
      "cell_type": "code",
      "metadata": {
        "colab": {
          "base_uri": "https://localhost:8080/"
        },
        "id": "o5ep47-aIYwY",
        "outputId": "b008f467-d3cb-4e80-c5b6-2ee6c26301cf"
      },
      "source": [
        "#valor mínimo\n",
        "min(lista_2)"
      ],
      "execution_count": null,
      "outputs": [
        {
          "output_type": "execute_result",
          "data": {
            "text/plain": [
              "0"
            ]
          },
          "metadata": {
            "tags": []
          },
          "execution_count": 131
        }
      ]
    },
    {
      "cell_type": "code",
      "metadata": {
        "colab": {
          "base_uri": "https://localhost:8080/"
        },
        "id": "iiWBWL_VaG2s",
        "outputId": "56197609-90cd-4620-8516-2f2020d4858a"
      },
      "source": [
        "len(lista_2)"
      ],
      "execution_count": null,
      "outputs": [
        {
          "output_type": "execute_result",
          "data": {
            "text/plain": [
              "15"
            ]
          },
          "metadata": {
            "tags": []
          },
          "execution_count": 132
        }
      ]
    },
    {
      "cell_type": "code",
      "metadata": {
        "colab": {
          "base_uri": "https://localhost:8080/"
        },
        "id": "yzJECOuvIYwY",
        "outputId": "1a6cb112-67a7-44c0-9f45-91224136cbe8"
      },
      "source": [
        "#valor absoluto\n",
        "abs(-45)"
      ],
      "execution_count": null,
      "outputs": [
        {
          "output_type": "execute_result",
          "data": {
            "text/plain": [
              "45"
            ]
          },
          "metadata": {
            "tags": []
          },
          "execution_count": 133
        }
      ]
    },
    {
      "cell_type": "code",
      "metadata": {
        "colab": {
          "base_uri": "https://localhost:8080/"
        },
        "id": "_4SDM1TSIYwZ",
        "outputId": "76da249e-b658-438e-95e9-ba479ea73bb9"
      },
      "source": [
        "#redondear\n",
        "round(4.5677612345,5)"
      ],
      "execution_count": null,
      "outputs": [
        {
          "output_type": "execute_result",
          "data": {
            "text/plain": [
              "4.56776"
            ]
          },
          "metadata": {
            "tags": []
          },
          "execution_count": 134
        }
      ]
    },
    {
      "cell_type": "code",
      "metadata": {
        "colab": {
          "base_uri": "https://localhost:8080/"
        },
        "id": "Qxgk6SW5IYwa",
        "outputId": "0215e820-9a94-4bd4-a450-48230dc85f47"
      },
      "source": [
        "#range\n",
        "list(range(-10,10,2)) #punto de partida, punto de llegada, stepsize"
      ],
      "execution_count": null,
      "outputs": [
        {
          "output_type": "execute_result",
          "data": {
            "text/plain": [
              "[-10, -8, -6, -4, -2, 0, 2, 4, 6, 8]"
            ]
          },
          "metadata": {
            "tags": []
          },
          "execution_count": 137
        }
      ]
    },
    {
      "cell_type": "code",
      "metadata": {
        "colab": {
          "base_uri": "https://localhost:8080/"
        },
        "id": "HM7oN2ExIYwa",
        "outputId": "96f54b5c-4de2-40ba-8551-abd96328a26b"
      },
      "source": [
        "#interacción con el usuario\n",
        "edad = int(input('Escriba su edad: '))\n"
      ],
      "execution_count": null,
      "outputs": [
        {
          "output_type": "stream",
          "text": [
            "Escriba su edad: 35\n"
          ],
          "name": "stdout"
        }
      ]
    },
    {
      "cell_type": "code",
      "metadata": {
        "colab": {
          "base_uri": "https://localhost:8080/"
        },
        "id": "MH-yYoLObM3J",
        "outputId": "bb1e937c-b6d8-45c8-ba78-e93e2b0f4fcf"
      },
      "source": [
        "type(edad)"
      ],
      "execution_count": null,
      "outputs": [
        {
          "output_type": "execute_result",
          "data": {
            "text/plain": [
              "int"
            ]
          },
          "metadata": {
            "tags": []
          },
          "execution_count": 149
        }
      ]
    },
    {
      "cell_type": "code",
      "metadata": {
        "colab": {
          "base_uri": "https://localhost:8080/",
          "height": 37
        },
        "id": "rIvXSH9SIYwb",
        "outputId": "af124760-de83-4ff3-e7b6-92d16e8feeb8"
      },
      "source": [
        "#coerción\n",
        "\n",
        "str(True)"
      ],
      "execution_count": null,
      "outputs": [
        {
          "output_type": "execute_result",
          "data": {
            "application/vnd.google.colaboratory.intrinsic+json": {
              "type": "string"
            },
            "text/plain": [
              "'True'"
            ]
          },
          "metadata": {
            "tags": []
          },
          "execution_count": 144
        }
      ]
    },
    {
      "cell_type": "code",
      "metadata": {
        "colab": {
          "base_uri": "https://localhost:8080/"
        },
        "id": "5DnpGXD8aF-O",
        "outputId": "1b47e90f-e4e3-494c-c984-729566f6fa38"
      },
      "source": [
        "int(4.6)"
      ],
      "execution_count": null,
      "outputs": [
        {
          "output_type": "execute_result",
          "data": {
            "text/plain": [
              "4"
            ]
          },
          "metadata": {
            "tags": []
          },
          "execution_count": 147
        }
      ]
    },
    {
      "cell_type": "code",
      "metadata": {
        "colab": {
          "base_uri": "https://localhost:8080/"
        },
        "id": "ArpQpk1dbgp3",
        "outputId": "a99b0335-1a68-48a2-95f2-44efe2dfcef0"
      },
      "source": [
        "bool()\n",
        "float()\n",
        "list()\n",
        "tuple()\n",
        "dict()"
      ],
      "execution_count": null,
      "outputs": [
        {
          "output_type": "execute_result",
          "data": {
            "text/plain": [
              "2"
            ]
          },
          "metadata": {
            "tags": []
          },
          "execution_count": 146
        }
      ]
    },
    {
      "cell_type": "markdown",
      "metadata": {
        "id": "2srOjhzdIYwb"
      },
      "source": [
        "### Construcción de funciones"
      ]
    },
    {
      "cell_type": "code",
      "metadata": {
        "id": "Wl1__NhRIYwb"
      },
      "source": [
        "#sintaxis básica\n",
        "def mi_funcion(edad, potencia=2):\n",
        "  \"\"\"\n",
        "  Esta es una función que eleva la edad al cuadrado.\n",
        "  \"\"\"\n",
        "  return edad ** potencia\n",
        "\n"
      ],
      "execution_count": null,
      "outputs": []
    },
    {
      "cell_type": "code",
      "metadata": {
        "id": "oUTRxtv_dIXF"
      },
      "source": [
        "def descripcion():\n",
        "  nombre = input('Escriba su nombre: ')\n",
        "  edad = int(input('Escriba su edad: '))\n",
        "  return f'El nombre del usuario es {nombre}. La edad del usuario es {edad}.'"
      ],
      "execution_count": null,
      "outputs": []
    },
    {
      "cell_type": "code",
      "metadata": {
        "id": "egqDLjbaeWCc",
        "colab": {
          "base_uri": "https://localhost:8080/",
          "height": 71
        },
        "outputId": "41dde42b-084a-4e8a-94d9-77c2aa5f4fe7"
      },
      "source": [
        "descripcion()"
      ],
      "execution_count": null,
      "outputs": [
        {
          "output_type": "stream",
          "text": [
            "Escriba su nombre: Carlos\n",
            "Escriba su edad: 35\n"
          ],
          "name": "stdout"
        },
        {
          "output_type": "execute_result",
          "data": {
            "application/vnd.google.colaboratory.intrinsic+json": {
              "type": "string"
            },
            "text/plain": [
              "'El nombre del usuario es Carlos. La edad del usuario es 35.'"
            ]
          },
          "metadata": {
            "tags": []
          },
          "execution_count": 161
        }
      ]
    },
    {
      "cell_type": "code",
      "metadata": {
        "id": "nPsU6M7dIYwc"
      },
      "source": [
        "#*args, **kwargs\n",
        "\n",
        "def potencia(a, b=2):\n",
        "  return a**b"
      ],
      "execution_count": null,
      "outputs": []
    },
    {
      "cell_type": "code",
      "metadata": {
        "colab": {
          "base_uri": "https://localhost:8080/"
        },
        "id": "KeUWS_APy52_",
        "outputId": "71b3fb2b-7634-471d-ba74-1ea8bd84f9b1"
      },
      "source": [
        "potencia(5,3)"
      ],
      "execution_count": null,
      "outputs": [
        {
          "output_type": "execute_result",
          "data": {
            "text/plain": [
              "125"
            ]
          },
          "metadata": {
            "tags": []
          },
          "execution_count": 21
        }
      ]
    },
    {
      "cell_type": "code",
      "metadata": {
        "id": "bMOaV4IYzG6y"
      },
      "source": [
        "def prueba(*args):\n",
        "  print(args)\n",
        "  for arg in args:\n",
        "    if type(arg) == str:\n",
        "      print('str')\n",
        "    elif type(arg) == int:\n",
        "      print('int')\n",
        "    else:\n",
        "      print('No es ni int ni str.')"
      ],
      "execution_count": null,
      "outputs": []
    },
    {
      "cell_type": "code",
      "metadata": {
        "colab": {
          "base_uri": "https://localhost:8080/"
        },
        "id": "Kn5lhNQwzqct",
        "outputId": "9f66867f-7b6c-4abe-b2a5-5dc38dcf233c"
      },
      "source": [
        "prueba(3,4,5,6.7,'hola', 'perro','4')"
      ],
      "execution_count": null,
      "outputs": [
        {
          "output_type": "stream",
          "text": [
            "(3, 4, 5, 6.7, 'hola', 'perro', '4')\n",
            "int\n",
            "int\n",
            "int\n",
            "No es ni int ni str.\n",
            "str\n",
            "str\n",
            "str\n"
          ],
          "name": "stdout"
        }
      ]
    },
    {
      "cell_type": "code",
      "metadata": {
        "id": "GDUiBUZY05Wd"
      },
      "source": [
        "def prueba(diccionario):\n",
        "  for key, value in diccionario.items():\n",
        "    print(key, value)"
      ],
      "execution_count": null,
      "outputs": []
    },
    {
      "cell_type": "code",
      "metadata": {
        "id": "QI4MHlfe06Rz"
      },
      "source": [
        "dic1 = {'Bogotá':'Español',\n",
        "        'Paris':'Francés',\n",
        "        'Lisboa':'Portugués'}"
      ],
      "execution_count": null,
      "outputs": []
    },
    {
      "cell_type": "code",
      "metadata": {
        "colab": {
          "base_uri": "https://localhost:8080/"
        },
        "id": "aqJd2_gA05KS",
        "outputId": "88c795a2-ca34-4b41-cc20-6bd35362e798"
      },
      "source": [
        "prueba(dic1)"
      ],
      "execution_count": null,
      "outputs": [
        {
          "output_type": "stream",
          "text": [
            "Bogotá Español\n",
            "Paris Francés\n",
            "Lisboa Portugués\n"
          ],
          "name": "stdout"
        }
      ]
    },
    {
      "cell_type": "code",
      "metadata": {
        "id": "PDDZg4mK1U05"
      },
      "source": [
        "def prueba(**kwargs):\n",
        "  #print(kwargs)\n",
        "  for key, value in kwargs.items():\n",
        "    print(key,value)"
      ],
      "execution_count": null,
      "outputs": []
    },
    {
      "cell_type": "code",
      "metadata": {
        "colab": {
          "base_uri": "https://localhost:8080/"
        },
        "id": "valqYi691UoN",
        "outputId": "dbd69dea-20a4-437a-ca82-070120e862b3"
      },
      "source": [
        "prueba(Bogotá='Español',Lisboa='Portugués',Paris='Francés')"
      ],
      "execution_count": null,
      "outputs": [
        {
          "output_type": "stream",
          "text": [
            "{'Bogotá': 'Español', 'Lisboa': 'Portugués', 'Paris': 'Francés'}\n",
            "Bogotá Español\n",
            "Lisboa Portugués\n",
            "Paris Francés\n"
          ],
          "name": "stdout"
        }
      ]
    },
    {
      "cell_type": "code",
      "metadata": {
        "id": "v7QMBpvt2jwV"
      },
      "source": [
        "def prueba_2(a,b,*args,**kwargs):\n",
        "  print(a+b)\n",
        "  print(args)\n",
        "  print(kwargs)"
      ],
      "execution_count": null,
      "outputs": []
    },
    {
      "cell_type": "code",
      "metadata": {
        "colab": {
          "base_uri": "https://localhost:8080/"
        },
        "id": "iadLiSmT2oKV",
        "outputId": "19f06762-6728-4101-d012-96917731b9d1"
      },
      "source": [
        "prueba_2(1,2,2,3,4,d=4,f=5)"
      ],
      "execution_count": null,
      "outputs": [
        {
          "output_type": "stream",
          "text": [
            "3\n",
            "(2, 3, 4)\n",
            "{'d': 4, 'f': 5}\n"
          ],
          "name": "stdout"
        }
      ]
    },
    {
      "cell_type": "code",
      "metadata": {
        "id": "BSWHhlvgIYwc"
      },
      "source": [
        "#scope"
      ],
      "execution_count": null,
      "outputs": []
    },
    {
      "cell_type": "code",
      "metadata": {
        "id": "wpdWjCII3Nby"
      },
      "source": [
        "VARIABLE = 5\n",
        "\n",
        "def funcion_2():\n",
        "  global VARIABLE\n",
        "  VARIABLE = 2\n",
        "  print(VARIABLE)"
      ],
      "execution_count": null,
      "outputs": []
    },
    {
      "cell_type": "code",
      "metadata": {
        "colab": {
          "base_uri": "https://localhost:8080/"
        },
        "id": "cYNxT0yr3XUQ",
        "outputId": "d9e31ebd-2af1-4841-a9f8-003b6aebaf74"
      },
      "source": [
        "funcion_2()"
      ],
      "execution_count": null,
      "outputs": [
        {
          "output_type": "stream",
          "text": [
            "2\n"
          ],
          "name": "stdout"
        }
      ]
    },
    {
      "cell_type": "code",
      "metadata": {
        "colab": {
          "base_uri": "https://localhost:8080/"
        },
        "id": "RC8iXn5E3jqz",
        "outputId": "2b3c4e4b-799d-4e19-e3ca-054f124793c2"
      },
      "source": [
        "VARIABLE"
      ],
      "execution_count": null,
      "outputs": [
        {
          "output_type": "execute_result",
          "data": {
            "text/plain": [
              "2"
            ]
          },
          "metadata": {
            "tags": []
          },
          "execution_count": 78
        }
      ]
    },
    {
      "cell_type": "code",
      "metadata": {
        "colab": {
          "base_uri": "https://localhost:8080/"
        },
        "id": "_gsUdk2e3jbg",
        "outputId": "40479562-13b6-441e-8e92-14870c3d44b5"
      },
      "source": [
        "def funcion_externa():\n",
        "  x = 10\n",
        "\n",
        "  def funcion_interna():\n",
        "    global x\n",
        "    x = 25\n",
        "\n",
        "  print(f'Este es el valor de x antes de modificarlo: {x}')\n",
        "  print(f'Ahora llamaremos a la funcion_interna()')\n",
        "  funcion_interna()\n",
        "  print(f'Este es el valor de x después de la función_interna: {x}')\n",
        "\n",
        "funcion_externa()\n",
        "print(x)"
      ],
      "execution_count": null,
      "outputs": [
        {
          "output_type": "stream",
          "text": [
            "Este es el valor de x antes de modificarlo: 10\n",
            "Ahora llamaremos a la funcion_interna()\n",
            "Este es el valor de x después de la función_interna: 10\n",
            "25\n"
          ],
          "name": "stdout"
        }
      ]
    },
    {
      "cell_type": "markdown",
      "metadata": {
        "id": "dz_dUgZaIYwc"
      },
      "source": [
        "### Funciones anónimas"
      ]
    },
    {
      "cell_type": "code",
      "metadata": {
        "id": "g-2VdS7bIYwd"
      },
      "source": [
        "def operacion(a,b):\n",
        "  \n",
        "\n",
        "  return a+b,a-b,a*b,a/b"
      ],
      "execution_count": null,
      "outputs": []
    },
    {
      "cell_type": "code",
      "metadata": {
        "colab": {
          "base_uri": "https://localhost:8080/"
        },
        "id": "VLspisNg6chS",
        "outputId": "8b04bcca-d0f0-4487-b9dc-3a0b437d9a6a"
      },
      "source": [
        "operacion(4,5)"
      ],
      "execution_count": null,
      "outputs": [
        {
          "output_type": "execute_result",
          "data": {
            "text/plain": [
              "(9, -1, 20, 0.8)"
            ]
          },
          "metadata": {
            "tags": []
          },
          "execution_count": 87
        }
      ]
    },
    {
      "cell_type": "code",
      "metadata": {
        "id": "xW5qTCgL7TLu"
      },
      "source": [
        "resta = lambda a,b: (a - b, a + b)"
      ],
      "execution_count": null,
      "outputs": []
    },
    {
      "cell_type": "code",
      "metadata": {
        "colab": {
          "base_uri": "https://localhost:8080/"
        },
        "id": "a-rEljhE7dcj",
        "outputId": "b97d6ca1-3450-4e6a-f6ce-09761fe6ab2c"
      },
      "source": [
        "resta(2,3)"
      ],
      "execution_count": null,
      "outputs": [
        {
          "output_type": "execute_result",
          "data": {
            "text/plain": [
              "(-1, 5)"
            ]
          },
          "metadata": {
            "tags": []
          },
          "execution_count": 90
        }
      ]
    },
    {
      "cell_type": "code",
      "metadata": {
        "id": "VbfJgdUz7d9E"
      },
      "source": [
        ""
      ],
      "execution_count": null,
      "outputs": []
    }
  ]
}