{
  "nbformat": 4,
  "nbformat_minor": 0,
  "metadata": {
    "kernelspec": {
      "display_name": "Python 3",
      "language": "python",
      "name": "python3"
    },
    "language_info": {
      "codemirror_mode": {
        "name": "ipython",
        "version": 3
      },
      "file_extension": ".py",
      "mimetype": "text/x-python",
      "name": "python",
      "nbconvert_exporter": "python",
      "pygments_lexer": "ipython3",
      "version": "3.8.5"
    },
    "colab": {
      "name": "clase_3.ipynb",
      "provenance": []
    }
  },
  "cells": [
    {
      "cell_type": "markdown",
      "metadata": {
        "id": "8MAy0td4e4_I"
      },
      "source": [
        "# Clase 3: rudimentos de python (II)"
      ]
    },
    {
      "cell_type": "markdown",
      "metadata": {
        "id": "9ZmcpK--e4_J"
      },
      "source": [
        "## Condicionales\n",
        "`if`, `elif`, `else`"
      ]
    },
    {
      "cell_type": "code",
      "metadata": {
        "colab": {
          "base_uri": "https://localhost:8080/"
        },
        "id": "BMBIHyd-e4_K",
        "outputId": "1dfb704c-7cad-450f-c21c-5620d4751ec9"
      },
      "source": [
        "x = 4\n",
        "\n",
        "if x == 4:\n",
        "  print('Hola')\n",
        "elif x < 10:\n",
        "  print('Efectivamente')\n",
        "else:\n",
        "  print('No')"
      ],
      "execution_count": null,
      "outputs": [
        {
          "output_type": "stream",
          "text": [
            "Hola\n"
          ],
          "name": "stdout"
        }
      ]
    },
    {
      "cell_type": "markdown",
      "metadata": {
        "id": "tws4r5fi-sD3"
      },
      "source": [
        "Construya una función que reciba un número entero. Si el número es menor a 0, que imprima 'Negativo'. Si el número es mayor a 0 y menor a 10, que imprima 'Positivo y menor a 10'. Si es entero y mayor a 10, que no imprima nada.\n",
        "\n",
        "Si es string, que imprima 'Es un texto. Se requiere un número entero.'\n",
        "\n",
        "Si se ingresa otro tipo de dato, que imprima 'Dato inválido. Se requiere un número entero.'"
      ]
    },
    {
      "cell_type": "code",
      "metadata": {
        "id": "QMLMTPR1-oec"
      },
      "source": [
        "def entero(a):\n",
        "  if type(a)==int:\n",
        "    if a < 0:\n",
        "      print('Negativo')\n",
        "    elif (a > 0) and (a < 10):\n",
        "      print('Positivo y menor a 10.')\n",
        "    else:\n",
        "      None\n",
        "  elif type(a)==str:\n",
        "    print('Es un texto. Se requiere un número entero.')\n",
        "  else:\n",
        "    print('Dato inválido. Se requiere un número entero.')\n"
      ],
      "execution_count": null,
      "outputs": []
    },
    {
      "cell_type": "code",
      "metadata": {
        "colab": {
          "base_uri": "https://localhost:8080/"
        },
        "id": "ipbV96BB-oNB",
        "outputId": "8b4251bb-f0ff-4ce2-ed0e-4e440b35b00a"
      },
      "source": [
        "entero(4.5)"
      ],
      "execution_count": null,
      "outputs": [
        {
          "output_type": "stream",
          "text": [
            "Dato inválido. Se requiere un número entero.\n"
          ],
          "name": "stdout"
        }
      ]
    },
    {
      "cell_type": "code",
      "metadata": {
        "id": "wF_zTHgd-n-e"
      },
      "source": [
        ""
      ],
      "execution_count": null,
      "outputs": []
    },
    {
      "cell_type": "markdown",
      "metadata": {
        "id": "AZe7YFjUe4_L"
      },
      "source": [
        "## Bucle for\n",
        "\n",
        "```for i in iterable:```\n",
        "\n",
        "```   #cuerpo del bucle ```"
      ]
    },
    {
      "cell_type": "code",
      "metadata": {
        "colab": {
          "base_uri": "https://localhost:8080/"
        },
        "id": "6R2tdtJXe4_L",
        "outputId": "c98973da-0327-445d-9bda-c8373b47d7a0"
      },
      "source": [
        "#sintaxis básica\n",
        "\n",
        "lista_pares = []\n",
        "lista_impares = []\n",
        "for i in range(0,30):\n",
        "  if i == 0:\n",
        "    None\n",
        "  elif i % 2 == 0:\n",
        "    lista_pares.append(i)\n",
        "  else:\n",
        "    lista_impares.append(i)\n",
        "\n",
        "print(lista_pares)\n",
        "print(lista_impares)\n"
      ],
      "execution_count": null,
      "outputs": [
        {
          "output_type": "stream",
          "text": [
            "[2, 4, 6, 8, 10, 12, 14, 16, 18, 20, 22, 24, 26, 28]\n",
            "[1, 3, 5, 7, 9, 11, 13, 15, 17, 19, 21, 23, 25, 27, 29]\n"
          ],
          "name": "stdout"
        }
      ]
    },
    {
      "cell_type": "code",
      "metadata": {
        "colab": {
          "base_uri": "https://localhost:8080/"
        },
        "id": "0shlBc3ee4_M",
        "outputId": "c57db90b-944d-4e81-f0e9-e69c31e436cb"
      },
      "source": [
        "#bucles anidados\n",
        "\n",
        "for i in range(3):\n",
        "  for j in range(3):\n",
        "    print(i,j)"
      ],
      "execution_count": null,
      "outputs": [
        {
          "output_type": "stream",
          "text": [
            "0 0\n",
            "0 1\n",
            "0 2\n",
            "1 0\n",
            "1 1\n",
            "1 2\n",
            "2 0\n",
            "2 1\n",
            "2 2\n"
          ],
          "name": "stdout"
        }
      ]
    },
    {
      "cell_type": "markdown",
      "metadata": {
        "id": "fWUeeosBe4_M"
      },
      "source": [
        "## Bucle while"
      ]
    },
    {
      "cell_type": "code",
      "metadata": {
        "colab": {
          "base_uri": "https://localhost:8080/"
        },
        "id": "KE4jjjNQe4_N",
        "outputId": "64603c3f-d910-4c23-f631-e77609883011"
      },
      "source": [
        "#sintaxis básica\n",
        "contador = 0\n",
        "while contador < 10:\n",
        "  print(f'La cuenta va en {contador}')\n",
        "  contador += 1"
      ],
      "execution_count": null,
      "outputs": [
        {
          "output_type": "stream",
          "text": [
            "La cuenta va en 0\n",
            "La cuenta va en 1\n",
            "La cuenta va en 2\n",
            "La cuenta va en 3\n",
            "La cuenta va en 4\n",
            "La cuenta va en 5\n",
            "La cuenta va en 6\n",
            "La cuenta va en 7\n",
            "La cuenta va en 8\n",
            "La cuenta va en 9\n"
          ],
          "name": "stdout"
        }
      ]
    },
    {
      "cell_type": "code",
      "metadata": {
        "colab": {
          "base_uri": "https://localhost:8080/"
        },
        "id": "ZKJdyEe-DsEQ",
        "outputId": "6beeec21-f2af-49c0-a660-4999e252829a"
      },
      "source": [
        "contador"
      ],
      "execution_count": null,
      "outputs": [
        {
          "output_type": "execute_result",
          "data": {
            "text/plain": [
              "10"
            ]
          },
          "metadata": {
            "tags": []
          },
          "execution_count": 20
        }
      ]
    },
    {
      "cell_type": "code",
      "metadata": {
        "id": "9i4RPgwKe4_N"
      },
      "source": [
        "#bucle infinito\n",
        "while contador == 10:\n",
        "  print('Esto es un bucle infinito.')"
      ],
      "execution_count": null,
      "outputs": []
    },
    {
      "cell_type": "code",
      "metadata": {
        "id": "JkjsC7GJEVw9"
      },
      "source": [
        "for i in range(50):\n",
        "  if i % 3 == 0:\n",
        "    print(i, 'ya no se va a ver el código')\n",
        "    continue\n",
        "  elif i > 30:\n",
        "    break\n",
        "  print(i,'Se ve el código')"
      ],
      "execution_count": null,
      "outputs": []
    },
    {
      "cell_type": "code",
      "metadata": {
        "id": "NFMGo962EVcn"
      },
      "source": [
        ""
      ],
      "execution_count": null,
      "outputs": []
    },
    {
      "cell_type": "markdown",
      "metadata": {
        "id": "MKVT6sUNe4_O"
      },
      "source": [
        "## List comprehension"
      ]
    },
    {
      "cell_type": "code",
      "metadata": {
        "id": "ViiwX5qU-y1o",
        "colab": {
          "base_uri": "https://localhost:8080/"
        },
        "outputId": "ffc99fda-3944-4cbe-8347-485e2328f731"
      },
      "source": [
        "%%time\n",
        "lista_vacia = []\n",
        "\n",
        "for i in range(20):\n",
        "  lista_vacia.append(i**2)"
      ],
      "execution_count": null,
      "outputs": [
        {
          "output_type": "stream",
          "text": [
            "CPU times: user 20 µs, sys: 0 ns, total: 20 µs\n",
            "Wall time: 24.3 µs\n"
          ],
          "name": "stdout"
        }
      ]
    },
    {
      "cell_type": "code",
      "metadata": {
        "colab": {
          "base_uri": "https://localhost:8080/"
        },
        "id": "o-JCTsb5OojB",
        "outputId": "b3221e0b-4e5a-42b0-f652-114e35d0c953"
      },
      "source": [
        "%%time\n",
        "lista_2 = [(i**2,i**3) for i in range(20) if i %2 == 0]"
      ],
      "execution_count": null,
      "outputs": [
        {
          "output_type": "stream",
          "text": [
            "CPU times: user 15 µs, sys: 2 µs, total: 17 µs\n",
            "Wall time: 23.4 µs\n"
          ],
          "name": "stdout"
        }
      ]
    },
    {
      "cell_type": "code",
      "metadata": {
        "colab": {
          "base_uri": "https://localhost:8080/"
        },
        "id": "2UwWbXI2Ps75",
        "outputId": "cc3d9945-c57b-4c20-b9d2-53d3bdb6f8a2"
      },
      "source": [
        "%%time\n",
        "matriz = [[1,2,3],\n",
        "          [4,5,6],\n",
        "          [7,8,9]]\n",
        "\n",
        "vec = [valor for lista in matriz for valor in lista]"
      ],
      "execution_count": null,
      "outputs": [
        {
          "output_type": "stream",
          "text": [
            "CPU times: user 6 µs, sys: 0 ns, total: 6 µs\n",
            "Wall time: 10 µs\n"
          ],
          "name": "stdout"
        }
      ]
    },
    {
      "cell_type": "code",
      "metadata": {
        "colab": {
          "base_uri": "https://localhost:8080/"
        },
        "id": "HWG09GycQea_",
        "outputId": "db454cf3-5829-4d79-d223-5ead3cf4fd2d"
      },
      "source": [
        "%%time\n",
        "vector = []\n",
        "for lista in matriz:\n",
        "  for valor in lista:\n",
        "    vector.append(valor)"
      ],
      "execution_count": null,
      "outputs": [
        {
          "output_type": "stream",
          "text": [
            "CPU times: user 7 µs, sys: 0 ns, total: 7 µs\n",
            "Wall time: 10.3 µs\n"
          ],
          "name": "stdout"
        }
      ]
    },
    {
      "cell_type": "code",
      "metadata": {
        "colab": {
          "base_uri": "https://localhost:8080/"
        },
        "id": "Y2Mwc7YRRSsM",
        "outputId": "e510a29b-1097-4c55-fd7c-7997bdffe38d"
      },
      "source": [
        "vector"
      ],
      "execution_count": null,
      "outputs": [
        {
          "output_type": "execute_result",
          "data": {
            "text/plain": [
              "[1, 2, 3, 4, 5, 6, 7, 8, 9]"
            ]
          },
          "metadata": {
            "tags": []
          },
          "execution_count": 24
        }
      ]
    },
    {
      "cell_type": "code",
      "metadata": {
        "id": "vgo5K-Gte4_O"
      },
      "source": [
        "#sintaxis"
      ],
      "execution_count": null,
      "outputs": []
    },
    {
      "cell_type": "markdown",
      "metadata": {
        "id": "Wwky1gc4e4_P"
      },
      "source": [
        "## Dict comprehension"
      ]
    },
    {
      "cell_type": "code",
      "metadata": {
        "id": "AY209_ac-53H"
      },
      "source": [
        "dic_vacio = {}\n",
        "\n",
        "for i in range(20):\n",
        "  dic_vacio[i] = i**2"
      ],
      "execution_count": null,
      "outputs": []
    },
    {
      "cell_type": "code",
      "metadata": {
        "colab": {
          "base_uri": "https://localhost:8080/"
        },
        "id": "QcCjodL0R5un",
        "outputId": "c4e996b5-a13b-4a73-9235-d15505fe90f6"
      },
      "source": [
        "dic_vacio"
      ],
      "execution_count": null,
      "outputs": [
        {
          "output_type": "execute_result",
          "data": {
            "text/plain": [
              "{0: 0,\n",
              " 1: 1,\n",
              " 2: 4,\n",
              " 3: 9,\n",
              " 4: 16,\n",
              " 5: 25,\n",
              " 6: 36,\n",
              " 7: 49,\n",
              " 8: 64,\n",
              " 9: 81,\n",
              " 10: 100,\n",
              " 11: 121,\n",
              " 12: 144,\n",
              " 13: 169,\n",
              " 14: 196,\n",
              " 15: 225,\n",
              " 16: 256,\n",
              " 17: 289,\n",
              " 18: 324,\n",
              " 19: 361}"
            ]
          },
          "metadata": {
            "tags": []
          },
          "execution_count": 40
        }
      ]
    },
    {
      "cell_type": "code",
      "metadata": {
        "id": "Js7mYND5e4_P"
      },
      "source": [
        "#sintaxis\n",
        "\n",
        "dic_comp = {i:i**2 for i in range(20)}"
      ],
      "execution_count": null,
      "outputs": []
    },
    {
      "cell_type": "markdown",
      "metadata": {
        "id": "7b58rdM7e4_Q"
      },
      "source": [
        "## Funciones zip, enumerate"
      ]
    },
    {
      "cell_type": "code",
      "metadata": {
        "id": "qpEBN7ya_IJc"
      },
      "source": [
        "#puedo iterar sobre varios iterables de manera simultánea\n",
        "x = [i for i in range(10)]\n",
        "y = [i**2 for i in range(10)]\n",
        "z = [i**3 for i in range(11)]"
      ],
      "execution_count": null,
      "outputs": []
    },
    {
      "cell_type": "code",
      "metadata": {
        "id": "CaetJC26Ta3G"
      },
      "source": [
        "dic = {}\n",
        "for i,j,k in zip(x,y,z):\n",
        "  dic[i] = (j,k)"
      ],
      "execution_count": null,
      "outputs": []
    },
    {
      "cell_type": "code",
      "metadata": {
        "colab": {
          "base_uri": "https://localhost:8080/"
        },
        "id": "OOJNNi1YTalD",
        "outputId": "8dcfabb3-77ce-4ead-afc9-847d3780fc03"
      },
      "source": [
        "dic"
      ],
      "execution_count": null,
      "outputs": [
        {
          "output_type": "execute_result",
          "data": {
            "text/plain": [
              "{0: (0, 0),\n",
              " 1: (1, 1),\n",
              " 2: (4, 8),\n",
              " 3: (9, 27),\n",
              " 4: (16, 64),\n",
              " 5: (25, 125),\n",
              " 6: (36, 216),\n",
              " 7: (49, 343),\n",
              " 8: (64, 512),\n",
              " 9: (81, 729)}"
            ]
          },
          "metadata": {
            "tags": []
          },
          "execution_count": 60
        }
      ]
    },
    {
      "cell_type": "code",
      "metadata": {
        "id": "zaEItWLRe4_Q",
        "colab": {
          "base_uri": "https://localhost:8080/"
        },
        "outputId": "348f393f-7eb9-4436-ba8d-89a1ab6b2422"
      },
      "source": [
        "#puedo iterar con un indicador de posición\n",
        "lista = list(range(0,21,3))\n",
        "\n",
        "for i in range(len(lista)):\n",
        "  print(i, lista[i])"
      ],
      "execution_count": null,
      "outputs": [
        {
          "output_type": "stream",
          "text": [
            "0 0\n",
            "1 3\n",
            "2 6\n",
            "3 9\n",
            "4 12\n",
            "5 15\n",
            "6 18\n"
          ],
          "name": "stdout"
        }
      ]
    },
    {
      "cell_type": "code",
      "metadata": {
        "colab": {
          "base_uri": "https://localhost:8080/"
        },
        "id": "v2qJRIK4Vsh3",
        "outputId": "63d2706f-184c-4bdb-e47f-e28c4a52bdf4"
      },
      "source": [
        "for i  in enumerate(lista):\n",
        "  print(i)"
      ],
      "execution_count": null,
      "outputs": [
        {
          "output_type": "stream",
          "text": [
            "(0, 0)\n",
            "(1, 3)\n",
            "(2, 6)\n",
            "(3, 9)\n",
            "(4, 12)\n",
            "(5, 15)\n",
            "(6, 18)\n"
          ],
          "name": "stdout"
        }
      ]
    },
    {
      "cell_type": "markdown",
      "metadata": {
        "id": "kl_mfYL7e4_R"
      },
      "source": [
        "## Generadores: yield"
      ]
    },
    {
      "cell_type": "code",
      "metadata": {
        "id": "JXYGDVKde4_S"
      },
      "source": [
        "#sintaxis básica\n",
        "def generador(n):\n",
        "  for i in range(n):\n",
        "    yield i"
      ],
      "execution_count": null,
      "outputs": []
    },
    {
      "cell_type": "code",
      "metadata": {
        "colab": {
          "base_uri": "https://localhost:8080/"
        },
        "id": "KKUVr8ymWtlR",
        "outputId": "fb30be46-fb8a-4aa7-bbe8-ebdb1ac837a1"
      },
      "source": [
        "n = 10\n",
        "a = generador(n)\n",
        "contador = 0\n",
        "while contador < n:\n",
        "  print(next(a))\n",
        "  contador += 1"
      ],
      "execution_count": null,
      "outputs": [
        {
          "output_type": "stream",
          "text": [
            "0\n",
            "1\n",
            "2\n",
            "3\n",
            "4\n"
          ],
          "name": "stdout"
        }
      ]
    },
    {
      "cell_type": "code",
      "metadata": {
        "colab": {
          "base_uri": "https://localhost:8080/",
          "height": 164
        },
        "id": "2sOYrtS0Xb0j",
        "outputId": "419b1b07-29fe-4f81-e6fd-86066bbef063"
      },
      "source": [
        "next(a)"
      ],
      "execution_count": null,
      "outputs": [
        {
          "output_type": "error",
          "ename": "StopIteration",
          "evalue": "ignored",
          "traceback": [
            "\u001b[0;31m---------------------------------------------------------------------------\u001b[0m",
            "\u001b[0;31mStopIteration\u001b[0m                             Traceback (most recent call last)",
            "\u001b[0;32m<ipython-input-73-15841f3f11d4>\u001b[0m in \u001b[0;36m<module>\u001b[0;34m()\u001b[0m\n\u001b[0;32m----> 1\u001b[0;31m \u001b[0mnext\u001b[0m\u001b[0;34m(\u001b[0m\u001b[0ma\u001b[0m\u001b[0;34m)\u001b[0m\u001b[0;34m\u001b[0m\u001b[0;34m\u001b[0m\u001b[0m\n\u001b[0m",
            "\u001b[0;31mStopIteration\u001b[0m: "
          ]
        }
      ]
    },
    {
      "cell_type": "code",
      "metadata": {
        "colab": {
          "base_uri": "https://localhost:8080/"
        },
        "id": "EnEqHiRSXebt",
        "outputId": "85c711ce-5051-4a30-fdd6-df5efef7b1b2"
      },
      "source": [
        "list(generador(10))"
      ],
      "execution_count": null,
      "outputs": [
        {
          "output_type": "execute_result",
          "data": {
            "text/plain": [
              "[0, 1, 2, 3, 4, 5, 6, 7, 8, 9]"
            ]
          },
          "metadata": {
            "tags": []
          },
          "execution_count": 74
        }
      ]
    },
    {
      "cell_type": "code",
      "metadata": {
        "id": "lhFg0cnNXv5D"
      },
      "source": [
        "import random as rd\n",
        "import statistics as st"
      ],
      "execution_count": null,
      "outputs": []
    },
    {
      "cell_type": "code",
      "metadata": {
        "id": "9Wby5GeCX7wH"
      },
      "source": [
        "def gen_1(n):\n",
        "  for i in range(n):\n",
        "    yield rd.normalvariate(0,1)"
      ],
      "execution_count": null,
      "outputs": []
    },
    {
      "cell_type": "code",
      "metadata": {
        "id": "gEh1d9lRYLzy"
      },
      "source": [
        "for i in range(50):\n",
        "  media = st.mean(list(gen_1(200)))\n",
        "  print(media)"
      ],
      "execution_count": null,
      "outputs": []
    },
    {
      "cell_type": "code",
      "metadata": {
        "id": "c4WqKp4NYLao"
      },
      "source": [
        "b = generador(3)"
      ],
      "execution_count": null,
      "outputs": []
    },
    {
      "cell_type": "code",
      "metadata": {
        "colab": {
          "base_uri": "https://localhost:8080/",
          "height": 164
        },
        "id": "zJ6zZL5-ZhDG",
        "outputId": "67261d39-7398-4a20-eee5-12d18f4fdf18"
      },
      "source": [
        "next(b)"
      ],
      "execution_count": null,
      "outputs": [
        {
          "output_type": "error",
          "ename": "StopIteration",
          "evalue": "ignored",
          "traceback": [
            "\u001b[0;31m---------------------------------------------------------------------------\u001b[0m",
            "\u001b[0;31mStopIteration\u001b[0m                             Traceback (most recent call last)",
            "\u001b[0;32m<ipython-input-93-adb3e17b0219>\u001b[0m in \u001b[0;36m<module>\u001b[0;34m()\u001b[0m\n\u001b[0;32m----> 1\u001b[0;31m \u001b[0mnext\u001b[0m\u001b[0;34m(\u001b[0m\u001b[0mb\u001b[0m\u001b[0;34m)\u001b[0m\u001b[0;34m\u001b[0m\u001b[0;34m\u001b[0m\u001b[0m\n\u001b[0m",
            "\u001b[0;31mStopIteration\u001b[0m: "
          ]
        }
      ]
    },
    {
      "cell_type": "code",
      "metadata": {
        "id": "LhNqsbUBZgob"
      },
      "source": [
        ""
      ],
      "execution_count": null,
      "outputs": []
    },
    {
      "cell_type": "markdown",
      "metadata": {
        "id": "DpbVBt1se4_S"
      },
      "source": [
        "## Funciones filter, map"
      ]
    },
    {
      "cell_type": "code",
      "metadata": {
        "id": "P858JdjYe4_T"
      },
      "source": [
        "#iterable, condición\n",
        "#iterable, función"
      ],
      "execution_count": null,
      "outputs": []
    },
    {
      "cell_type": "code",
      "metadata": {
        "id": "FnF9uFTZb8eH"
      },
      "source": [
        "def gen_2(n):\n",
        "  for i in range(n):\n",
        "    yield i"
      ],
      "execution_count": null,
      "outputs": []
    },
    {
      "cell_type": "code",
      "metadata": {
        "id": "etQrocJGb2vr"
      },
      "source": [
        "list(filter(lambda x: x%2==0, gen_2(50)))"
      ],
      "execution_count": null,
      "outputs": []
    },
    {
      "cell_type": "code",
      "metadata": {
        "colab": {
          "base_uri": "https://localhost:8080/"
        },
        "id": "yaZ4K_83craS",
        "outputId": "24cb3c8e-12b9-4ef7-8988-fbebd2d1fd20"
      },
      "source": [
        "list(map(lambda x: (x**2, x**3), gen_2(15)))"
      ],
      "execution_count": null,
      "outputs": [
        {
          "output_type": "execute_result",
          "data": {
            "text/plain": [
              "[(0, 0),\n",
              " (1, 1),\n",
              " (4, 8),\n",
              " (9, 27),\n",
              " (16, 64),\n",
              " (25, 125),\n",
              " (36, 216),\n",
              " (49, 343),\n",
              " (64, 512),\n",
              " (81, 729),\n",
              " (100, 1000),\n",
              " (121, 1331),\n",
              " (144, 1728),\n",
              " (169, 2197),\n",
              " (196, 2744)]"
            ]
          },
          "metadata": {
            "tags": []
          },
          "execution_count": 101
        }
      ]
    },
    {
      "cell_type": "markdown",
      "metadata": {
        "id": "qHi9Vnrre4_T"
      },
      "source": [
        "## Módulos\n",
        "\n",
        "`math`, `statistics`, `random`"
      ]
    },
    {
      "cell_type": "code",
      "metadata": {
        "id": "498EIouPe4_U"
      },
      "source": [
        "import math\n",
        "import statistics as st\n",
        "import random as rd"
      ],
      "execution_count": null,
      "outputs": []
    },
    {
      "cell_type": "code",
      "metadata": {
        "id": "TvD2xE3Kdt4h"
      },
      "source": [
        "#from math import *\n",
        "\n",
        "from math import factorial"
      ],
      "execution_count": null,
      "outputs": []
    },
    {
      "cell_type": "markdown",
      "metadata": {
        "id": "2RqKKLRae4_V"
      },
      "source": [
        "$$\\text{Factorial}$$\n",
        "$$n!=\\prod_{i=1}^n i$$"
      ]
    },
    {
      "cell_type": "code",
      "metadata": {
        "id": "ck6UHT0Me4_V",
        "colab": {
          "base_uri": "https://localhost:8080/"
        },
        "outputId": "c1d60044-101f-4975-e32e-a240deca0550"
      },
      "source": [
        "math.factorial(6)"
      ],
      "execution_count": null,
      "outputs": [
        {
          "output_type": "execute_result",
          "data": {
            "text/plain": [
              "720"
            ]
          },
          "metadata": {
            "tags": []
          },
          "execution_count": 104
        }
      ]
    },
    {
      "cell_type": "code",
      "metadata": {
        "colab": {
          "base_uri": "https://localhost:8080/",
          "height": 164
        },
        "id": "TWXeLcxXd1fO",
        "outputId": "f3468142-bf60-4218-e0d3-b24e4df76b1b"
      },
      "source": [
        "math.comb(6,3)"
      ],
      "execution_count": null,
      "outputs": [
        {
          "output_type": "error",
          "ename": "AttributeError",
          "evalue": "ignored",
          "traceback": [
            "\u001b[0;31m---------------------------------------------------------------------------\u001b[0m",
            "\u001b[0;31mAttributeError\u001b[0m                            Traceback (most recent call last)",
            "\u001b[0;32m<ipython-input-108-b9b402482801>\u001b[0m in \u001b[0;36m<module>\u001b[0;34m()\u001b[0m\n\u001b[0;32m----> 1\u001b[0;31m \u001b[0mmath\u001b[0m\u001b[0;34m.\u001b[0m\u001b[0mcomb\u001b[0m\u001b[0;34m(\u001b[0m\u001b[0;36m6\u001b[0m\u001b[0;34m,\u001b[0m\u001b[0;36m3\u001b[0m\u001b[0;34m)\u001b[0m\u001b[0;34m\u001b[0m\u001b[0;34m\u001b[0m\u001b[0m\n\u001b[0m",
            "\u001b[0;31mAttributeError\u001b[0m: module 'math' has no attribute 'comb'"
          ]
        }
      ]
    },
    {
      "cell_type": "markdown",
      "metadata": {
        "id": "OJZslM89e4_W"
      },
      "source": [
        "$$\\text{Coeficiente binomial}$$\n",
        "$$\\frac{n!}{k!\\cdot(n-k)!}$$"
      ]
    },
    {
      "cell_type": "code",
      "metadata": {
        "id": "DHVVtB6Le4_X",
        "outputId": "d2d4f553-13c9-45cf-e7f8-cbc49da68151"
      },
      "source": [
        "math.comb(3,2)"
      ],
      "execution_count": null,
      "outputs": [
        {
          "output_type": "execute_result",
          "data": {
            "text/plain": [
              "3"
            ]
          },
          "metadata": {
            "tags": []
          },
          "execution_count": 7
        }
      ]
    },
    {
      "cell_type": "markdown",
      "metadata": {
        "id": "-8wjUSDYe4_Y"
      },
      "source": [
        "$$e^x$$"
      ]
    },
    {
      "cell_type": "code",
      "metadata": {
        "id": "XH63x69fe4_Y",
        "colab": {
          "base_uri": "https://localhost:8080/"
        },
        "outputId": "4eaa7eb1-f3fc-4176-8e88-d15bfbea7ed2"
      },
      "source": [
        "math.exp(4)"
      ],
      "execution_count": null,
      "outputs": [
        {
          "output_type": "execute_result",
          "data": {
            "text/plain": [
              "54.598150033144236"
            ]
          },
          "metadata": {
            "tags": []
          },
          "execution_count": 109
        }
      ]
    },
    {
      "cell_type": "markdown",
      "metadata": {
        "id": "3blfIPZAe4_Z"
      },
      "source": [
        "$$\\ln 5$$"
      ]
    },
    {
      "cell_type": "code",
      "metadata": {
        "id": "ROTsYCR0e4_Z",
        "colab": {
          "base_uri": "https://localhost:8080/"
        },
        "outputId": "4dbbd136-9e76-4e24-ea3c-36769643e842"
      },
      "source": [
        "math.log(5)"
      ],
      "execution_count": null,
      "outputs": [
        {
          "output_type": "execute_result",
          "data": {
            "text/plain": [
              "1.6094379124341003"
            ]
          },
          "metadata": {
            "tags": []
          },
          "execution_count": 110
        }
      ]
    },
    {
      "cell_type": "markdown",
      "metadata": {
        "id": "sSN8n4Gce4_a"
      },
      "source": [
        "$$x^n$$"
      ]
    },
    {
      "cell_type": "code",
      "metadata": {
        "id": "rjMlRLe8e4_b",
        "colab": {
          "base_uri": "https://localhost:8080/"
        },
        "outputId": "850c3551-00b6-4ec7-b0a0-ea1912f991d5"
      },
      "source": [
        "math.pow(5,2)"
      ],
      "execution_count": null,
      "outputs": [
        {
          "output_type": "execute_result",
          "data": {
            "text/plain": [
              "25.0"
            ]
          },
          "metadata": {
            "tags": []
          },
          "execution_count": 111
        }
      ]
    },
    {
      "cell_type": "code",
      "metadata": {
        "id": "7ekKDGyfe4_c",
        "outputId": "1a855915-bd2c-4c77-f5ad-60f73b57d921"
      },
      "source": [
        "pow(5,2)"
      ],
      "execution_count": null,
      "outputs": [
        {
          "output_type": "execute_result",
          "data": {
            "text/plain": [
              "25"
            ]
          },
          "metadata": {
            "tags": []
          },
          "execution_count": 16
        }
      ]
    },
    {
      "cell_type": "markdown",
      "metadata": {
        "id": "bHRQeDyRe4_d"
      },
      "source": [
        "$$\\sqrt{25}$$"
      ]
    },
    {
      "cell_type": "code",
      "metadata": {
        "id": "l0patCM1e4_d",
        "outputId": "f695135c-063e-4f18-8af2-914d7b23ad12"
      },
      "source": [
        "math.sqrt(5)"
      ],
      "execution_count": null,
      "outputs": [
        {
          "output_type": "execute_result",
          "data": {
            "text/plain": [
              "2.23606797749979"
            ]
          },
          "metadata": {
            "tags": []
          },
          "execution_count": 17
        }
      ]
    },
    {
      "cell_type": "markdown",
      "metadata": {
        "id": "lVKQDi94e4_e"
      },
      "source": [
        "$$\\pi$$"
      ]
    },
    {
      "cell_type": "code",
      "metadata": {
        "id": "XSd4Wx6Ke4_e",
        "outputId": "a32c3850-2b0c-465d-fd58-45dde75840aa"
      },
      "source": [
        "math.pi"
      ],
      "execution_count": null,
      "outputs": [
        {
          "output_type": "execute_result",
          "data": {
            "text/plain": [
              "3.141592653589793"
            ]
          },
          "metadata": {
            "tags": []
          },
          "execution_count": 19
        }
      ]
    },
    {
      "cell_type": "markdown",
      "metadata": {
        "id": "Xl3mNwmie4_f"
      },
      "source": [
        "$$e$$"
      ]
    },
    {
      "cell_type": "code",
      "metadata": {
        "id": "1zyR0yDMe4_f",
        "outputId": "3fffa5c3-1c88-4b40-9bdc-af1ca933d5d9"
      },
      "source": [
        "math.e"
      ],
      "execution_count": null,
      "outputs": [
        {
          "output_type": "execute_result",
          "data": {
            "text/plain": [
              "2.718281828459045"
            ]
          },
          "metadata": {
            "tags": []
          },
          "execution_count": 18
        }
      ]
    },
    {
      "cell_type": "code",
      "metadata": {
        "id": "1c0pxVM9e4_g",
        "outputId": "68afd897-3356-47e1-f0ba-3c8ecd029eb4"
      },
      "source": [
        "math.log(math.e)"
      ],
      "execution_count": null,
      "outputs": [
        {
          "output_type": "execute_result",
          "data": {
            "text/plain": [
              "1.0"
            ]
          },
          "metadata": {
            "tags": []
          },
          "execution_count": 20
        }
      ]
    },
    {
      "cell_type": "code",
      "metadata": {
        "id": "m7hlmpVTe4_g"
      },
      "source": [
        "lista = [rd.randint(0,26) for i in range(100)]"
      ],
      "execution_count": null,
      "outputs": []
    },
    {
      "cell_type": "markdown",
      "metadata": {
        "id": "TMLpIHvee4_h"
      },
      "source": [
        "$$\\frac{1}{n}\\sum_{i=1}^n x_i$$"
      ]
    },
    {
      "cell_type": "code",
      "metadata": {
        "id": "P0QzsVJoe4_i",
        "colab": {
          "base_uri": "https://localhost:8080/"
        },
        "outputId": "a9dc2e39-26f7-46d3-b44a-ab14d3427865"
      },
      "source": [
        "st.mean(lista)"
      ],
      "execution_count": null,
      "outputs": [
        {
          "output_type": "execute_result",
          "data": {
            "text/plain": [
              "13.36"
            ]
          },
          "metadata": {
            "tags": []
          },
          "execution_count": 113
        }
      ]
    },
    {
      "cell_type": "code",
      "metadata": {
        "id": "bx5BUUtBe4_i",
        "colab": {
          "base_uri": "https://localhost:8080/"
        },
        "outputId": "665d9ba1-e8e1-44a9-afb4-1f33994ce143"
      },
      "source": [
        "st.median(lista)"
      ],
      "execution_count": null,
      "outputs": [
        {
          "output_type": "execute_result",
          "data": {
            "text/plain": [
              "12.0"
            ]
          },
          "metadata": {
            "tags": []
          },
          "execution_count": 114
        }
      ]
    },
    {
      "cell_type": "code",
      "metadata": {
        "id": "MUyGJxTGe4_j",
        "colab": {
          "base_uri": "https://localhost:8080/"
        },
        "outputId": "7695207e-fd76-42ea-c79a-45969a927adf"
      },
      "source": [
        "st.mode(lista)"
      ],
      "execution_count": null,
      "outputs": [
        {
          "output_type": "execute_result",
          "data": {
            "text/plain": [
              "4"
            ]
          },
          "metadata": {
            "tags": []
          },
          "execution_count": 122
        }
      ]
    },
    {
      "cell_type": "code",
      "metadata": {
        "id": "Nm9mI6aBe4_j",
        "colab": {
          "base_uri": "https://localhost:8080/",
          "height": 164
        },
        "outputId": "901842a3-4d5f-4898-d226-efc515068684"
      },
      "source": [
        "st.quantiles(lista)"
      ],
      "execution_count": null,
      "outputs": [
        {
          "output_type": "error",
          "ename": "AttributeError",
          "evalue": "ignored",
          "traceback": [
            "\u001b[0;31m---------------------------------------------------------------------------\u001b[0m",
            "\u001b[0;31mAttributeError\u001b[0m                            Traceback (most recent call last)",
            "\u001b[0;32m<ipython-input-123-ee6f131ae5a6>\u001b[0m in \u001b[0;36m<module>\u001b[0;34m()\u001b[0m\n\u001b[0;32m----> 1\u001b[0;31m \u001b[0mst\u001b[0m\u001b[0;34m.\u001b[0m\u001b[0mquantiles\u001b[0m\u001b[0;34m(\u001b[0m\u001b[0mlista\u001b[0m\u001b[0;34m)\u001b[0m\u001b[0;34m\u001b[0m\u001b[0;34m\u001b[0m\u001b[0m\n\u001b[0m",
            "\u001b[0;31mAttributeError\u001b[0m: module 'statistics' has no attribute 'quantiles'"
          ]
        }
      ]
    },
    {
      "cell_type": "code",
      "metadata": {
        "id": "tAOMB4tfe4_k",
        "colab": {
          "base_uri": "https://localhost:8080/"
        },
        "outputId": "7924006f-5a7c-4b2b-b17b-a844646e0dbb"
      },
      "source": [
        "st.stdev(lista)"
      ],
      "execution_count": null,
      "outputs": [
        {
          "output_type": "execute_result",
          "data": {
            "text/plain": [
              "7.897186559500513"
            ]
          },
          "metadata": {
            "tags": []
          },
          "execution_count": 124
        }
      ]
    },
    {
      "cell_type": "code",
      "metadata": {
        "id": "ie2ZcNmme4_k",
        "colab": {
          "base_uri": "https://localhost:8080/"
        },
        "outputId": "a0fc25ad-325a-490f-e092-54f7bc5acc5b"
      },
      "source": [
        "st.variance(lista)"
      ],
      "execution_count": null,
      "outputs": [
        {
          "output_type": "execute_result",
          "data": {
            "text/plain": [
              "62.36555555555555"
            ]
          },
          "metadata": {
            "tags": []
          },
          "execution_count": 125
        }
      ]
    },
    {
      "cell_type": "code",
      "metadata": {
        "id": "w9IMMaWae4_l",
        "outputId": "b41c7fbb-2bfc-45db-c8ec-f1fcb41f9c44"
      },
      "source": [
        "rd.randrange(0,50)"
      ],
      "execution_count": null,
      "outputs": [
        {
          "output_type": "execute_result",
          "data": {
            "text/plain": [
              "2"
            ]
          },
          "metadata": {
            "tags": []
          },
          "execution_count": 30
        }
      ]
    },
    {
      "cell_type": "code",
      "metadata": {
        "id": "L8p8p1YPe4_l",
        "outputId": "7993cfcc-d2f5-49bf-bdc5-72de99bd6b4c"
      },
      "source": [
        "rd.randint(0,26)"
      ],
      "execution_count": null,
      "outputs": [
        {
          "output_type": "execute_result",
          "data": {
            "text/plain": [
              "21"
            ]
          },
          "metadata": {
            "tags": []
          },
          "execution_count": 31
        }
      ]
    },
    {
      "cell_type": "code",
      "metadata": {
        "id": "wmAChwjne4_l",
        "outputId": "49fd7bdc-58a8-4daf-dcb2-b9a9f58482a4"
      },
      "source": [
        "rd.choice([9,5,6,7])"
      ],
      "execution_count": null,
      "outputs": [
        {
          "output_type": "execute_result",
          "data": {
            "text/plain": [
              "5"
            ]
          },
          "metadata": {
            "tags": []
          },
          "execution_count": 33
        }
      ]
    },
    {
      "cell_type": "code",
      "metadata": {
        "id": "bTszvU2Re4_m",
        "colab": {
          "base_uri": "https://localhost:8080/"
        },
        "outputId": "3c9158ff-c251-4297-f01e-01bdb4408653"
      },
      "source": [
        "rd.gauss(1,0.5)"
      ],
      "execution_count": null,
      "outputs": [
        {
          "output_type": "execute_result",
          "data": {
            "text/plain": [
              "-0.19601232128489032"
            ]
          },
          "metadata": {
            "tags": []
          },
          "execution_count": 126
        }
      ]
    },
    {
      "cell_type": "code",
      "metadata": {
        "id": "rfeuF5PMe4_m",
        "colab": {
          "base_uri": "https://localhost:8080/"
        },
        "outputId": "52be6663-0885-4972-c489-8a3e47e033e3"
      },
      "source": [
        "muestra = rd.sample(lista,5)\n",
        "muestra"
      ],
      "execution_count": null,
      "outputs": [
        {
          "output_type": "execute_result",
          "data": {
            "text/plain": [
              "[22, 4, 19, 25, 18]"
            ]
          },
          "metadata": {
            "tags": []
          },
          "execution_count": 127
        }
      ]
    },
    {
      "cell_type": "code",
      "metadata": {
        "id": "UypYjKp7e4_n",
        "colab": {
          "base_uri": "https://localhost:8080/"
        },
        "outputId": "74796be0-8724-4cf4-c389-885b8baf3109"
      },
      "source": [
        "rd.shuffle(muestra)\n",
        "muestra"
      ],
      "execution_count": null,
      "outputs": [
        {
          "output_type": "execute_result",
          "data": {
            "text/plain": [
              "[19, 18, 22, 4, 25]"
            ]
          },
          "metadata": {
            "tags": []
          },
          "execution_count": 128
        }
      ]
    },
    {
      "cell_type": "code",
      "metadata": {
        "id": "-sfWzQzVfEVp"
      },
      "source": [
        "help(rd)"
      ],
      "execution_count": null,
      "outputs": []
    },
    {
      "cell_type": "code",
      "metadata": {
        "id": "eBP9r5Ppfa45"
      },
      "source": [
        ""
      ],
      "execution_count": null,
      "outputs": []
    }
  ]
}