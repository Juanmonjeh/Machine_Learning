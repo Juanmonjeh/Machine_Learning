{
  "nbformat": 4,
  "nbformat_minor": 0,
  "metadata": {
    "kernelspec": {
      "display_name": "Python 3",
      "language": "python",
      "name": "python3"
    },
    "language_info": {
      "codemirror_mode": {
        "name": "ipython",
        "version": 3
      },
      "file_extension": ".py",
      "mimetype": "text/x-python",
      "name": "python",
      "nbconvert_exporter": "python",
      "pygments_lexer": "ipython3",
      "version": "3.8.5"
    },
    "colab": {
      "name": "clase_4.ipynb",
      "provenance": []
    }
  },
  "cells": [
    {
      "cell_type": "markdown",
      "metadata": {
        "id": "UxrVblUVob8t"
      },
      "source": [
        "# Clase 4: rudimentos de python (III)"
      ]
    },
    {
      "cell_type": "markdown",
      "metadata": {
        "id": "7XM91O8Lob8u"
      },
      "source": [
        "## Errores"
      ]
    },
    {
      "cell_type": "code",
      "metadata": {
        "colab": {
          "base_uri": "https://localhost:8080/"
        },
        "id": "Wqew-dMuob8u",
        "outputId": "0d14631a-71dc-4b4e-abb7-5669ceb48af7"
      },
      "source": [
        "#try, except\n",
        "\n",
        "while True:\n",
        "  try:\n",
        "    x = int(input('Por favor, ingrese un número: '))\n",
        "    #print(a)\n",
        "    break\n",
        "  except (ValueError, TypeError):\n",
        "    print('Hay un error. El dato no es un número. Escriba otro.')\n",
        "  except NameError:\n",
        "    print('La variable a no está definida.')\n"
      ],
      "execution_count": null,
      "outputs": [
        {
          "output_type": "stream",
          "text": [
            "Por favor, ingrese un número: 4\n"
          ],
          "name": "stdout"
        }
      ]
    },
    {
      "cell_type": "code",
      "metadata": {
        "colab": {
          "base_uri": "https://localhost:8080/"
        },
        "id": "av0NYALt2lSn",
        "outputId": "4abcb2f6-2232-4b51-d3f2-0536ce028134"
      },
      "source": [
        "try:\n",
        "  print(a)\n",
        "except NameError as e:\n",
        "  print(f'La variable a no está definida. Ocurrió un {e}')"
      ],
      "execution_count": null,
      "outputs": [
        {
          "output_type": "stream",
          "text": [
            "La variable a no está definida. Ocurrió un name 'a' is not defined\n"
          ],
          "name": "stdout"
        }
      ]
    },
    {
      "cell_type": "code",
      "metadata": {
        "colab": {
          "base_uri": "https://localhost:8080/"
        },
        "id": "kvwLjn132vOz",
        "outputId": "eb595bcb-4270-43f3-9cb8-8b6cf73a6e3a"
      },
      "source": [
        "try:\n",
        "  print(x)\n",
        "except:\n",
        "  print('Se presentó un error.')\n",
        "else:\n",
        "  print(f'El valor de x es {x}.')"
      ],
      "execution_count": null,
      "outputs": [
        {
          "output_type": "stream",
          "text": [
            "4\n",
            "El valor de x es 4.\n"
          ],
          "name": "stdout"
        }
      ]
    },
    {
      "cell_type": "code",
      "metadata": {
        "colab": {
          "base_uri": "https://localhost:8080/"
        },
        "id": "FMw-iP-Z7hxX",
        "outputId": "2c2857aa-81e8-471d-f20d-2bb6220d94fb"
      },
      "source": [
        "try:\n",
        "  print(a)\n",
        "except:\n",
        "  print('Se presentó un error.')\n",
        "finally:\n",
        "  print('Esto se ejecutará sin importar qué pase.')"
      ],
      "execution_count": null,
      "outputs": [
        {
          "output_type": "stream",
          "text": [
            "Se presentó un error.\n",
            "Esto se ejecutará sin importar qué pase.\n"
          ],
          "name": "stdout"
        }
      ]
    },
    {
      "cell_type": "markdown",
      "metadata": {
        "id": "_3HvcAcoob8v"
      },
      "source": [
        "\n",
        "## Programación orientada a objetos"
      ]
    },
    {
      "cell_type": "code",
      "metadata": {
        "id": "eqAAPxR-ob8w"
      },
      "source": [
        "class Mesa:\n",
        "\n",
        "  def __init__(self, n_patas, color: str, capacidad: int, rota=False):\n",
        "    self.n_patas = n_patas\n",
        "    self.rota = rota\n",
        "    self.color = color\n",
        "    self.capacidad = capacidad\n",
        "\n",
        "  def romper(self):\n",
        "    if self.rota == False:\n",
        "      self.rota = True\n",
        "    else:\n",
        "      print('La mesa ya está rota.')\n",
        "\n",
        "  def pintar(self, color: str):\n",
        "    self.color = color\n",
        "\n",
        "  def apoyar(self, numero_cosas: int):\n",
        "    if self.capacidad >= numero_cosas:\n",
        "      self.capacidad = self.capacidad - numero_cosas\n",
        "    elif self.capacidad == 0:\n",
        "      print('La mesa está llena.')\n",
        "    else:\n",
        "      print(f'Solo se pueden apoyar {self.capacidad} cosas.')\n",
        "\n",
        "  def retirar(self, numero_cosas: int):\n",
        "    espacio_libre = self.capacidad + numero_cosas\n",
        "    if espacio_libre > 20:\n",
        "      print(f'No es posible. Solo hay {20-self.capacidad} cosas.')\n",
        "    else:\n",
        "      self.capacidad = espacio_libre\n",
        "\n",
        "\n",
        "\n",
        "\n",
        "\n"
      ],
      "execution_count": null,
      "outputs": []
    },
    {
      "cell_type": "code",
      "metadata": {
        "id": "jiJ9UpfbSFMh"
      },
      "source": [
        ""
      ],
      "execution_count": null,
      "outputs": []
    }
  ]
}